{
 "cells": [
  {
   "cell_type": "code",
   "execution_count": 1,
   "id": "557df6a3",
   "metadata": {},
   "outputs": [
    {
     "data": {
      "text/plain": [
       "20"
      ]
     },
     "execution_count": 1,
     "metadata": {},
     "output_type": "execute_result"
    }
   ],
   "source": [
    "#abs(): Returns the absolute value of a number.\n",
    "integer = -20\n",
    "abs(integer)  "
   ]
  },
  {
   "cell_type": "code",
   "execution_count": 2,
   "id": "29d6fb7e",
   "metadata": {},
   "outputs": [
    {
     "ename": "NameError",
     "evalue": "name 'Abs' is not defined",
     "output_type": "error",
     "traceback": [
      "\u001b[1;31m---------------------------------------------------------------------------\u001b[0m",
      "\u001b[1;31mNameError\u001b[0m                                 Traceback (most recent call last)",
      "\u001b[1;32m~\\AppData\\Local\\Temp/ipykernel_3784/178991404.py\u001b[0m in \u001b[0;36m<module>\u001b[1;34m\u001b[0m\n\u001b[1;32m----> 1\u001b[1;33m \u001b[0mAbs\u001b[0m\u001b[1;33m(\u001b[0m\u001b[1;33m)\u001b[0m\u001b[1;33m\u001b[0m\u001b[1;33m\u001b[0m\u001b[0m\n\u001b[0m\u001b[0;32m      2\u001b[0m \u001b[0mabs\u001b[0m\u001b[1;33m(\u001b[0m\u001b[1;33m)\u001b[0m\u001b[1;33m\u001b[0m\u001b[1;33m\u001b[0m\u001b[0m\n\u001b[0;32m      3\u001b[0m \u001b[0mAbsolute\u001b[0m\u001b[1;33m(\u001b[0m\u001b[1;33m)\u001b[0m\u001b[1;33m\u001b[0m\u001b[1;33m\u001b[0m\u001b[0m\n",
      "\u001b[1;31mNameError\u001b[0m: name 'Abs' is not defined"
     ]
    }
   ],
   "source": [
    "Abs()\n",
    "abs()\n",
    "Absolute()"
   ]
  },
  {
   "cell_type": "code",
   "execution_count": null,
   "id": "c1f9c49d",
   "metadata": {},
   "outputs": [],
   "source": [
    "print('Absolute value of -20 is:', abs(integer)) "
   ]
  },
  {
   "cell_type": "code",
   "execution_count": null,
   "id": "1bf995b7",
   "metadata": {},
   "outputs": [],
   "source": [
    "#  floating number  \n",
    "\n",
    "floating = -20.83 \n",
    "\n",
    "print('Absolute value of -20.83 is:', abs(floating))  "
   ]
  },
  {
   "cell_type": "code",
   "execution_count": 3,
   "id": "1969b385",
   "metadata": {},
   "outputs": [],
   "source": [
    "#all(): It returns true if all items passed in iterable object are true. \n",
    "#Otherwise, it returns False.\n",
    "#This fxn accepts an iterable object (such as list, dictionary, etc.). \n",
    "# all values true  \n",
    "\n",
    "k = [1, 3, 4, 6, -3]  "
   ]
  },
  {
   "cell_type": "code",
   "execution_count": 4,
   "id": "1ce204d3",
   "metadata": {},
   "outputs": [
    {
     "name": "stdout",
     "output_type": "stream",
     "text": [
      "True\n"
     ]
    }
   ],
   "source": [
    "print(all(k))"
   ]
  },
  {
   "cell_type": "code",
   "execution_count": 5,
   "id": "d7026f9f",
   "metadata": {},
   "outputs": [],
   "source": [
    "# all values false  \n",
    "\n",
    "k = [0, False, 3]    "
   ]
  },
  {
   "cell_type": "code",
   "execution_count": 6,
   "id": "aa04d11a",
   "metadata": {},
   "outputs": [
    {
     "name": "stdout",
     "output_type": "stream",
     "text": [
      "False\n"
     ]
    }
   ],
   "source": [
    "print(all(k))"
   ]
  },
  {
   "cell_type": "code",
   "execution_count": 7,
   "id": "1962ba08",
   "metadata": {},
   "outputs": [],
   "source": [
    "# one false value  \n",
    "k = [1, 3, 7, 0]  "
   ]
  },
  {
   "cell_type": "code",
   "execution_count": 8,
   "id": "7be03131",
   "metadata": {},
   "outputs": [
    {
     "name": "stdout",
     "output_type": "stream",
     "text": [
      "False\n"
     ]
    }
   ],
   "source": [
    "print(all(k))"
   ]
  },
  {
   "cell_type": "code",
   "execution_count": 9,
   "id": "72ce3e2e",
   "metadata": {},
   "outputs": [],
   "source": [
    "#sum(): Used to get the sum of numbers of an iterable, i.e., list.\n",
    "\n",
    "list_1 = [1,2,4]  "
   ]
  },
  {
   "cell_type": "code",
   "execution_count": 10,
   "id": "cc6a6037",
   "metadata": {},
   "outputs": [],
   "source": [
    "s = sum(list_1)"
   ]
  },
  {
   "cell_type": "code",
   "execution_count": null,
   "id": "325f69c2",
   "metadata": {},
   "outputs": [],
   "source": [
    "print(s)  "
   ]
  },
  {
   "cell_type": "code",
   "execution_count": 11,
   "id": "2e6694e7",
   "metadata": {},
   "outputs": [
    {
     "name": "stdout",
     "output_type": "stream",
     "text": [
      "17\n"
     ]
    }
   ],
   "source": [
    "s = sum(list_1, 10)  \n",
    "print(s) "
   ]
  },
  {
   "cell_type": "code",
   "execution_count": 12,
   "id": "03f2ff83",
   "metadata": {},
   "outputs": [],
   "source": [
    "#len(): Returns the length (the number of items) of an object.\n",
    "\n",
    "strA = ' Python ' \n",
    "#strA = 'Returns the length (the number of items) of an object'"
   ]
  },
  {
   "cell_type": "code",
   "execution_count": 13,
   "id": "a42b3ea8",
   "metadata": {},
   "outputs": [
    {
     "name": "stdout",
     "output_type": "stream",
     "text": [
      "8\n"
     ]
    }
   ],
   "source": [
    "print(len(strA))"
   ]
  },
  {
   "cell_type": "code",
   "execution_count": 14,
   "id": "e8fc09ff",
   "metadata": {},
   "outputs": [],
   "source": [
    "#list() creates a list in python.\n",
    "# empty list  \n",
    "\n",
    "Gaurav = list()"
   ]
  },
  {
   "cell_type": "code",
   "execution_count": 15,
   "id": "2b726354",
   "metadata": {},
   "outputs": [
    {
     "name": "stdout",
     "output_type": "stream",
     "text": [
      "[]\n"
     ]
    }
   ],
   "source": [
    "print(Gaurav)"
   ]
  },
  {
   "cell_type": "code",
   "execution_count": 16,
   "id": "8f503673",
   "metadata": {},
   "outputs": [],
   "source": [
    "#Converting string to list\n",
    "String = \"abcde\"     "
   ]
  },
  {
   "cell_type": "code",
   "execution_count": 17,
   "id": "08e42a9a",
   "metadata": {},
   "outputs": [
    {
     "name": "stdout",
     "output_type": "stream",
     "text": [
      "['a', 'b', 'c', 'd', 'e']\n"
     ]
    }
   ],
   "source": [
    "print(list(String)) "
   ]
  },
  {
   "cell_type": "code",
   "execution_count": 19,
   "id": "0e368cb1",
   "metadata": {},
   "outputs": [],
   "source": [
    "#divmod(): Used to get quotient and remainder of two numbers. \n",
    "#This function takes two numeric arguments and returns a tuple. \n",
    "#Both arguments are required and numeric \n",
    "# Calling function  \n",
    "result = divmod(11,2)"
   ]
  },
  {
   "cell_type": "code",
   "execution_count": 20,
   "id": "716d952a",
   "metadata": {},
   "outputs": [
    {
     "name": "stdout",
     "output_type": "stream",
     "text": [
      "(5, 1)\n"
     ]
    }
   ],
   "source": [
    "# Displaying result  \n",
    "print(result)"
   ]
  },
  {
   "cell_type": "code",
   "execution_count": 21,
   "id": "83435ae2",
   "metadata": {},
   "outputs": [],
   "source": [
    "#dict(): Its a constructor which creates a dictionary. \n",
    "# Calling function  \n",
    "result = dict() # returns an empty dictionary "
   ]
  },
  {
   "cell_type": "code",
   "execution_count": 22,
   "id": "d5055e66",
   "metadata": {},
   "outputs": [
    {
     "name": "stdout",
     "output_type": "stream",
     "text": [
      "{}\n"
     ]
    }
   ],
   "source": [
    "print(result)"
   ]
  },
  {
   "cell_type": "code",
   "execution_count": 23,
   "id": "1991d01b",
   "metadata": {},
   "outputs": [],
   "source": [
    "result2 = dict(a=1,b=2)"
   ]
  },
  {
   "cell_type": "code",
   "execution_count": 24,
   "id": "9da2a0c6",
   "metadata": {},
   "outputs": [
    {
     "name": "stdout",
     "output_type": "stream",
     "text": [
      "{'a': 1, 'b': 2}\n"
     ]
    }
   ],
   "source": [
    "# Displaying result  \n",
    "print(result2) "
   ]
  },
  {
   "cell_type": "code",
   "execution_count": 25,
   "id": "31da0d13",
   "metadata": {},
   "outputs": [
    {
     "name": "stdout",
     "output_type": "stream",
     "text": [
      "set()\n"
     ]
    }
   ],
   "source": [
    "#set(): It is used to create a new set using elements passed during the call. \n",
    "#It takes an iterable object as an argument and returns a new set object.\n",
    "# Calling function  \n",
    "result = set() # empty set \n",
    "print(result)"
   ]
  },
  {
   "cell_type": "code",
   "execution_count": 27,
   "id": "6ff3e811",
   "metadata": {},
   "outputs": [],
   "source": [
    "result2 = set('1633')  "
   ]
  },
  {
   "cell_type": "code",
   "execution_count": 28,
   "id": "eaa91f0d",
   "metadata": {},
   "outputs": [],
   "source": [
    "result3 = set('javatpoint is something which I like') "
   ]
  },
  {
   "cell_type": "code",
   "execution_count": 29,
   "id": "a5820afb",
   "metadata": {},
   "outputs": [],
   "source": [
    "result4 = {1,2}"
   ]
  },
  {
   "cell_type": "code",
   "execution_count": 30,
   "id": "eb3a9fb9",
   "metadata": {},
   "outputs": [
    {
     "name": "stdout",
     "output_type": "stream",
     "text": [
      "set()\n"
     ]
    }
   ],
   "source": [
    "print(result)  \n"
   ]
  },
  {
   "cell_type": "code",
   "execution_count": 31,
   "id": "43551140",
   "metadata": {},
   "outputs": [
    {
     "name": "stdout",
     "output_type": "stream",
     "text": [
      "{'3', '1', '6'}\n"
     ]
    }
   ],
   "source": [
    "print(result2)  \n"
   ]
  },
  {
   "cell_type": "code",
   "execution_count": 32,
   "id": "b1b7ac03",
   "metadata": {},
   "outputs": [
    {
     "name": "stdout",
     "output_type": "stream",
     "text": [
      "{'w', 'v', 'o', ' ', 'I', 'c', 'i', 't', 'l', 'e', 'm', 'n', 'k', 'g', 'p', 'j', 'h', 'a', 's'}\n"
     ]
    }
   ],
   "source": [
    "print(result3)  \n"
   ]
  },
  {
   "cell_type": "code",
   "execution_count": 33,
   "id": "610411d7",
   "metadata": {},
   "outputs": [
    {
     "name": "stdout",
     "output_type": "stream",
     "text": [
      "{1, 2}\n"
     ]
    }
   ],
   "source": [
    "print (result4)"
   ]
  },
  {
   "cell_type": "code",
   "execution_count": 34,
   "id": "57a49b07",
   "metadata": {},
   "outputs": [
    {
     "name": "stdout",
     "output_type": "stream",
     "text": [
      "16\n"
     ]
    }
   ],
   "source": [
    "#pow(): Used to compute the power of a number.\n",
    "# positive x, positive y (x**y)  \n",
    "print(pow(4, 2))"
   ]
  },
  {
   "cell_type": "code",
   "execution_count": 35,
   "id": "4adf3368",
   "metadata": {},
   "outputs": [
    {
     "name": "stdout",
     "output_type": "stream",
     "text": [
      "16\n"
     ]
    }
   ],
   "source": [
    "# negative x, positive y  \n",
    "print(pow(-4, 2))"
   ]
  },
  {
   "cell_type": "code",
   "execution_count": 36,
   "id": "572b80b7",
   "metadata": {},
   "outputs": [
    {
     "name": "stdout",
     "output_type": "stream",
     "text": [
      "t1= ()\n"
     ]
    }
   ],
   "source": [
    "#tuple(): Used to create a tuple object.\n",
    "t1 = tuple()  \n",
    "print('t1=', t1)  "
   ]
  },
  {
   "cell_type": "code",
   "execution_count": null,
   "id": "d4544c81",
   "metadata": {},
   "outputs": [],
   "source": [
    "# creating a tuple from a list \n",
    "l =  [1, 6, 9]\n",
    "t2 = tuple(l)    #tuple([1, 6, 9]) \n",
    "print('t2=', t2)  "
   ]
  },
  {
   "cell_type": "code",
   "execution_count": null,
   "id": "cfc0e08d",
   "metadata": {},
   "outputs": [],
   "source": [
    "# creating a tuple from a string  \n",
    "t1 = tuple('Java') \n",
    "print('t1=' , t1)  "
   ]
  },
  {
   "cell_type": "code",
   "execution_count": 37,
   "id": "25f0c4ee",
   "metadata": {},
   "outputs": [],
   "source": [
    "#lambda()- Helps creating anonymous functions. \n",
    "#Lambda functions can accept any number of arguments, \n",
    "#but they can return only one value in the form of expression.\n",
    "\n",
    "#Multiple arguments to Lambda function\n",
    "\n",
    "x = lambda a,b,c,d : a+b+c+d "
   ]
  },
  {
   "cell_type": "code",
   "execution_count": 38,
   "id": "09926f7e",
   "metadata": {},
   "outputs": [
    {
     "name": "stdout",
     "output_type": "stream",
     "text": [
      "Addition =  50\n"
     ]
    }
   ],
   "source": [
    "# a and b are the arguments and a+b is the expression which gets evaluated and returned.   \n",
    "print(\"Addition = \", x(20,10,10,10))"
   ]
  },
  {
   "cell_type": "code",
   "execution_count": 39,
   "id": "005ea1ee",
   "metadata": {},
   "outputs": [],
   "source": [
    "#Program to filter out the list which contains numbers  divisible by 3.\n",
    "\n",
    "List = [1,2,3,4,10,123,22]  \n",
    "\n",
    "Oddlist = list(filter(lambda x:(x%3 == 0),List)) "
   ]
  },
  {
   "cell_type": "code",
   "execution_count": 40,
   "id": "5ebb4c7c",
   "metadata": {},
   "outputs": [
    {
     "name": "stdout",
     "output_type": "stream",
     "text": [
      "[3, 123]\n"
     ]
    }
   ],
   "source": [
    "# the list contains all the items of the list for which the lambda function evaluates to true  \n",
    "print(Oddlist) "
   ]
  },
  {
   "cell_type": "code",
   "execution_count": 41,
   "id": "17764e87",
   "metadata": {},
   "outputs": [],
   "source": [
    "#program to triple each number of the list using map  \n",
    "\n",
    "Old_List = [1,2,3,4,10,123,22] \n",
    "\n",
    "new_list = list(map(lambda x : x*3, Old_List))"
   ]
  },
  {
   "cell_type": "code",
   "execution_count": 42,
   "id": "6b9871ad",
   "metadata": {},
   "outputs": [
    {
     "name": "stdout",
     "output_type": "stream",
     "text": [
      "[3, 6, 9, 12, 30, 369, 66]\n"
     ]
    }
   ],
   "source": [
    "# this will return the triple of each item of the list and add it to new_list  \n",
    "print(new_list)"
   ]
  },
  {
   "cell_type": "code",
   "execution_count": null,
   "id": "b5a3542a",
   "metadata": {},
   "outputs": [],
   "source": [
    "#-----------------Apply Family of Functions--------------------------------\n",
    "\n",
    "#To apply our own functions to dataset, pandas provides three functions from\n",
    "#apply family of functons: pipe(), apply(), applymap()\n",
    "\n",
    "# pipe():Table wise Function Application.\n",
    "\n",
    "# It performs the custom operation for the entire dataframe."
   ]
  },
  {
   "cell_type": "code",
   "execution_count": 43,
   "id": "394a4bac",
   "metadata": {},
   "outputs": [],
   "source": [
    "# own function\n",
    "\n",
    "def adder(adder1,adder2) : return adder1 + adder2\n",
    "\n",
    "#or\n",
    "\n",
    "#def adder(adder1,adder2) :\n",
    "#    result = adder1 + adder2\n",
    "#    return result"
   ]
  },
  {
   "cell_type": "code",
   "execution_count": 44,
   "id": "f6630016",
   "metadata": {},
   "outputs": [],
   "source": [
    "#Create a Dictionary of series\n",
    "import pandas as pd\n",
    "d = {'Score_Math':pd.Series([66,57,75,44,31,67,85,33,42,62,51,47]),\n",
    "     'Score_Science':pd.Series([89,87,67,55,47,72,76,79,44,92,93,69])}"
   ]
  },
  {
   "cell_type": "code",
   "execution_count": 45,
   "id": "ca8c56c8",
   "metadata": {},
   "outputs": [
    {
     "name": "stdout",
     "output_type": "stream",
     "text": [
      "<class 'dict'>\n"
     ]
    }
   ],
   "source": [
    "print(type(d))"
   ]
  },
  {
   "cell_type": "code",
   "execution_count": 46,
   "id": "6ae7d793",
   "metadata": {},
   "outputs": [
    {
     "name": "stdout",
     "output_type": "stream",
     "text": [
      "{'Score_Math': 0     66\n",
      "1     57\n",
      "2     75\n",
      "3     44\n",
      "4     31\n",
      "5     67\n",
      "6     85\n",
      "7     33\n",
      "8     42\n",
      "9     62\n",
      "10    51\n",
      "11    47\n",
      "dtype: int64, 'Score_Science': 0     89\n",
      "1     87\n",
      "2     67\n",
      "3     55\n",
      "4     47\n",
      "5     72\n",
      "6     76\n",
      "7     79\n",
      "8     44\n",
      "9     92\n",
      "10    93\n",
      "11    69\n",
      "dtype: int64}\n"
     ]
    }
   ],
   "source": [
    "print(d)"
   ]
  },
  {
   "cell_type": "code",
   "execution_count": 48,
   "id": "ac7c9528",
   "metadata": {},
   "outputs": [
    {
     "name": "stdout",
     "output_type": "stream",
     "text": [
      "    Score_Math  Score_Science\n",
      "0           66             89\n",
      "1           57             87\n",
      "2           75             67\n",
      "3           44             55\n",
      "4           31             47\n",
      "5           67             72\n",
      "6           85             76\n",
      "7           33             79\n",
      "8           42             44\n",
      "9           62             92\n",
      "10          51             93\n",
      "11          47             69\n"
     ]
    }
   ],
   "source": [
    "import pandas as pd\n",
    "df = pd.DataFrame(d)\n",
    "print(df)"
   ]
  },
  {
   "cell_type": "code",
   "execution_count": 49,
   "id": "ecf63f51",
   "metadata": {},
   "outputs": [
    {
     "name": "stdout",
     "output_type": "stream",
     "text": [
      "    Score_Math  Score_Science\n",
      "0           66             89\n",
      "1           57             87\n",
      "2           75             67\n",
      "3           44             55\n",
      "4           31             47\n",
      "5           67             72\n",
      "6           85             76\n",
      "7           33             79\n",
      "8           42             44\n",
      "9           62             92\n",
      "10          51             93\n",
      "11          47             69\n",
      "\n",
      "\n",
      "    Score_Math  Score_Science\n",
      "0           68             91\n",
      "1           59             89\n",
      "2           77             69\n",
      "3           46             57\n",
      "4           33             49\n",
      "5           69             74\n",
      "6           87             78\n",
      "7           35             81\n",
      "8           44             46\n",
      "9           64             94\n",
      "10          53             95\n",
      "11          49             71\n"
     ]
    }
   ],
   "source": [
    "print (df)\n",
    "print(\"\\n\") #new line \n",
    "print (df.pipe(adder,2))"
   ]
  },
  {
   "cell_type": "code",
   "execution_count": 50,
   "id": "93ad100e",
   "metadata": {},
   "outputs": [],
   "source": [
    "# apply():Row or Column Wise Function Application.\n",
    "# It performs the custom operation for either row wise or column wise.\n",
    "\n",
    "import numpy as np\n",
    "\n",
    "#Create a DataFrame\n",
    "d = {'Score_Math':pd.Series([66,57,75,44,31,67,85,33,42,62,51,47]),\n",
    "     'Score_Science':pd.Series([89,87,67,55,47,72,76,79,44,92,93,69])}"
   ]
  },
  {
   "cell_type": "code",
   "execution_count": 51,
   "id": "c862155f",
   "metadata": {},
   "outputs": [
    {
     "name": "stdout",
     "output_type": "stream",
     "text": [
      "    Score_Math  Score_Science\n",
      "0           66             89\n",
      "1           57             87\n",
      "2           75             67\n",
      "3           44             55\n",
      "4           31             47\n",
      "5           67             72\n",
      "6           85             76\n",
      "7           33             79\n",
      "8           42             44\n",
      "9           62             92\n",
      "10          51             93\n",
      "11          47             69\n"
     ]
    }
   ],
   "source": [
    "df = pd.DataFrame(d)\n",
    "print (df)"
   ]
  },
  {
   "cell_type": "code",
   "execution_count": 52,
   "id": "027c32c0",
   "metadata": {},
   "outputs": [
    {
     "name": "stdout",
     "output_type": "stream",
     "text": [
      "0     77.5\n",
      "1     72.0\n",
      "2     71.0\n",
      "3     49.5\n",
      "4     39.0\n",
      "5     69.5\n",
      "6     80.5\n",
      "7     56.0\n",
      "8     43.0\n",
      "9     77.0\n",
      "10    72.0\n",
      "11    58.0\n",
      "dtype: float64\n"
     ]
    }
   ],
   "source": [
    "#Row Wise Fxn Application:\n",
    "#row wise mean\n",
    "\n",
    "print (df.apply(np.mean,axis=1))"
   ]
  },
  {
   "cell_type": "code",
   "execution_count": 53,
   "id": "0499f452",
   "metadata": {},
   "outputs": [
    {
     "name": "stdout",
     "output_type": "stream",
     "text": [
      "Score_Math       55.0\n",
      "Score_Science    72.5\n",
      "dtype: float64\n"
     ]
    }
   ],
   "source": [
    "#Column Wise Fxn Application:\n",
    "#column wise mean\n",
    "print (df.apply(np.mean,axis=0))"
   ]
  },
  {
   "cell_type": "code",
   "execution_count": 54,
   "id": "bf8ff51b",
   "metadata": {},
   "outputs": [],
   "source": [
    "# applymap():Element wise Function Application.\n",
    "\n",
    "# applymap():Element wise Function Application.\n",
    "# It performs specified operation on all the elements of the dataframe. \n",
    "\n",
    "#Create a DataFrame\n",
    "\n",
    "d = {'Score_Math':pd.Series([66,57,75,44,31,67,85,33,42,62,51,47]),\n",
    "     'Score_Science':pd.Series([89,87,67,55,47,72,76,79,44,92,93,69])}\n",
    "\n",
    "df = pd.DataFrame(d)"
   ]
  },
  {
   "cell_type": "code",
   "execution_count": 55,
   "id": "98e9e9cf",
   "metadata": {},
   "outputs": [
    {
     "name": "stdout",
     "output_type": "stream",
     "text": [
      "    Score_Math  Score_Science\n",
      "0           66             89\n",
      "1           57             87\n",
      "2           75             67\n",
      "3           44             55\n",
      "4           31             47\n",
      "5           67             72\n",
      "6           85             76\n",
      "7           33             79\n",
      "8           42             44\n",
      "9           62             92\n",
      "10          51             93\n",
      "11          47             69\n"
     ]
    }
   ],
   "source": [
    "print (df)"
   ]
  },
  {
   "cell_type": "code",
   "execution_count": 56,
   "id": "d406622b",
   "metadata": {},
   "outputs": [
    {
     "name": "stdout",
     "output_type": "stream",
     "text": [
      "    Score_Math  Score_Science\n",
      "0          132            178\n",
      "1          114            174\n",
      "2          150            134\n",
      "3           88            110\n",
      "4           62             94\n",
      "5          134            144\n",
      "6          170            152\n",
      "7           66            158\n",
      "8           84             88\n",
      "9          124            184\n",
      "10         102            186\n",
      "11          94            138\n"
     ]
    }
   ],
   "source": [
    "#Example 1:\n",
    "print (df.applymap(lambda x : x*2))"
   ]
  },
  {
   "cell_type": "code",
   "execution_count": 57,
   "id": "41e2d751",
   "metadata": {},
   "outputs": [
    {
     "name": "stdout",
     "output_type": "stream",
     "text": [
      "    Score_Math  Score_Science\n",
      "0     8.124038       9.433981\n",
      "1     7.549834       9.327379\n",
      "2     8.660254       8.185353\n",
      "3     6.633250       7.416198\n",
      "4     5.567764       6.855655\n",
      "5     8.185353       8.485281\n",
      "6     9.219544       8.717798\n",
      "7     5.744563       8.888194\n",
      "8     6.480741       6.633250\n",
      "9     7.874008       9.591663\n",
      "10    7.141428       9.643651\n",
      "11    6.855655       8.306624\n"
     ]
    }
   ],
   "source": [
    "#Example2:\n",
    "import math as m\n",
    "print (df.applymap(lambda x : m.sqrt(x)))"
   ]
  },
  {
   "cell_type": "code",
   "execution_count": null,
   "id": "3ddb6fc7",
   "metadata": {},
   "outputs": [],
   "source": []
  }
 ],
 "metadata": {
  "kernelspec": {
   "display_name": "Python 3 (ipykernel)",
   "language": "python",
   "name": "python3"
  },
  "language_info": {
   "codemirror_mode": {
    "name": "ipython",
    "version": 3
   },
   "file_extension": ".py",
   "mimetype": "text/x-python",
   "name": "python",
   "nbconvert_exporter": "python",
   "pygments_lexer": "ipython3",
   "version": "3.9.7"
  }
 },
 "nbformat": 4,
 "nbformat_minor": 5
}
