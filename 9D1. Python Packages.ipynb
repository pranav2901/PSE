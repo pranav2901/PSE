{
 "cells": [
  {
   "cell_type": "markdown",
   "id": "78873eb6",
   "metadata": {},
   "source": [
    "# Python Packages\n",
    "\n",
    "We usually organize our files in different folders and subfolders based on some criteria, so that they can be managed easily and efficiently. For example, we keep all our games in a Games folder and we can even subcategorize according to the genre of the game or something like this. The same analogy is followed by the Python package. \n",
    "\n",
    "A Python module may contain several classes, functions, variables, etc. whereas a Python package can contains several module. In simpler terms a package is folder that contains various modules as files.\n",
    "\n",
    "# Creating Package"
   ]
  },
  {
   "cell_type": "raw",
   "id": "dfbd2f82",
   "metadata": {},
   "source": [
    "Let’s create a package named mypckg that will contain two modules mod1 and mod2. To create this module follow the below steps – \n",
    "\n",
    "Create a folder named mypckg.\n",
    "\n",
    "Inside this folder create an empty Python file i.e. __init__.py\n",
    "\n",
    "Then create two modules mod1 and mod2 in this folder."
   ]
  },
  {
   "cell_type": "raw",
   "id": "5bd6f374",
   "metadata": {},
   "source": [
    "Mod1.py is having following code\n",
    "\n",
    "def welcome():\n",
    "    print(\"Welcome to python\")"
   ]
  },
  {
   "cell_type": "raw",
   "id": "2e951742",
   "metadata": {},
   "source": [
    "Mod2.py is having following code\n",
    "\n",
    "def sum(a, b):\n",
    "    return a+b"
   ]
  },
  {
   "cell_type": "raw",
   "id": "4aa47d99",
   "metadata": {},
   "source": [
    "The hierarchy of the our package looks like this – \n",
    "\n",
    "mypckg\n",
    "|\n",
    "|\n",
    "---__init__.py\n",
    "|\n",
    "|\n",
    "---Mod1.py\n",
    "|\n",
    "|\n",
    "---Mod2.py"
   ]
  },
  {
   "cell_type": "raw",
   "id": "26975e8a",
   "metadata": {},
   "source": [
    "# Understanding __init__.py\n",
    "\n",
    "__init__.py helps the Python interpreter to recognise the folder as package. It also specifies the resources to be imported from the modules. If the __init__.py is empty this means that all the functions of the modules will be imported. We can also specify the functions from each module to be made available.\n",
    "\n",
    "For example, we can also create the __init__.py file for the above module as – \n",
    "\n",
    "__init__.py which has following code\n",
    "\n",
    "from .Mod1 import welcome\n",
    "from .Mod2 import sum\n",
    "\n",
    "This __init__.py will only allow the gfg and sum functions from the mod1 and mod2 modules to be imported."
   ]
  },
  {
   "cell_type": "markdown",
   "id": "3e3d9d5c",
   "metadata": {},
   "source": [
    "# Import Modules from a Package\n",
    "\n",
    "We can import these modules using the from…import statement and the dot(.) operator. \n",
    "\n",
    "Syntax:\n",
    "\n",
    "import package_name.module_name"
   ]
  },
  {
   "cell_type": "markdown",
   "id": "0c72bd04",
   "metadata": {},
   "source": [
    "# Example: Import Module from package\n",
    "\n",
    "We will import the modules from the above created package and will use the functions inside those modules."
   ]
  },
  {
   "cell_type": "code",
   "execution_count": 2,
   "id": "0d42a926",
   "metadata": {},
   "outputs": [
    {
     "name": "stdout",
     "output_type": "stream",
     "text": [
      "Welcome to python\n",
      "7\n"
     ]
    }
   ],
   "source": [
    "from mypack.mod1 import welcome\n",
    "#import Mod1.learn\n",
    "from mypack import mod2\n",
    "\n",
    "welcome()\n",
    "\n",
    "res = mod2.adder(5, 2)\n",
    "\n",
    "print(res)"
   ]
  },
  {
   "cell_type": "code",
   "execution_count": 3,
   "id": "de94b7e5",
   "metadata": {},
   "outputs": [
    {
     "name": "stdout",
     "output_type": "stream",
     "text": [
      "Welcome to python\n",
      "1\n"
     ]
    }
   ],
   "source": [
    "from mypckg1 import mod3\n",
    "from mypckg1 import mod4\n",
    "\n",
    "mod3.learn()\n",
    "res = mod4.sub(3, 2)\n",
    "print(res)\n",
    "\n",
    "a = mod3"
   ]
  },
  {
   "cell_type": "code",
   "execution_count": null,
   "id": "ad56e2cf",
   "metadata": {},
   "outputs": [],
   "source": []
  }
 ],
 "metadata": {
  "kernelspec": {
   "display_name": "Python 3 (ipykernel)",
   "language": "python",
   "name": "python3"
  },
  "language_info": {
   "codemirror_mode": {
    "name": "ipython",
    "version": 3
   },
   "file_extension": ".py",
   "mimetype": "text/x-python",
   "name": "python",
   "nbconvert_exporter": "python",
   "pygments_lexer": "ipython3",
   "version": "3.9.7"
  }
 },
 "nbformat": 4,
 "nbformat_minor": 5
}
