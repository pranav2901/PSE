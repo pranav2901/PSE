{
 "cells": [
  {
   "cell_type": "code",
   "execution_count": 2,
   "id": "b0e16f99",
   "metadata": {},
   "outputs": [],
   "source": [
    "#---------------------------------Joins----------------------------------------\n",
    "#We can merge two data frames in python by using the merge() function of pandas\n",
    "#Create dataframe:\n",
    "import pandas as pd"
   ]
  },
  {
   "cell_type": "code",
   "execution_count": 3,
   "id": "438371a2",
   "metadata": {},
   "outputs": [
    {
     "name": "stdout",
     "output_type": "stream",
     "text": [
      "   Customer_id     Product\n",
      "0            1        Oven\n",
      "1            2        Oven\n",
      "2            3        Oven\n",
      "3            4  Television\n",
      "4            5  Television\n",
      "5            6  Television\n"
     ]
    }
   ],
   "source": [
    "# Example 1:\n",
    "\n",
    "# data frame 1\n",
    "d1 = {'Customer_id':pd.Series([1,2,3,4,5,6]),\n",
    "      'Product':pd.Series(['Oven','Oven','Oven','Television','Television','Television'])}\n",
    "df1 = pd.DataFrame(d1)\n",
    "print(df1)"
   ]
  },
  {
   "cell_type": "code",
   "execution_count": 4,
   "id": "4126f333",
   "metadata": {},
   "outputs": [
    {
     "name": "stdout",
     "output_type": "stream",
     "text": [
      "   Customer_id       State\n",
      "0            2  California\n",
      "1            4  California\n",
      "2            6       Texas\n"
     ]
    }
   ],
   "source": [
    "# data frame 2\n",
    "d2 = {'Customer_id':pd.Series([2,4,6]),\n",
    "      'State':pd.Series(['California','California','Texas'])}\n",
    "df2 = pd.DataFrame(d2)\n",
    "print(df2)"
   ]
  },
  {
   "cell_type": "code",
   "execution_count": 5,
   "id": "1b5d1b65",
   "metadata": {},
   "outputs": [
    {
     "name": "stdout",
     "output_type": "stream",
     "text": [
      "   Customer_id  Price\n",
      "0            1     20\n",
      "1            3     50\n",
      "2            6     30\n"
     ]
    }
   ],
   "source": [
    "d3 = {'Customer_id':pd.Series([1,3,6]),\n",
    "        'Price' : pd.Series([20,50,30])}\n",
    "      \n",
    "df3 = pd.DataFrame(d3)\n",
    "\n",
    "print(df3)\n",
    "                              "
   ]
  },
  {
   "cell_type": "code",
   "execution_count": 6,
   "id": "c23cd546",
   "metadata": {},
   "outputs": [
    {
     "name": "stdout",
     "output_type": "stream",
     "text": [
      "   Customer_id  State  Price\n",
      "0            6  Texas     30\n"
     ]
    }
   ],
   "source": [
    "#Inner join using pandas: \n",
    "#Return only those rows where left table have matching keys in the right table\n",
    "print (pd.merge(df2, df3, on='Customer_id', how='inner'))"
   ]
  },
  {
   "cell_type": "markdown",
   "id": "85b26e99",
   "metadata": {},
   "source": [
    "### Full/Outer join using pandas\n",
    "#Returns all rows from both tables.\n",
    "\n",
    "print (pd.merge(df1, df2, on='Customer_id', how='outer'))"
   ]
  },
  {
   "cell_type": "code",
   "execution_count": 7,
   "id": "9ac40b46",
   "metadata": {},
   "outputs": [
    {
     "name": "stdout",
     "output_type": "stream",
     "text": [
      "   Customer_id     Product       State\n",
      "0            1        Oven         NaN\n",
      "1            2        Oven  California\n",
      "2            3        Oven         NaN\n",
      "3            4  Television  California\n",
      "4            5  Television         NaN\n",
      "5            6  Television       Texas\n"
     ]
    }
   ],
   "source": [
    "#join records from left table which have matching keys in right table.\n",
    "\n",
    "#Left Join using pandas\n",
    "#Returns all rows from left table and any rows with matching keys from right table.\n",
    "print (pd.merge(df1, df2, on='Customer_id', how='left'))"
   ]
  },
  {
   "cell_type": "code",
   "execution_count": 8,
   "id": "b1f9623c",
   "metadata": {},
   "outputs": [
    {
     "name": "stdout",
     "output_type": "stream",
     "text": [
      "   Customer_id     Product       State\n",
      "0            2        Oven  California\n",
      "1            4  Television  California\n",
      "2            6  Television       Texas\n"
     ]
    }
   ],
   "source": [
    "#Right Join using pandas\n",
    "#Returns all rows from right table and any rows with matching keys from left table.\n",
    "print (pd.merge(df1, df2, on='Customer_id', how='right'))"
   ]
  },
  {
   "cell_type": "code",
   "execution_count": 9,
   "id": "3501eb9c",
   "metadata": {},
   "outputs": [
    {
     "name": "stdout",
     "output_type": "stream",
     "text": [
      "      Name  Age\n",
      "0     Penn   21\n",
      "1    Smith   32\n",
      "2  William   29\n",
      "3   Parker   28\n"
     ]
    }
   ],
   "source": [
    "#Example 2:\n",
    "\n",
    "# Dataset 1\n",
    "emp_1 = {\"Name\": [\"Penn\", \"Smith\", \"William\", \"Parker\"],  \n",
    "\"Age\": [21, 32, 29, 28]}  \n",
    "EmpList_1 = pd.DataFrame(emp_1)  \n",
    "print(EmpList_1)"
   ]
  },
  {
   "cell_type": "code",
   "execution_count": 10,
   "id": "7ef4253a",
   "metadata": {},
   "outputs": [
    {
     "name": "stdout",
     "output_type": "stream",
     "text": [
      "      Name Education-Level\n",
      "0     Penn      Under-Grad\n",
      "1  Suzzane              PG\n",
      "2  William            Grad\n"
     ]
    }
   ],
   "source": [
    "# Dataset 2\n",
    "emp_2 = {\"Name\": [\"Penn\", \"Suzzane\", \"William\"],  \n",
    "\"Education-Level\": [\"Under-Grad\", \"PG\", \"Grad\"]}  \n",
    "EmpList_2 = pd.DataFrame(emp_2)  \n",
    "print(EmpList_2)"
   ]
  },
  {
   "cell_type": "code",
   "execution_count": 11,
   "id": "eb23227a",
   "metadata": {},
   "outputs": [
    {
     "name": "stdout",
     "output_type": "stream",
     "text": [
      "      Name  Age Education-Level\n",
      "0     Penn   21      Under-Grad\n",
      "1  William   29            Grad\n"
     ]
    }
   ],
   "source": [
    "#Inner join using pandas: \n",
    "print (pd.merge(EmpList_1, EmpList_2, on='Name', how='inner'))"
   ]
  },
  {
   "cell_type": "code",
   "execution_count": 12,
   "id": "b7d20ebf",
   "metadata": {},
   "outputs": [
    {
     "name": "stdout",
     "output_type": "stream",
     "text": [
      "      Name   Age Education-Level\n",
      "0     Penn  21.0      Under-Grad\n",
      "1    Smith  32.0             NaN\n",
      "2  William  29.0            Grad\n",
      "3   Parker  28.0             NaN\n",
      "4  Suzzane   NaN              PG\n"
     ]
    }
   ],
   "source": [
    "#Full join using pandas\n",
    "print (pd.merge(EmpList_1, EmpList_2, on='Name', how='outer'))\n",
    "#join records from left table which have matching keys in right table."
   ]
  },
  {
   "cell_type": "code",
   "execution_count": 13,
   "id": "c680ee6c",
   "metadata": {},
   "outputs": [
    {
     "name": "stdout",
     "output_type": "stream",
     "text": [
      "      Name  Age Education-Level\n",
      "0     Penn   21      Under-Grad\n",
      "1    Smith   32             NaN\n",
      "2  William   29            Grad\n",
      "3   Parker   28             NaN\n"
     ]
    }
   ],
   "source": [
    "#Left Join using pandas\n",
    "print (pd.merge(EmpList_1, EmpList_2, on='Name', how='left'))"
   ]
  },
  {
   "cell_type": "code",
   "execution_count": 14,
   "id": "19e6aa38",
   "metadata": {},
   "outputs": [
    {
     "name": "stdout",
     "output_type": "stream",
     "text": [
      "      Name   Age Education-Level\n",
      "0     Penn  21.0      Under-Grad\n",
      "1  Suzzane   NaN              PG\n",
      "2  William  29.0            Grad\n"
     ]
    }
   ],
   "source": [
    "#Right Join using pandas\n",
    "#Returns all rows from right table and any rows with matching keys from left table.\n",
    "print (pd.merge(EmpList_1, EmpList_2, on='Name', how='right'))"
   ]
  },
  {
   "cell_type": "code",
   "execution_count": null,
   "id": "7ce126dc",
   "metadata": {},
   "outputs": [],
   "source": []
  }
 ],
 "metadata": {
  "kernelspec": {
   "display_name": "Python 3 (ipykernel)",
   "language": "python",
   "name": "python3"
  },
  "language_info": {
   "codemirror_mode": {
    "name": "ipython",
    "version": 3
   },
   "file_extension": ".py",
   "mimetype": "text/x-python",
   "name": "python",
   "nbconvert_exporter": "python",
   "pygments_lexer": "ipython3",
   "version": "3.9.7"
  }
 },
 "nbformat": 4,
 "nbformat_minor": 5
}
