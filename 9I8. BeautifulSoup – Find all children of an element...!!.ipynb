{
 "cells": [
  {
   "cell_type": "markdown",
   "id": "b9db6e31",
   "metadata": {},
   "source": [
    "You might have seen there are various websites that are complex as well as lengthy, from which searching anything becomes difficult. \n",
    "\n",
    "To ease our work of searching, modifying, and iteration, Python gives us some inbuilt libraries, such as Requests, Xml, Beautiful Soup, Selenium, Scrapy, etc. \n",
    "\n",
    "Among all these available libraries, Beautiful Soup is the one that does web scraping comparatively faster than those other available in Python. \n",
    "\n",
    "Sometimes, there occurs situations, when we need to find all the children of an element with the help of Beautiful Soup. \n",
    "\n",
    "If you don’t know, how to find these. Don’t worry! In this example, we will be discussing the procedure of finding the children of an element."
   ]
  },
  {
   "cell_type": "raw",
   "id": "f31175e0",
   "metadata": {},
   "source": [
    "Syntax:\n",
    "\n",
    "unordered_list = soup.find ( “#Widget Name”, { “id” : ”#Id name of element of which you want to find children “} )\n",
    "\n",
    "children = unordered_list.findChildren()"
   ]
  },
  {
   "cell_type": "markdown",
   "id": "dc9d6724",
   "metadata": {},
   "source": [
    "Save below code and name it example.html"
   ]
  },
  {
   "cell_type": "raw",
   "id": "371ecacd",
   "metadata": {},
   "source": [
    "<!DOCTYPE html>\n",
    "<html>\n",
    "<head>\n",
    "My First Heading\n",
    "</head>\n",
    "<body>\n",
    "<p id=\"para\">\n",
    "Vinayak Rai\n",
    "</p>\n",
    "\n",
    "<ul id=\"list\">Fruits\n",
    "<li>Apple</li>\n",
    "<li>Banana</li>\n",
    "<li>Mango</li>\n",
    "</ul>\n",
    "</body>\n",
    "</html>"
   ]
  },
  {
   "cell_type": "markdown",
   "id": "3f2acbf8",
   "metadata": {},
   "source": [
    "# Stepwise implementation"
   ]
  },
  {
   "cell_type": "raw",
   "id": "5529f94f",
   "metadata": {},
   "source": [
    "Step 1: First, import the libraries Beautiful Soup and os\n",
    "    \n",
    "Step 2: Now, remove the last segment of the path by giving the same name to abspath as given to your Python file. Here we are using a default run.py program from our system\n",
    "    \n",
    "Step 3: Then, open the HTML file you wish to open.\n",
    "\n",
    "Step 4: Parsing HTML in Beautiful Soup.\n",
    "\n",
    "Step 5: Further, give the location of an element for which you want to find children\n",
    "\n",
    "Step 6: Next, find all the children of an element.\n",
    "\n",
    "Step 7: Finally, print all the children of an element that you have found in the last step.\n",
    "\n",
    "Below is the full implementation:"
   ]
  },
  {
   "cell_type": "code",
   "execution_count": 1,
   "id": "14f7fd17",
   "metadata": {},
   "outputs": [
    {
     "name": "stdout",
     "output_type": "stream",
     "text": [
      "<li>Apple</li>\n",
      "<li>Banana</li>\n",
      "<li>Mango</li>\n"
     ]
    }
   ],
   "source": [
    "# Python program to find all the children\n",
    "# of an element using Beautiful Soup\n",
    "\n",
    "# Import the libraries BeautifulSoup and os\n",
    "from bs4 import BeautifulSoup as bs\n",
    "import os\n",
    "\n",
    "# Remove the last segment of the path\n",
    "# Give same name in abspath as given to Python file\n",
    "base = os.path.dirname(os.path.abspath('run.py'))\n",
    "\n",
    "# Open the HTML in which you want to make changes\n",
    "html = open(os.path.join(base, 'example.html'))\n",
    "\n",
    "# Parse HTML file in Beautiful Soup\n",
    "soup = bs(html, 'html.parser')\n",
    "\n",
    "# Give location where text is stored which you wish to alter\n",
    "unordered_list = soup.find(\"ul\", {\"id\": \"list\"})\n",
    "\n",
    "# Find children of an element\n",
    "children = unordered_list.findChildren()\n",
    "\n",
    "# Print all children of an element\n",
    "for child in children:\n",
    "    print(child)"
   ]
  },
  {
   "cell_type": "code",
   "execution_count": null,
   "id": "96686cbe",
   "metadata": {},
   "outputs": [],
   "source": []
  },
  {
   "cell_type": "code",
   "execution_count": null,
   "id": "5fea86e9",
   "metadata": {},
   "outputs": [],
   "source": []
  }
 ],
 "metadata": {
  "kernelspec": {
   "display_name": "Python 3 (ipykernel)",
   "language": "python",
   "name": "python3"
  },
  "language_info": {
   "codemirror_mode": {
    "name": "ipython",
    "version": 3
   },
   "file_extension": ".py",
   "mimetype": "text/x-python",
   "name": "python",
   "nbconvert_exporter": "python",
   "pygments_lexer": "ipython3",
   "version": "3.9.7"
  }
 },
 "nbformat": 4,
 "nbformat_minor": 5
}
