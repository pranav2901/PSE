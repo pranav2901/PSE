{
 "cells": [
  {
   "cell_type": "raw",
   "id": "0de8d81f",
   "metadata": {},
   "source": [
    "BeautifulSoup object is provided by Beautiful Soup which is a web scraping framework for Python. Web scraping is the process of extracting data from the website using automated tools to make the process faster. The BeautifulSoup object represents the parsed document as a whole. For most purposes, you can treat it as a Tag object.\n",
    "\n",
    "Syntax:  BeautifulSoup(document, parser)\n",
    "\n",
    "Parameters: This function accepts two parameters as explained below: \n",
    "\n",
    "document: This parameter contains the XML or HTML document.\n",
    "parser: This parameter contains the name of the parser to be used to parse the document.\n",
    "    \n",
    "Below given examples explain the concept of BeautifulSoup object in Beautiful Soup. \n",
    "\n",
    "Example 1: In this example, we are going to create a document with a BeautifulSoup object and print a tag."
   ]
  },
  {
   "cell_type": "markdown",
   "id": "ce70585e",
   "metadata": {},
   "source": [
    "# What does parse mean?\n",
    "\n",
    "English Language Learners Definition of parse : to divide (a sentence) into grammatical parts and identify the parts and their relations to each other : to study (something) by looking at its parts closely : analyze\n",
    "\n",
    "\n",
    "# What is parsing in XML?\n",
    "\n",
    "Parsing is the process of converting formatted text into a data structure. A data structure type can be any suitable representation of the information engraved in the source text. Tree type is a common and standard choice for XML parsing, HTML parsing, JSON parsing, and any programming language parsing."
   ]
  },
  {
   "cell_type": "markdown",
   "id": "41b2e151",
   "metadata": {},
   "source": [
    "# Which parser you need from the vailable list\n",
    "\n",
    "Beautiful Soup 3 used Python’s SGMLParser, a module that was deprecated and removed in Python 3.0. Beautiful Soup 4 uses html.parser by default, but you can plug in lxml or html5lib and use that instead."
   ]
  },
  {
   "cell_type": "code",
   "execution_count": 3,
   "id": "0a024105",
   "metadata": {},
   "outputs": [
    {
     "name": "stdout",
     "output_type": "stream",
     "text": [
      "<h2> Heading 1 </h2>\n"
     ]
    }
   ],
   "source": [
    "# Import Beautiful Soup\n",
    "from bs4 import BeautifulSoup\n",
    "\n",
    "# Initialize the object with a HTML page\n",
    "soup = BeautifulSoup('''\n",
    "    <html>\n",
    "        <h2> Heading 1 </h2>\n",
    "        <h1> Heading 2 </h1>\n",
    "    </html>\n",
    "    ''', \"lxml\")\n",
    "\n",
    "# Get the whole h2 tag\n",
    "tag = soup.h2\n",
    "\n",
    "# Print the tag\n",
    "print(tag)"
   ]
  },
  {
   "cell_type": "raw",
   "id": "04a11e78",
   "metadata": {},
   "source": [
    "Example 2: In this example, we are going to create a document with a BeautifulSoup object and then extract the attributes using attrs approach."
   ]
  },
  {
   "cell_type": "code",
   "execution_count": 5,
   "id": "0cb31db5",
   "metadata": {},
   "outputs": [
    {
     "name": "stdout",
     "output_type": "stream",
     "text": [
      "<h2 class=\"hello\"> Heading 1 </h2>\n",
      "{'class': ['hello']}\n"
     ]
    }
   ],
   "source": [
    "# Import Beautiful Soup\n",
    "from bs4 import BeautifulSoup\n",
    "\n",
    "# Initialize the object with a HTML page\n",
    "soup = BeautifulSoup('''\n",
    "    \n",
    "        <h2 class=\"hello\"> Heading 1 </h2>\n",
    "        <h1> Heading 2 </h1>\n",
    "    \n",
    "    ''', \"lxml\")\n",
    "\n",
    "# Get the whole h2 tag\n",
    "tag = soup.h2\n",
    "\n",
    "print(tag)\n",
    "\n",
    "# Get the attribute\n",
    "attribute = tag.attrs\n",
    "\n",
    "# Print the output\n",
    "print(attribute)"
   ]
  },
  {
   "cell_type": "markdown",
   "id": "eb389572",
   "metadata": {},
   "source": [
    "# Tag Object – Python Beautifulsoup"
   ]
  },
  {
   "cell_type": "markdown",
   "id": "3031a5f4",
   "metadata": {},
   "source": [
    "Tag object is provided by Beautiful Soup which is a web scraping framework for Python. Web scraping is the process of extracting data from the website using automated tools to make the process faster. Tag object corresponds to an XML or HTML tag in the original document. Further, this object is usually used to extract a tag from the whole HTML document. Further, Beautiful Soup is not an HTTP client which means to scrap online websites you first have to download them using requests module and then serve it to Beautiful Soup for scraping. Additionally, this object returns the first found tag if your document have multiple tags with the same name.\n",
    "\n",
    "Prerequisite: Beautiful Soup Installation\n",
    "\n",
    "Syntax:\n",
    "\n",
    "Object.tag_name\n",
    "\n",
    "Parameters: \n",
    "\n",
    "This function doesn’t accept any parameter."
   ]
  },
  {
   "cell_type": "markdown",
   "id": "bf0460b7",
   "metadata": {},
   "source": [
    "Below given examples explain the concept of Tag object in Beautiful Soup.\n",
    "\n",
    "Example 1: In this example we are going to extract h1 tag element only."
   ]
  },
  {
   "cell_type": "code",
   "execution_count": 6,
   "id": "9058bfce",
   "metadata": {},
   "outputs": [
    {
     "name": "stdout",
     "output_type": "stream",
     "text": [
      "<h1>a web page</h1>\n"
     ]
    }
   ],
   "source": [
    "# Import Beautiful Soup\n",
    "from bs4 import BeautifulSoup\n",
    "\n",
    "# Initialize the object with an HTML page\n",
    "soup = BeautifulSoup('''\n",
    "    <html>\n",
    "        <h1>a web page</h1>\n",
    "    </html>\n",
    "    ''', \"lxml\")\n",
    "\n",
    "# Get the tag\n",
    "tag = soup.h1\n",
    "\n",
    "# Print the output\n",
    "print(tag)"
   ]
  },
  {
   "cell_type": "markdown",
   "id": "097982d4",
   "metadata": {},
   "source": [
    "Example 2: In this example we are going to see the type of strong tag element only."
   ]
  },
  {
   "cell_type": "code",
   "execution_count": 4,
   "id": "fb432e96",
   "metadata": {},
   "outputs": [
    {
     "name": "stdout",
     "output_type": "stream",
     "text": [
      "<strong>a web page</strong>\n",
      "\n",
      "\n",
      "<class 'bs4.element.Tag'>\n"
     ]
    }
   ],
   "source": [
    "# Import Beautiful Soup\n",
    "from bs4 import BeautifulSoup\n",
    "\n",
    "# Initialize the object with an HTML page\n",
    "soup = BeautifulSoup('''\n",
    "    <html>\n",
    "        <strong>a web page</strong>\n",
    "    </html>\n",
    "    ''', \"lxml\")\n",
    "\n",
    "# Get the tag\n",
    "tag = soup.strong\n",
    "\n",
    "# Print the output\n",
    "print(tag)\n",
    "print('\\n')\n",
    "print(type(tag))\n"
   ]
  },
  {
   "cell_type": "markdown",
   "id": "8f46ec1f",
   "metadata": {},
   "source": [
    "Example 3: In this example we are going to see the output from a HTML with multiple tags."
   ]
  },
  {
   "cell_type": "code",
   "execution_count": 7,
   "id": "53118578",
   "metadata": {},
   "outputs": [
    {
     "name": "stdout",
     "output_type": "stream",
     "text": [
      "<strong>the first strong tag</strong>\n"
     ]
    }
   ],
   "source": [
    "# Import Beautiful Soup\n",
    "from bs4 import BeautifulSoup\n",
    "\n",
    "# Initialize the object with a HTML page\n",
    "soup = BeautifulSoup('''\n",
    "    <html>\n",
    "        <strong>the first strong tag</strong>\n",
    "        <h1> Heading </h1>\n",
    "        <strong>the second strong tag</strong>\n",
    "    </html>\n",
    "    ''', \"lxml\")\n",
    "\n",
    "# Get the tag\n",
    "tag = soup.strong\n",
    "\n",
    "# Print the output\n",
    "print(tag)"
   ]
  },
  {
   "cell_type": "markdown",
   "id": "9f5a26c4",
   "metadata": {},
   "source": [
    "# Here is a complete documentation which you can follow for reference purpose to mastering using Beautifulsoup\n",
    "\n",
    "https://beautiful-soup-4.readthedocs.io/en/latest/"
   ]
  },
  {
   "cell_type": "code",
   "execution_count": null,
   "id": "48afd45f",
   "metadata": {},
   "outputs": [],
   "source": []
  }
 ],
 "metadata": {
  "kernelspec": {
   "display_name": "Python 3 (ipykernel)",
   "language": "python",
   "name": "python3"
  },
  "language_info": {
   "codemirror_mode": {
    "name": "ipython",
    "version": 3
   },
   "file_extension": ".py",
   "mimetype": "text/x-python",
   "name": "python",
   "nbconvert_exporter": "python",
   "pygments_lexer": "ipython3",
   "version": "3.9.7"
  }
 },
 "nbformat": 4,
 "nbformat_minor": 5
}
