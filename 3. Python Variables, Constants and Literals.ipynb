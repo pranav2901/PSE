{
 "cells": [
  {
   "cell_type": "markdown",
   "id": "d78da4e1",
   "metadata": {},
   "source": [
    "# Python Variables, Constants and Literals\n",
    "\n",
    "In this segment, we will learn about Python variables, constants, literals with the help of examples."
   ]
  },
  {
   "cell_type": "markdown",
   "id": "611360f8",
   "metadata": {},
   "source": [
    "# Python Variables\n",
    "\n",
    "In programming, a variable is a container (storage area) to hold data. For example,"
   ]
  },
  {
   "cell_type": "code",
   "execution_count": 1,
   "id": "4b51af3a",
   "metadata": {},
   "outputs": [],
   "source": [
    "number = 10"
   ]
  },
  {
   "cell_type": "markdown",
   "id": "e71d9e49",
   "metadata": {},
   "source": [
    "Here, number is the variable storing the value 10."
   ]
  },
  {
   "cell_type": "markdown",
   "id": "d9d015bc",
   "metadata": {},
   "source": [
    "# Assigning values to Variables in Python\n",
    "\n",
    "As we can see from the above example, we use the assignment operator = to assign a value to a variable."
   ]
  },
  {
   "cell_type": "code",
   "execution_count": 2,
   "id": "4914bb47",
   "metadata": {},
   "outputs": [
    {
     "name": "stdout",
     "output_type": "stream",
     "text": [
      "pranav.com\n"
     ]
    }
   ],
   "source": [
    "# assign value to site_name variable\n",
    "site_name = 'pranav.com'\n",
    "\n",
    "print(site_name)\n",
    "\n",
    "# Output: pranav.com"
   ]
  },
  {
   "cell_type": "markdown",
   "id": "0cb84180",
   "metadata": {},
   "source": [
    "In the above example, we assigned the value 'pranav.com' to the site_name variable. \n",
    "Then, we printed out the value assigned to site_name."
   ]
  },
  {
   "cell_type": "markdown",
   "id": "46c2ed13",
   "metadata": {},
   "source": [
    "Note: Python is a type-inferred language, so you don't have to explicitly define the variable type. \n",
    "      It automatically knows that pranav.com is a string and declares the site_name variable as a string."
   ]
  },
  {
   "cell_type": "code",
   "execution_count": 3,
   "id": "af6d2c7e",
   "metadata": {},
   "outputs": [
    {
     "name": "stdout",
     "output_type": "stream",
     "text": [
      "pranav.com\n",
      "apple.com\n"
     ]
    }
   ],
   "source": [
    "site_name = 'pranav.com'\n",
    "print(site_name)\n",
    "\n",
    "# assigning a new value to site_name\n",
    "site_name = 'apple.com'\n",
    "\n",
    "print(site_name)"
   ]
  },
  {
   "cell_type": "markdown",
   "id": "aa518a12",
   "metadata": {},
   "source": [
    "Here, the value of site_name is changed from 'pranav.com' to 'apple.com'."
   ]
  },
  {
   "cell_type": "markdown",
   "id": "db27751c",
   "metadata": {},
   "source": [
    "Example: Assigning multiple values to multiple variables"
   ]
  },
  {
   "cell_type": "code",
   "execution_count": 4,
   "id": "04da95f9",
   "metadata": {},
   "outputs": [
    {
     "name": "stdout",
     "output_type": "stream",
     "text": [
      "5\n",
      "3.2\n",
      "Hello\n"
     ]
    }
   ],
   "source": [
    "a, b, c = 5, 3.2, 'Hello'\n",
    "\n",
    "#a = 5\n",
    "\n",
    "#b = 3.2\n",
    "\n",
    "#c = 'Hello'\n",
    "\n",
    "print(a)  # prints 5\n",
    "print(b)  # prints 3.2\n",
    "print(c)  # prints Hello "
   ]
  },
  {
   "cell_type": "markdown",
   "id": "707221b9",
   "metadata": {},
   "source": [
    "If we want to assign the same value to multiple variables at once, we can do this as:"
   ]
  },
  {
   "cell_type": "code",
   "execution_count": 5,
   "id": "318bd79c",
   "metadata": {},
   "outputs": [
    {
     "name": "stdout",
     "output_type": "stream",
     "text": [
      "pranav.com\n",
      "pranav.com\n"
     ]
    }
   ],
   "source": [
    "site1 = site2  = 'pranav.com'\n",
    "\n",
    "#site1 = 'pranav.com'\n",
    "\n",
    "#site2 = 'pranav.com'\n",
    "\n",
    "print(site1)  # prints programiz.com\n",
    "print(site2)  # prints programiz.com"
   ]
  },
  {
   "cell_type": "markdown",
   "id": "0551faa7",
   "metadata": {},
   "source": [
    "Here, we have assigned the same string value 'pranav.com' to both the variables site1 and site2."
   ]
  },
  {
   "cell_type": "markdown",
   "id": "632b6288",
   "metadata": {},
   "source": [
    "# Rules for Naming Python Variables\n",
    "\n",
    "Constant and variable names should have a combination of letters in lowercase (a to z) or \n",
    "uppercase (A to Z) or digits (0 to 9) or an underscore (_). For example:"
   ]
  },
  {
   "cell_type": "markdown",
   "id": "0d05427d",
   "metadata": {},
   "source": [
    "snake_case\n",
    "\n",
    "MACRO_CASE\n",
    "\n",
    "camelCase\n",
    "\n",
    "CapWords"
   ]
  },
  {
   "cell_type": "markdown",
   "id": "9ccac1ca",
   "metadata": {},
   "source": [
    "Create a name that makes sense. For example, vowel makes more sense than v.\n",
    "\n",
    "If you want to create a variable name having two words, use underscore to separate them. For example:\n",
    "\n",
    "my_name\n",
    "\n",
    "current_salary"
   ]
  },
  {
   "cell_type": "markdown",
   "id": "983910bb",
   "metadata": {},
   "source": [
    "Python is case-sensitive. So num and Num are different variables. For example,"
   ]
  },
  {
   "cell_type": "code",
   "execution_count": 7,
   "id": "50d4d1f8",
   "metadata": {},
   "outputs": [
    {
     "name": "stdout",
     "output_type": "stream",
     "text": [
      "pranav\n",
      "pranav\n",
      "pranav\n",
      "pranav\n"
     ]
    }
   ],
   "source": [
    "myname = MyName = My_Name = My_name = \"pranav\"\n",
    "\n",
    "print(My_Name)\n",
    "print(MyName)\n",
    "print(My_Name)\n",
    "print(My_name)"
   ]
  },
  {
   "cell_type": "code",
   "execution_count": 8,
   "id": "69cb1217",
   "metadata": {},
   "outputs": [
    {
     "name": "stdout",
     "output_type": "stream",
     "text": [
      "5\n",
      "55\n"
     ]
    }
   ],
   "source": [
    "num = 5 \n",
    "Num = 55\n",
    "print(num) # 5\n",
    "print(Num) # 55"
   ]
  },
  {
   "cell_type": "markdown",
   "id": "edc6e87a",
   "metadata": {},
   "source": [
    "Avoid using keywords like if, True, class, etc. as variable names."
   ]
  },
  {
   "cell_type": "markdown",
   "id": "6347557e",
   "metadata": {},
   "source": [
    "# Python Constants\n",
    "\n",
    "A constant is a special type of variable whose value cannot be changed."
   ]
  },
  {
   "cell_type": "code",
   "execution_count": 9,
   "id": "89471c5e",
   "metadata": {},
   "outputs": [],
   "source": [
    "# declare constants \n",
    "\n",
    "PI = 3.14\n",
    "GRAVITY = 9.8"
   ]
  },
  {
   "cell_type": "markdown",
   "id": "53101403",
   "metadata": {},
   "source": [
    "Note: In reality, we don't use constants in Python. \n",
    "      Naming them in all capital letters is a convention to separate them from variables, \n",
    "      however, it does not actually prevent reassignment."
   ]
  },
  {
   "cell_type": "markdown",
   "id": "c9a4ace1",
   "metadata": {},
   "source": [
    "# Python Literals\n",
    "\n",
    "Literals are representations of fixed values in a program. \n",
    "They can be numbers, characters, or strings, etc. For example, 'Hello, World!', 12, 23.0, 'C', etc.\n",
    "\n",
    "Literals are often used to assign values to variables or constants. \n",
    "\n",
    "For example,"
   ]
  },
  {
   "cell_type": "code",
   "execution_count": 10,
   "id": "afdb1559",
   "metadata": {},
   "outputs": [],
   "source": [
    "site_name = 'pranav.com'#String Literal\n",
    "char = 'c' #String Literal or Character Literals\n",
    "value = 10 #Integer Literal\n",
    "value_1 = 2.5 #Float Literal\n",
    "Value_2 = True #Boolean Literal"
   ]
  },
  {
   "cell_type": "markdown",
   "id": "2dcbb7bc",
   "metadata": {},
   "source": [
    "In the above expression, site_name is a variable, and 'pranav.com' is a literal."
   ]
  },
  {
   "cell_type": "markdown",
   "id": "42bc20fb",
   "metadata": {},
   "source": [
    "# Python Boolean Literals\n",
    "\n",
    "There are two boolean literals: True and False.\n",
    "\n",
    "For example,\n",
    "\n",
    "pass = true  \n",
    "\n",
    "Here, true is a boolean literal assigned to pass."
   ]
  },
  {
   "cell_type": "markdown",
   "id": "69a68ca4",
   "metadata": {},
   "source": [
    "# String and Character Literals in Python\n",
    "\n",
    "Character literals are unicode characters enclosed in a quote. For example,"
   ]
  },
  {
   "cell_type": "code",
   "execution_count": 11,
   "id": "840dd345",
   "metadata": {},
   "outputs": [],
   "source": [
    "some_character = 'S'"
   ]
  },
  {
   "cell_type": "markdown",
   "id": "05f122c6",
   "metadata": {},
   "source": [
    "Here, S is a character literal assigned to some_character.\n",
    "\n",
    "Similarly, String literals are sequences of Characters enclosed in quotation marks.\n",
    "\n",
    "For example,"
   ]
  },
  {
   "cell_type": "code",
   "execution_count": 12,
   "id": "d34f3fa8",
   "metadata": {},
   "outputs": [],
   "source": [
    "some_string = 'Python is fun' "
   ]
  },
  {
   "cell_type": "markdown",
   "id": "282416b9",
   "metadata": {},
   "source": [
    "Here, 'Python is fun' is a string literal assigned to some_string."
   ]
  },
  {
   "cell_type": "markdown",
   "id": "efc5f714",
   "metadata": {},
   "source": [
    "# Special Literal in Python\n",
    "\n",
    "Python contains one special literal None. We use it to specify a null variable. For example,"
   ]
  },
  {
   "cell_type": "code",
   "execution_count": 13,
   "id": "98116959",
   "metadata": {},
   "outputs": [
    {
     "name": "stdout",
     "output_type": "stream",
     "text": [
      "None\n"
     ]
    }
   ],
   "source": [
    "value = None\n",
    "\n",
    "print(value)\n",
    "\n",
    "# Output: None"
   ]
  },
  {
   "cell_type": "markdown",
   "id": "22e0c48a",
   "metadata": {},
   "source": [
    "Here, we get None as an output as the value variable has no value assigned to it."
   ]
  },
  {
   "cell_type": "markdown",
   "id": "0b7c6754",
   "metadata": {},
   "source": [
    "# Literal Collections\n",
    "\n",
    "There are four different literal collections List literals, Tuple literals, Dict literals, and Set literals."
   ]
  },
  {
   "cell_type": "code",
   "execution_count": 14,
   "id": "ef880364",
   "metadata": {},
   "outputs": [
    {
     "name": "stdout",
     "output_type": "stream",
     "text": [
      "['apple', 'mango', 'orange']\n",
      "(1, 2, 3)\n",
      "{'a': 'apple', 'b': 'ball', 'c': 'cat'}\n",
      "{'a', 'e', 'i', 'o', 'u'}\n"
     ]
    }
   ],
   "source": [
    "# list literal\n",
    "fruits = [\"apple\", \"mango\", \"orange\"] \n",
    "print(fruits)\n",
    "\n",
    "# tuple literal\n",
    "numbers = (1, 2, 3) \n",
    "print(numbers)\n",
    "\n",
    "# dictionary literal\n",
    "alphabets = {'a':'apple', 'b':'ball', 'c':'cat'} \n",
    "print(alphabets)\n",
    "\n",
    "# set literal\n",
    "vowels = {'a', 'e', 'i' , 'o', 'u'} \n",
    "print(vowels)"
   ]
  },
  {
   "cell_type": "markdown",
   "id": "b6f3ba8a",
   "metadata": {},
   "source": [
    "In the above example, we created a list of fruits, a tuple of numbers, \n",
    "a dictionary of alphabets having values with keys designated to each value and a set of vowels.\n",
    "\n",
    "To learn more about literal collections, refer to Python Data Types / Data Structures."
   ]
  },
  {
   "cell_type": "code",
   "execution_count": null,
   "id": "075cf808",
   "metadata": {},
   "outputs": [],
   "source": []
  }
 ],
 "metadata": {
  "kernelspec": {
   "display_name": "Python 3 (ipykernel)",
   "language": "python",
   "name": "python3"
  },
  "language_info": {
   "codemirror_mode": {
    "name": "ipython",
    "version": 3
   },
   "file_extension": ".py",
   "mimetype": "text/x-python",
   "name": "python",
   "nbconvert_exporter": "python",
   "pygments_lexer": "ipython3",
   "version": "3.9.7"
  }
 },
 "nbformat": 4,
 "nbformat_minor": 5
}
