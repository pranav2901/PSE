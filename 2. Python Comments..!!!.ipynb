{
 "cells": [
  {
   "cell_type": "markdown",
   "id": "ebd3c173",
   "metadata": {},
   "source": [
    "# Python Comments"
   ]
  },
  {
   "cell_type": "markdown",
   "id": "acb050ff",
   "metadata": {},
   "source": [
    "In this segment, we will learn about Python statements, why we use them, and how to use comments in the right way."
   ]
  },
  {
   "cell_type": "markdown",
   "id": "055f07c7",
   "metadata": {},
   "source": [
    "In computer programming, comments are hints that we use to make our code more understandable.\n",
    "\n",
    "Comments are completely ignored by the interpreter. They are meant for fellow programmers. For example,"
   ]
  },
  {
   "cell_type": "code",
   "execution_count": 1,
   "id": "f3d85374",
   "metadata": {},
   "outputs": [
    {
     "name": "stdout",
     "output_type": "stream",
     "text": [
      "This is output\n"
     ]
    }
   ],
   "source": [
    "# declare and initialize two variables\n",
    "num1 = 6\n",
    "num2 = 9\n",
    "\n",
    "# print the output\n",
    "print('This is output')"
   ]
  },
  {
   "cell_type": "markdown",
   "id": "55ae863b",
   "metadata": {},
   "source": [
    "Here, we have used the following comments,\n",
    "\n",
    "declare and initialize two variables\n",
    "\n",
    "print the output"
   ]
  },
  {
   "cell_type": "markdown",
   "id": "917ffcdf",
   "metadata": {},
   "source": [
    "# Types of Comments in Python\n",
    "\n",
    "In Python, there are two types of comments:\n",
    "\n",
    "single-line comment\n",
    "\n",
    "multi-line comment\n",
    "\n",
    "# Single-line Comment in Python\n",
    "\n",
    "A single-line comment starts and ends in the same line. We use the # symbol to write a single-line comment. \n",
    "\n",
    "For example,"
   ]
  },
  {
   "cell_type": "code",
   "execution_count": 2,
   "id": "a86bffd3",
   "metadata": {},
   "outputs": [
    {
     "name": "stdout",
     "output_type": "stream",
     "text": [
      "Eric Cartman\n"
     ]
    }
   ],
   "source": [
    "# create a variable\n",
    "name = 'Eric Cartman'\n",
    "\n",
    "# print the value\n",
    "print(name)"
   ]
  },
  {
   "cell_type": "markdown",
   "id": "63a7125e",
   "metadata": {},
   "source": [
    "Here, we have created two single-line comments:\n",
    "\n",
    "#create a variable\n",
    "\n",
    "#print the value\n",
    "\n",
    "We can also use the single-line comment along with the code."
   ]
  },
  {
   "cell_type": "code",
   "execution_count": 3,
   "id": "d1240a55",
   "metadata": {},
   "outputs": [],
   "source": [
    "name = 'Eric Cartman' # name is a string"
   ]
  },
  {
   "cell_type": "markdown",
   "id": "3ada9733",
   "metadata": {},
   "source": [
    "Here, code before # are executed and code after # are ignored by the interpreter."
   ]
  },
  {
   "cell_type": "markdown",
   "id": "82b5d064",
   "metadata": {},
   "source": [
    "# Multi-line Comment in Python\n",
    "\n",
    "Python doesn't offer a separate way to write multiline comments. However, there are other ways to get around this issue."
   ]
  },
  {
   "cell_type": "markdown",
   "id": "20976435",
   "metadata": {},
   "source": [
    "We can use # at the beginning of each line of comment on multiple lines. \n",
    "\n",
    "For example,"
   ]
  },
  {
   "cell_type": "code",
   "execution_count": 4,
   "id": "14463cb0",
   "metadata": {},
   "outputs": [],
   "source": [
    "# This is a long comment\n",
    "# and it extends\n",
    "# to multiple lines"
   ]
  },
  {
   "cell_type": "markdown",
   "id": "f17749d0",
   "metadata": {},
   "source": [
    "Here, each line is treated as a single comment, and all of them are ignored.\n",
    "\n",
    "Another way of doing this is to use triple quotes, either ''' or \"\"\".\n",
    "\n",
    "These triple quotes are generally used for multi-line strings. \n",
    "But if we do not assign it to any variable or function, we can use it as a comment.\n",
    "\n",
    "The interpreter ignores the string that is not assigned to any variable or function.\n",
    "\n",
    "Let's see an example,"
   ]
  },
  {
   "cell_type": "code",
   "execution_count": 5,
   "id": "db26c974",
   "metadata": {},
   "outputs": [
    {
     "data": {
      "text/plain": [
       "'This is also a\\nperfect example of\\nmulti-line comments'"
      ]
     },
     "execution_count": 5,
     "metadata": {},
     "output_type": "execute_result"
    }
   ],
   "source": [
    "\"\"\"This is also a\n",
    "perfect example of\n",
    "multi-line comments\"\"\""
   ]
  },
  {
   "cell_type": "markdown",
   "id": "07048171",
   "metadata": {},
   "source": [
    "Here, the multiline string isn't assigned to any variable, \n",
    "so it is ignored by the interpreter. Even though it is not technically a multiline comment, \n",
    "it can be used as one."
   ]
  },
  {
   "cell_type": "markdown",
   "id": "cdb6aa86",
   "metadata": {},
   "source": [
    "# Use of Python Comment\n",
    "\n",
    "1. Make Code Easier to Understand\n",
    "\n",
    "If we write comments in our code, it will be easier for future reference.\n",
    "\n",
    "Also, it will be easier for other developers to understand the code.\n",
    "\n",
    "2. Using Comments for Debugging\n",
    "\n",
    "If we get an error while running the program, we can comment the line of code that causes the error instead of removing it. \n",
    "\n",
    "For example,"
   ]
  },
  {
   "cell_type": "code",
   "execution_count": 6,
   "id": "c9112b49",
   "metadata": {},
   "outputs": [
    {
     "name": "stdout",
     "output_type": "stream",
     "text": [
      "Python\n",
      "Django\n"
     ]
    }
   ],
   "source": [
    "print('Python')\n",
    "\n",
    "#print('Error Line )\n",
    "\n",
    "print('Django')"
   ]
  },
  {
   "cell_type": "markdown",
   "id": "c57e82a1",
   "metadata": {},
   "source": [
    "Here, print('Error Line) was causing an error so we have changed it to a comment. Now, the program runs without any errors.\n",
    "\n",
    "This is how comments can be a valuable debugging tool."
   ]
  },
  {
   "cell_type": "markdown",
   "id": "71c5a5ed",
   "metadata": {},
   "source": [
    "Note: Always use comments to explain why we did something rather than how we did something. \n",
    "      Comments shouldn't be a substitute to explain poorly written code."
   ]
  },
  {
   "cell_type": "code",
   "execution_count": null,
   "id": "69946dec",
   "metadata": {},
   "outputs": [],
   "source": []
  }
 ],
 "metadata": {
  "kernelspec": {
   "display_name": "Python 3 (ipykernel)",
   "language": "python",
   "name": "python3"
  },
  "language_info": {
   "codemirror_mode": {
    "name": "ipython",
    "version": 3
   },
   "file_extension": ".py",
   "mimetype": "text/x-python",
   "name": "python",
   "nbconvert_exporter": "python",
   "pygments_lexer": "ipython3",
   "version": "3.9.7"
  }
 },
 "nbformat": 4,
 "nbformat_minor": 5
}
