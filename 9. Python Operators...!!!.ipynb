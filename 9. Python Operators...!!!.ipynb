{
 "cells": [
  {
   "cell_type": "markdown",
   "id": "22681dab",
   "metadata": {},
   "source": [
    "# Python Operators"
   ]
  },
  {
   "cell_type": "markdown",
   "id": "d8e52871",
   "metadata": {},
   "source": [
    "In this segment, we'll learn everything about different types of operators in Python, their syntax and how to use them with examples."
   ]
  },
  {
   "cell_type": "markdown",
   "id": "edc38190",
   "metadata": {},
   "source": [
    "Operators are special symbols that perform operations on variables and values. For example,"
   ]
  },
  {
   "cell_type": "code",
   "execution_count": null,
   "id": "62b6e9e9",
   "metadata": {},
   "outputs": [],
   "source": [
    "print(5 + 6)   # 11"
   ]
  },
  {
   "cell_type": "markdown",
   "id": "dd979208",
   "metadata": {},
   "source": [
    "Here, + is an operator that adds two numbers: 5 and 6."
   ]
  },
  {
   "cell_type": "markdown",
   "id": "fece6ea7",
   "metadata": {},
   "source": [
    "# Types of Python Operators\n",
    "\n",
    "Here's a list of different types of Python operators that we will learn in this tutorial.\n",
    "\n",
    "1. Arithmetic operators\n",
    "2. Assignment Operators\n",
    "3. Comparison Operators\n",
    "4. Logical Operators\n",
    "5. Special Operators\n",
    "6. Membership Operators"
   ]
  },
  {
   "cell_type": "markdown",
   "id": "83779f92",
   "metadata": {},
   "source": [
    "# 1. Python Arithmetic Operators\n",
    "\n",
    "Arithmetic operators are used to perform mathematical operations like addition, subtraction, multiplication, etc. For example,"
   ]
  },
  {
   "cell_type": "code",
   "execution_count": null,
   "id": "40db3e0a",
   "metadata": {},
   "outputs": [],
   "source": [
    "sub = 10 - 5 # 5\n",
    "sub"
   ]
  },
  {
   "cell_type": "markdown",
   "id": "c8894e80",
   "metadata": {},
   "source": [
    "Here, - is an arithmetic operator that subtracts two values or variables."
   ]
  },
  {
   "cell_type": "raw",
   "id": "379e7976",
   "metadata": {},
   "source": [
    "Operator\tOperation\t        Example\n",
    "\n",
    "+\t        Addition\t        5 + 2 = 7\n",
    "\n",
    "-\t        Subtraction\t        4 - 2 = 2\n",
    "\n",
    "*\t        Multiplication\t    2 * 3 = 6\n",
    "\n",
    "/\t        Division\t        4 / 2 = 2\n",
    "\n",
    "%\t        Modulo\t            5 % 2 = 1\n",
    "\n",
    "**\t        Power\t            4 ** 2 = 16"
   ]
  },
  {
   "cell_type": "markdown",
   "id": "942ffa47",
   "metadata": {},
   "source": [
    "# Example 1: Arithmetic Operators in Python"
   ]
  },
  {
   "cell_type": "code",
   "execution_count": 1,
   "id": "27e8a201",
   "metadata": {},
   "outputs": [
    {
     "name": "stdout",
     "output_type": "stream",
     "text": [
      "Sum:  16\n",
      "Subtraction:  12\n",
      "Multiplication:  28\n",
      "Division:  7.0\n",
      "Modulo:  0\n",
      "Power:  196\n"
     ]
    }
   ],
   "source": [
    "a = 14\n",
    "b = 2\n",
    "\n",
    "# addition\n",
    "print ('Sum: ', a + b)  \n",
    "\n",
    "# subtraction\n",
    "print ('Subtraction: ', a - b)   \n",
    "\n",
    "# multiplication\n",
    "print ('Multiplication: ', a * b)  \n",
    "\n",
    "# division\n",
    "print ('Division: ', a / b) \n",
    "\n",
    "# modulo\n",
    "print ('Modulo: ', a % b)  \n",
    "\n",
    "# a to the power b\n",
    "print ('Power: ', a ** b)   "
   ]
  },
  {
   "cell_type": "raw",
   "id": "805b4a41",
   "metadata": {},
   "source": [
    "In the above example, we have used multiple arithmetic operators,\n",
    "\n",
    "+ to add a and b\n",
    "- to subtract b from a\n",
    "* to multiply a and b\n",
    "/ to divide a by b\n",
    "% to get the remainder\n",
    "** to get a to the power b"
   ]
  },
  {
   "cell_type": "markdown",
   "id": "9a1f302e",
   "metadata": {},
   "source": [
    "# 2. Python Assignment Operators\n",
    "\n",
    "Assignment operators are used to assign values to variables. For example,"
   ]
  },
  {
   "cell_type": "code",
   "execution_count": 2,
   "id": "fa4cc1a0",
   "metadata": {},
   "outputs": [],
   "source": [
    "# assign 5 to x \n",
    "x = 5"
   ]
  },
  {
   "cell_type": "markdown",
   "id": "a6229872",
   "metadata": {},
   "source": [
    "Here, = is an assignment operator that assigns 5 to x."
   ]
  },
  {
   "cell_type": "raw",
   "id": "b24d39e2",
   "metadata": {},
   "source": [
    "Here's a list of different assignment operators available in Python.\n",
    "\n",
    "Operator   Name\t                     Example\n",
    "=\t       Assignment Operator\t     a = 7\n",
    "+=\t       Addition Assignment\t     a += 1 # a = a + 1\n",
    "-=\t       Subtraction Assignment\t a -= 3 # a = a - 3\n",
    "*=\t       Multiplication Assignment a *= 4 # a = a * 4\n",
    "/=\t       Division Assignment\t     a /= 3 # a = a / 3\n",
    "%=\t       Remainder Assignment\t     a %= 10 # a = a % 10\n",
    "**=\t       Exponent Assignment\t     a **= 10 # a = a ** 10"
   ]
  },
  {
   "cell_type": "markdown",
   "id": "c3e429f5",
   "metadata": {},
   "source": [
    "# Example 2: Assignment Operators"
   ]
  },
  {
   "cell_type": "code",
   "execution_count": 3,
   "id": "d5bac5b1",
   "metadata": {},
   "outputs": [
    {
     "name": "stdout",
     "output_type": "stream",
     "text": [
      "15\n"
     ]
    }
   ],
   "source": [
    "# assign 10 to a\n",
    "a = 10\n",
    "\n",
    "# assign 5 to b\n",
    "b = 5 \n",
    "\n",
    "# assign the sum of a and b to a\n",
    "a += b      # a = a + b\n",
    "\n",
    "#a = a + b\n",
    "\n",
    "print(a)\n",
    "\n",
    "# Output: 15"
   ]
  },
  {
   "cell_type": "markdown",
   "id": "44a7cdb0",
   "metadata": {},
   "source": [
    "Here, we have used the += operator to assign the sum of a and b to a.\n",
    "\n",
    "Similarly, we can use any other assignment operators according to the need."
   ]
  },
  {
   "cell_type": "markdown",
   "id": "6fa22090",
   "metadata": {},
   "source": [
    "# 3. Python Comparison Operators\n",
    "\n",
    "Comparison operators compare two values/variables and return a boolean result: True or False. For example,"
   ]
  },
  {
   "cell_type": "code",
   "execution_count": 4,
   "id": "7c6b335c",
   "metadata": {},
   "outputs": [
    {
     "name": "stdout",
     "output_type": "stream",
     "text": [
      "True\n"
     ]
    }
   ],
   "source": [
    "a = 5\n",
    "b =2\n",
    "\n",
    "print (a > b)    # True"
   ]
  },
  {
   "cell_type": "markdown",
   "id": "a2ee99a9",
   "metadata": {},
   "source": [
    "Here, the > comparison operator is used to compare whether a is greater than b or not."
   ]
  },
  {
   "cell_type": "raw",
   "id": "4d2fab9e",
   "metadata": {},
   "source": [
    "Operator\tMeaning\t                  Example\n",
    "\n",
    "==\t        Is Equal To\t3 == 5       gives us False\n",
    "\n",
    "!=          Not Equal To\t3 != 5   gives us True\n",
    "\n",
    ">\t        Greater Than\t3 > 5    gives us False\n",
    "\n",
    "<\t        Less Than\t3 < 5        gives us True\n",
    "\n",
    ">=\t        Greater Than or Equal To 3 >= 5  give us False\n",
    "\n",
    "<=\t        Less Than or Equal To 3 <= 5     gives us True"
   ]
  },
  {
   "cell_type": "markdown",
   "id": "c68b99b0",
   "metadata": {},
   "source": [
    "# Example 3: Comparison Operators"
   ]
  },
  {
   "cell_type": "code",
   "execution_count": 5,
   "id": "b1f3514e",
   "metadata": {},
   "outputs": [
    {
     "name": "stdout",
     "output_type": "stream",
     "text": [
      "a == b = False\n",
      "a != b = True\n",
      "a > b = True\n",
      "a < b = False\n",
      "a >= b = True\n",
      "a <= b = False\n"
     ]
    }
   ],
   "source": [
    "a = 5\n",
    "\n",
    "b = 2\n",
    "\n",
    "# equal to operator\n",
    "print('a == b =', a == b)\n",
    "\n",
    "# not equal to operator\n",
    "print('a != b =', a != b)\n",
    "\n",
    "# greater than operator\n",
    "print('a > b =', a > b)\n",
    "\n",
    "# less than operator\n",
    "print('a < b =', a < b)\n",
    "\n",
    "# greater than or equal to operator\n",
    "print('a >= b =', a >= b)\n",
    "\n",
    "# less than or equal to operator\n",
    "print('a <= b =', a <= b)"
   ]
  },
  {
   "cell_type": "markdown",
   "id": "39c81517",
   "metadata": {},
   "source": [
    "Note: Comparison operators are used in decision-making and loops. We'll discuss more of the comparison operator and decision-making in later "
   ]
  },
  {
   "cell_type": "markdown",
   "id": "97dc06d7",
   "metadata": {},
   "source": [
    "# 4. Python Logical Operators\n",
    "\n",
    "Logical operators are used to check whether an expression is True or False. They are used in decision-making. For example,"
   ]
  },
  {
   "cell_type": "code",
   "execution_count": 6,
   "id": "91ae1e99",
   "metadata": {},
   "outputs": [
    {
     "name": "stdout",
     "output_type": "stream",
     "text": [
      "False\n"
     ]
    }
   ],
   "source": [
    "a = 5\n",
    "b = 4 \n",
    "\n",
    "print((a > 2) and (b >= 6))    # True"
   ]
  },
  {
   "cell_type": "markdown",
   "id": "32193f02",
   "metadata": {},
   "source": [
    "Here, and is the logical operator AND. Since both a > 2 and b >= 6 are True, the result is True."
   ]
  },
  {
   "cell_type": "raw",
   "id": "1ce7ed38",
   "metadata": {},
   "source": [
    "Operator\tExample\t                            Meaning\n",
    "\n",
    "and\t        a and b\t                           Logical AND: True only if both the operands are True                                             \n",
    "or\t        a or b\t                           Logical OR: True if at least one of the operands is True\n",
    "\n",
    "not\t        not a\t                           Logical NOT: True if the operand is False and vice-versa.\t\t\t\t\t"
   ]
  },
  {
   "cell_type": "markdown",
   "id": "505e76fd",
   "metadata": {},
   "source": [
    "# Example 4: Logical Operators"
   ]
  },
  {
   "cell_type": "code",
   "execution_count": 7,
   "id": "03ca4c96",
   "metadata": {},
   "outputs": [
    {
     "name": "stdout",
     "output_type": "stream",
     "text": [
      "True\n",
      "False\n",
      "True\n",
      "False\n"
     ]
    }
   ],
   "source": [
    "# logical AND\n",
    "print(True and True)     # True\n",
    "print(True and False)    # False\n",
    "\n",
    "# logical OR\n",
    "print(True or False)     # True\n",
    "\n",
    "# logical NOT\n",
    "print(not True)          # False"
   ]
  },
  {
   "cell_type": "markdown",
   "id": "e2747897",
   "metadata": {},
   "source": [
    "# 5. Python Special operators\n",
    "\n",
    "Python language offers some special types of operators like the identity operator and the membership operator. They are described below with examples."
   ]
  },
  {
   "cell_type": "markdown",
   "id": "54a5e0e1",
   "metadata": {},
   "source": [
    "# Identity operators\n",
    "\n",
    "In Python, is and is not are used to check if two values are located on the same part of the memory. Two variables that are equal does not imply that they are identical."
   ]
  },
  {
   "cell_type": "raw",
   "id": "e31ca6db",
   "metadata": {},
   "source": [
    "Operator\t                     Meaning\t                                                                Example\n",
    "\n",
    "is\t                             True if the operands are identical (refer to the same object)\t            x is True\n",
    "\n",
    "is not\t                         True if the operands are not identical (do not refer to the same object)\tx is not True"
   ]
  },
  {
   "cell_type": "markdown",
   "id": "33c84193",
   "metadata": {},
   "source": [
    "# Example 5: Identity operators in Python"
   ]
  },
  {
   "cell_type": "code",
   "execution_count": 8,
   "id": "e1144d75",
   "metadata": {},
   "outputs": [
    {
     "name": "stdout",
     "output_type": "stream",
     "text": [
      "False\n",
      "True\n",
      "False\n"
     ]
    }
   ],
   "source": [
    "x1 = 5\n",
    "y1 = 5\n",
    "x2 = 'Hello'\n",
    "y2 = 'Hello'\n",
    "x3 = [1,2,3]\n",
    "y3 = [1,2,3]\n",
    "\n",
    "print(x1 is not y1)  # prints False\n",
    "\n",
    "print(x2 is y2)  # prints True\n",
    "\n",
    "print(x3 is y3)  # prints False"
   ]
  },
  {
   "cell_type": "markdown",
   "id": "c1a907b9",
   "metadata": {},
   "source": [
    "Here, we see that x1 and y1 are integers of the same values, so they are equal as well as identical. Same is the case with x2 and y2 (strings).\n",
    "\n",
    "But x3 and y3 are lists. They are equal but not identical. It is because the interpreter locates them separately in memory although they are equal."
   ]
  },
  {
   "cell_type": "markdown",
   "id": "af9a5de1",
   "metadata": {},
   "source": [
    "# 6. Membership operators\n",
    "In Python, in and not in are the membership operators. They are used to test whether a value or variable is found in a sequence (string, list, tuple, set and dictionary).\n",
    "\n",
    "In a dictionary we can only test for presence of key, not the value."
   ]
  },
  {
   "cell_type": "raw",
   "id": "291749f5",
   "metadata": {},
   "source": [
    "Operator\t                         Meaning\t                                            Example\n",
    "\n",
    "in\t                                  True if value/variable is found in the sequence\t    5 in x\n",
    "not in\t                              True if value/variable is not found in the sequence\t5 not in x"
   ]
  },
  {
   "cell_type": "code",
   "execution_count": 9,
   "id": "13c5d36f",
   "metadata": {},
   "outputs": [
    {
     "name": "stdout",
     "output_type": "stream",
     "text": [
      "True\n",
      "True\n",
      "True\n",
      "False\n"
     ]
    }
   ],
   "source": [
    "x = 'Hello world'\n",
    "y = {1:'a', 2:'b'}\n",
    "\n",
    "# check if 'H' is present in x string\n",
    "print('H' in x)  # prints True\n",
    "\n",
    "# check if 'hello' is present in x string\n",
    "print('hello' not in x)  # prints True\n",
    "\n",
    "# check if '1' key is present in y\n",
    "print(1 in y)  # prints True\n",
    "\n",
    "# check if 'a' key is present in y\n",
    "print('a' in y)  # prints False"
   ]
  },
  {
   "cell_type": "markdown",
   "id": "dd76cb97",
   "metadata": {},
   "source": [
    "Here, 'H' is in x but 'hello' is not present in x (remember, Python is case sensitive).\n",
    "\n",
    "Similarly, 1 is key and 'a' is the value in dictionary y. Hence, 'a' in y returns False."
   ]
  },
  {
   "cell_type": "code",
   "execution_count": null,
   "id": "4bad1189",
   "metadata": {},
   "outputs": [],
   "source": []
  }
 ],
 "metadata": {
  "kernelspec": {
   "display_name": "Python 3 (ipykernel)",
   "language": "python",
   "name": "python3"
  },
  "language_info": {
   "codemirror_mode": {
    "name": "ipython",
    "version": 3
   },
   "file_extension": ".py",
   "mimetype": "text/x-python",
   "name": "python",
   "nbconvert_exporter": "python",
   "pygments_lexer": "ipython3",
   "version": "3.9.7"
  }
 },
 "nbformat": 4,
 "nbformat_minor": 5
}
