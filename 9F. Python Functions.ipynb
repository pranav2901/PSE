{
 "cells": [
  {
   "cell_type": "markdown",
   "id": "c0598ee5",
   "metadata": {},
   "source": [
    "# Python Functions"
   ]
  },
  {
   "cell_type": "markdown",
   "id": "2b3e7525",
   "metadata": {},
   "source": [
    "A function is a block of code that performs a specific task.\n",
    "\n",
    "Suppose, you need to create a program to create a circle and color it. You can create two functions to solve this problem:\n",
    "\n",
    "create a circle function\n",
    "create a color function\n",
    "Dividing a complex problem into smaller chunks makes our program easy to understand and reuse."
   ]
  },
  {
   "cell_type": "markdown",
   "id": "3dff160c",
   "metadata": {},
   "source": [
    "# Types of function\n",
    "\n",
    "There are two types of function in Python programming:\n",
    "\n",
    "Standard library functions - These are built-in functions in Python that are available to use.\n",
    "\n",
    "User-defined functions - We can create our own functions based on our requirements."
   ]
  },
  {
   "cell_type": "markdown",
   "id": "05378a88",
   "metadata": {},
   "source": [
    "# Python Function Declaration\n",
    "\n",
    "The syntax to declare a function is:\n",
    "\n",
    "def function_name(arguments):\n",
    "    \n",
    "    # function body \n",
    "\n",
    "    return\n",
    "\n",
    "Here,\n",
    "\n",
    "def - keyword used to declare a function\n",
    "\n",
    "function_name - any name given to the function\n",
    "\n",
    "arguments - any value passed to function\n",
    "\n",
    "return (optional) - returns value from a function\n",
    "\n",
    "Let's see an example,"
   ]
  },
  {
   "cell_type": "code",
   "execution_count": null,
   "id": "b03b3bee",
   "metadata": {},
   "outputs": [],
   "source": [
    "def greet():\n",
    "    print('Hello World!')"
   ]
  },
  {
   "cell_type": "code",
   "execution_count": null,
   "id": "1c0dd3df",
   "metadata": {},
   "outputs": [],
   "source": [
    "greet()"
   ]
  },
  {
   "cell_type": "markdown",
   "id": "c6bfbae9",
   "metadata": {},
   "source": [
    "Here, we have created a function named greet().\n",
    "\n",
    "It simply prints the text Hello World!.\n",
    "\n",
    "This function doesn't have any arguments and doesn't return any values. \n",
    "\n",
    "We will learn about arguments and return statements later in this tutorial.\n",
    "\n"
   ]
  },
  {
   "cell_type": "markdown",
   "id": "6e8e0823",
   "metadata": {},
   "source": [
    "# Calling a Function in Python\n",
    "\n",
    "In the above example, we have declared a function named greet().\n",
    "\n",
    "Here's how we can call the greet() function in Python.\n",
    "\n",
    "call the function\n",
    "\n",
    "greet()"
   ]
  },
  {
   "cell_type": "markdown",
   "id": "0c9a4f7f",
   "metadata": {},
   "source": [
    "# Example: Python Function"
   ]
  },
  {
   "cell_type": "code",
   "execution_count": null,
   "id": "48b803c5",
   "metadata": {},
   "outputs": [],
   "source": [
    "def greet():\n",
    "    print('Hello World!')\n",
    "\n",
    "# call the function\n",
    "greet()\n",
    "\n",
    "print('Outside function')"
   ]
  },
  {
   "cell_type": "markdown",
   "id": "847c0014",
   "metadata": {},
   "source": [
    "In the above example, we have created a function named greet(). Here's how the program works: **Explaination for above code"
   ]
  },
  {
   "cell_type": "markdown",
   "id": "b48a7d68",
   "metadata": {},
   "source": [
    "Here,\n",
    "\n",
    "When the function is called, the control of the program goes to the function definition.\n",
    "All codes inside the function are executed.\n",
    "The control of the program jumps to the next statement after the function call."
   ]
  },
  {
   "cell_type": "markdown",
   "id": "3771097c",
   "metadata": {},
   "source": [
    "# Python Function Arguments\n",
    "\n",
    "As mentioned earlier, a function can also have arguments. \n",
    "\n",
    "An argument is a value that is accepted by a function. For example,\n",
    "\n"
   ]
  },
  {
   "cell_type": "markdown",
   "id": "57c1f201",
   "metadata": {},
   "source": [
    "# function with two arguments\n",
    "\n",
    "def add_numbers(num1, num2):\n",
    "    \n",
    "    sum = num1 + num2\n",
    "    \n",
    "    print('Sum: ',sum)\n",
    "\n",
    "# function with no argument\n",
    "\n",
    "def add_numbers():\n",
    "    \n",
    "    # code"
   ]
  },
  {
   "cell_type": "markdown",
   "id": "808dd0f8",
   "metadata": {},
   "source": [
    "If we create a function with arguments, we need to pass the corresponding values while calling them. For example,"
   ]
  },
  {
   "cell_type": "markdown",
   "id": "ada002cd",
   "metadata": {},
   "source": [
    "function call with two values\n",
    "\n",
    "add_numbers(5, 4)\n",
    "\n",
    "function call with no value\n",
    "\n",
    "add_numbers()\n",
    "\n",
    "Here, add_numbers(5, 4) specifies that arguments num1 and num2 will get values 5 and 4 respectively."
   ]
  },
  {
   "cell_type": "markdown",
   "id": "98145ce1",
   "metadata": {},
   "source": [
    "# Example 1: Python Function Arguments"
   ]
  },
  {
   "cell_type": "code",
   "execution_count": 1,
   "id": "5642c7fe",
   "metadata": {},
   "outputs": [
    {
     "name": "stdout",
     "output_type": "stream",
     "text": [
      "Sum:  9\n"
     ]
    }
   ],
   "source": [
    "# function with two arguments\n",
    "def add_numbers(num1, num2):\n",
    "    sum = num1 + num2\n",
    "    print(\"Sum: \",sum)\n",
    "\n",
    "# function call with two values\n",
    "add_numbers(5, 4)\n",
    "\n",
    "# Output: Sum: 9"
   ]
  },
  {
   "cell_type": "markdown",
   "id": "25e89e00",
   "metadata": {},
   "source": [
    "In the above example, we have created a function named add_numbers() with arguments: num1 and num2."
   ]
  },
  {
   "cell_type": "markdown",
   "id": "5c2492e3",
   "metadata": {},
   "source": [
    "We can also call the function by mentioning the argument name as:"
   ]
  },
  {
   "cell_type": "code",
   "execution_count": 2,
   "id": "85b547b2",
   "metadata": {},
   "outputs": [
    {
     "name": "stdout",
     "output_type": "stream",
     "text": [
      "Sum:  9\n"
     ]
    }
   ],
   "source": [
    "add_numbers(num1 = 5, num2 = 4)"
   ]
  },
  {
   "cell_type": "markdown",
   "id": "62a241a6",
   "metadata": {},
   "source": [
    "In Python, we call it Keyword Argument (or named argument). The code above is equivalent to\n",
    "\n",
    "add_numbers(5, 4)"
   ]
  },
  {
   "cell_type": "markdown",
   "id": "91063730",
   "metadata": {},
   "source": [
    "# The return Statement in Python\n",
    "\n",
    "A Python function may or may not return a value. If we want our function to return some value to a function call, we use the return statement. For example,\n",
    "\n",
    "def add_numbers():\n",
    "\n",
    "    ...\n",
    "\n",
    "    return sum\n",
    "\n",
    "Here, we are returning the variable sum to the function call.\n",
    "\n",
    "Note: The return statement also denotes that the function has ended. Any code after return is not executed."
   ]
  },
  {
   "cell_type": "markdown",
   "id": "d2e62ef8",
   "metadata": {},
   "source": [
    "# Example 2: Function return Type"
   ]
  },
  {
   "cell_type": "code",
   "execution_count": 3,
   "id": "2e0488fc",
   "metadata": {},
   "outputs": [],
   "source": [
    "# function definition\n",
    "def find_square(num):\n",
    "    result = num * num\n",
    "    return result"
   ]
  },
  {
   "cell_type": "code",
   "execution_count": 4,
   "id": "f6fbd510",
   "metadata": {},
   "outputs": [],
   "source": [
    "# function call\n",
    "square = find_square(3)"
   ]
  },
  {
   "cell_type": "code",
   "execution_count": 5,
   "id": "a677aa8f",
   "metadata": {},
   "outputs": [
    {
     "name": "stdout",
     "output_type": "stream",
     "text": [
      "Square: 9\n"
     ]
    }
   ],
   "source": [
    "print('Square:',square)\n",
    "\n",
    "# Output: Square: 9"
   ]
  },
  {
   "cell_type": "markdown",
   "id": "2e21bea6",
   "metadata": {},
   "source": [
    "In the above example, we have created a function named find_square(). \n",
    "The function accepts a number and returns the square of the number."
   ]
  },
  {
   "cell_type": "markdown",
   "id": "9094385f",
   "metadata": {},
   "source": [
    "# Example 3: Add Two Numbers"
   ]
  },
  {
   "cell_type": "code",
   "execution_count": 6,
   "id": "fe91130e",
   "metadata": {},
   "outputs": [],
   "source": [
    "# function that adds two numbers\n",
    "def add_numbers(num1, num2):\n",
    "    sum = num1 + num2\n",
    "    return sum\n",
    "\n",
    "# calling function with two values\n",
    "result = add_numbers(5, 4)"
   ]
  },
  {
   "cell_type": "code",
   "execution_count": 7,
   "id": "3d770529",
   "metadata": {},
   "outputs": [
    {
     "name": "stdout",
     "output_type": "stream",
     "text": [
      "Sum:  9\n"
     ]
    }
   ],
   "source": [
    "print('Sum: ', result)\n",
    "\n",
    "# Output: Sum: 9"
   ]
  },
  {
   "cell_type": "markdown",
   "id": "da438bfe",
   "metadata": {},
   "source": [
    "# Python Library Functions\n",
    "\n",
    "In Python, standard library functions are the built-in functions that can be used directly in our program. \n",
    "\n",
    "For example,\n",
    "\n",
    "print() - prints the string inside the quotation marks\n",
    "\n",
    "sqrt() - returns the square root of a number\n",
    "\n",
    "pow() - returns the power of a number\n",
    "\n",
    "These library functions are defined inside the module. And, to use them we must include the module inside our program.\n",
    "\n",
    "For example, sqrt() is defined inside the math module."
   ]
  },
  {
   "cell_type": "markdown",
   "id": "ea0314a1",
   "metadata": {},
   "source": [
    "# Example 4: Python Library Function"
   ]
  },
  {
   "cell_type": "code",
   "execution_count": null,
   "id": "0ea2c8f0",
   "metadata": {},
   "outputs": [],
   "source": [
    "import math\n",
    "\n",
    "# sqrt computes the square root\n",
    "square_root = math.sqrt(4)\n",
    "\n",
    "print(\"Square Root of 4 is\",square_root)\n",
    "\n",
    "# pow() comptes the power\n",
    "power = pow(2, 3)\n",
    "\n",
    "print(\"2 to the power 3 is\",power)"
   ]
  },
  {
   "cell_type": "markdown",
   "id": "c92f6e1e",
   "metadata": {},
   "source": [
    "In the above example, we have used\n",
    "\n",
    "math.sqrt(4) - to compute the square root of 4\n",
    "\n",
    "pow(2, 3) - computes the power of a number i.e. 2**3\n",
    "\n",
    "Here, notice the statement,\n",
    "\n",
    "import math\n",
    "\n",
    "Since sqrt() is defined inside the math module, we need to include it in our program."
   ]
  },
  {
   "cell_type": "markdown",
   "id": "366d6aad",
   "metadata": {},
   "source": [
    "# Benefits of Using Functions\n",
    "\n",
    "1. Code Reusable - We can use the same function multiple times in our program which makes our code reusable. \n",
    "\n",
    "For example,"
   ]
  },
  {
   "cell_type": "code",
   "execution_count": 8,
   "id": "694797ed",
   "metadata": {},
   "outputs": [
    {
     "name": "stdout",
     "output_type": "stream",
     "text": [
      "Square of 1 = 1\n",
      "Square of 2 = 4\n",
      "Square of 3 = 9\n"
     ]
    }
   ],
   "source": [
    "# function definition\n",
    "def get_square(num):\n",
    "    return num * num\n",
    "\n",
    "for i in [1,2,3]:\n",
    "    # function call\n",
    "    result = get_square(i)\n",
    "    print('Square of',i, '=',result)"
   ]
  },
  {
   "cell_type": "markdown",
   "id": "900db298",
   "metadata": {},
   "source": [
    "In the above example, we have created the function named get_square() to calculate the square of a number. \n",
    "\n",
    "Here, the function is used to calculate the square of numbers from 1 to 3.\n",
    "\n",
    "Hence, the same method is used again and again.\n",
    "\n",
    "\n",
    "2. Code Readability - Functions help us break our code into chunks to make our program readable and easy to understand."
   ]
  },
  {
   "cell_type": "markdown",
   "id": "caf7549a",
   "metadata": {},
   "source": [
    "# Python Function Arguments\n",
    "\n",
    "In computer programming, an argument is a value that is accepted by a function."
   ]
  },
  {
   "cell_type": "markdown",
   "id": "f9bbbad4",
   "metadata": {},
   "source": [
    "# Example 1: Python Function Arguments"
   ]
  },
  {
   "cell_type": "code",
   "execution_count": 9,
   "id": "64e2618d",
   "metadata": {},
   "outputs": [
    {
     "name": "stdout",
     "output_type": "stream",
     "text": [
      "Sum: 5\n"
     ]
    }
   ],
   "source": [
    "def add_numbers(a, b):\n",
    "    sum = a + b\n",
    "    print('Sum:', sum)\n",
    "\n",
    "add_numbers(2, 3)\n",
    "\n",
    "# Output: Sum: 5"
   ]
  },
  {
   "cell_type": "markdown",
   "id": "54e28155",
   "metadata": {},
   "source": [
    "In the above example, the function add_numbers() takes two parameters: a and b. Notice the line,\n",
    "\n",
    "add_numbers(2, 3)\n",
    "\n",
    "Here, add_numbers(2, 3) specifies that parameters a and b will get values 2 and 3 respectively."
   ]
  },
  {
   "cell_type": "markdown",
   "id": "c69735cd",
   "metadata": {},
   "source": [
    "# Function Argument with Default Values\n",
    "In Python, we can provide default values to function arguments.\n",
    "\n",
    "We use the = operator to provide default values. For example,"
   ]
  },
  {
   "cell_type": "code",
   "execution_count": null,
   "id": "b66981c1",
   "metadata": {},
   "outputs": [],
   "source": [
    "def add_numbers( a = 7,  b = 8):\n",
    "    sum = a + b\n",
    "    print('Sum:', sum)\n",
    "\n",
    "\n",
    "# function call with two arguments\n",
    "add_numbers(2, 3)\n",
    "\n",
    "#  function call with one argument\n",
    "add_numbers(a = 2)\n",
    "\n",
    "# function call with no arguments\n",
    "add_numbers()"
   ]
  },
  {
   "cell_type": "markdown",
   "id": "7e94ba9d",
   "metadata": {},
   "source": [
    "In the above example, notice the function definition\n",
    "\n",
    "def add_numbers(a = 7, b = 8):\n",
    "    ...\n",
    "Here, we have provided default values 7 and 8 for parameters a and b respectively. Here's how this program works\n",
    "\n",
    "1. add_number(2, 3)\n",
    "\n",
    "Both values are passed during the function call. Hence, these values are used instead of the default values.\n",
    "\n",
    "2. add_number(2)\n",
    "\n",
    "Only one value is passed during the function call. So, according to the positional argument 2 is assigned to argument a, and the default value is used for parameter b.\n",
    "\n",
    "3. add_number()\n",
    "\n",
    "No value is passed during the function call. Hence, default value is used for both parameters a and b."
   ]
  },
  {
   "cell_type": "markdown",
   "id": "d5b184ce",
   "metadata": {},
   "source": [
    "# Python Keyword Argument\n",
    "\n",
    "In keyword arguments, arguments are assigned based on the name of arguments. For example,"
   ]
  },
  {
   "cell_type": "code",
   "execution_count": 10,
   "id": "be050541",
   "metadata": {},
   "outputs": [
    {
     "name": "stdout",
     "output_type": "stream",
     "text": [
      "First Name: Eric\n",
      "Last Name: Cartman\n"
     ]
    }
   ],
   "source": [
    "def display_info(first_name, last_name):\n",
    "    print('First Name:', first_name)\n",
    "    print('Last Name:', last_name)\n",
    "\n",
    "display_info(last_name = 'Cartman', first_name = 'Eric')"
   ]
  },
  {
   "cell_type": "markdown",
   "id": "f8eedd06",
   "metadata": {},
   "source": [
    "Here, notice the function call,\n",
    "\n",
    "display_info(last_name = 'Cartman', first_name = 'Eric')\n",
    "\n",
    "Here, we have assigned names to arguments during the function call.\n",
    "\n",
    "Hence, first_name in the function call is assigned to first_name in the function definition. \n",
    "\n",
    "Similarly, last_name in the function call is assigned to last_name in the function definition.\n",
    "\n",
    "In such scenarios, the position of arguments doesn't matter."
   ]
  },
  {
   "cell_type": "markdown",
   "id": "5c35e09c",
   "metadata": {},
   "source": [
    "# Python Function With Arbitrary Arguments\n",
    "\n",
    "Sometimes, we do not know in advance the number of arguments that will be passed into a function. \n",
    "\n",
    "To handle this kind of situation, we can use arbitrary arguments in Python.\n",
    "\n",
    "Arbitrary arguments allow us to pass a varying number of values during a function call.\n",
    "\n",
    "We use an asterisk (*) before the parameter name to denote this kind of argument. For example,"
   ]
  },
  {
   "cell_type": "code",
   "execution_count": 11,
   "id": "9a6b4c1c",
   "metadata": {},
   "outputs": [
    {
     "name": "stdout",
     "output_type": "stream",
     "text": [
      "Sum =  157\n",
      "Sum =  13\n"
     ]
    }
   ],
   "source": [
    "# program to find sum of multiple numbers \n",
    "\n",
    "def find_sum(*numbers):\n",
    "    result = 0            #Initialization of a variable\n",
    "    \n",
    "    for num in numbers:\n",
    "        result = result + num\n",
    "    \n",
    "    print(\"Sum = \", result)\n",
    "\n",
    "# function call with 3 arguments\n",
    "find_sum(1, 2, 3,25,75,45,6)\n",
    "\n",
    "# function call with 2 arguments\n",
    "find_sum(4, 9)"
   ]
  },
  {
   "cell_type": "markdown",
   "id": "1621a5b0",
   "metadata": {},
   "source": [
    "In the above example, we have created the function find_sum() that accepts arbitrary arguments. Notice the lines,\n",
    "\n",
    "find_sum(1, 2, 3)\n",
    "\n",
    "find_sum(4, 9)\n",
    "Here, we are able to call the same function with different arguments.\n",
    "\n",
    "Note: After getting multiple values, numbers behave as an array so we are able to use the for loop to access each value."
   ]
  },
  {
   "cell_type": "markdown",
   "id": "b396b389",
   "metadata": {},
   "source": [
    "# Python Recursion\n",
    "\n",
    "In this tutorial, you will learn to create a recursive function (a function that calls itself).\n",
    "\n",
    "Recursion is the process of defining something in terms of itself.\n",
    "\n",
    "A physical world example would be to place two parallel mirrors facing each other. \n",
    "\n",
    "Any object in between them would be reflected recursively."
   ]
  },
  {
   "cell_type": "markdown",
   "id": "3890b029",
   "metadata": {},
   "source": [
    "# Python Recursive Function\n",
    "\n",
    "In Python, we know that a function can call other functions. \n",
    "\n",
    "It is even possible for the function to call itself. These types of construct are termed as recursive functions."
   ]
  },
  {
   "cell_type": "markdown",
   "id": "2a4bbff6",
   "metadata": {},
   "source": [
    "Following is an example of a recursive function to find the factorial of an integer.\n",
    "\n",
    "Factorial of a number is the product of all the integers from 1 to that number. \n",
    "\n",
    "For example, the factorial of 6 (denoted as 6!) is 1 * 2 * 3 * 4 * 5 * 6 = 720.\n",
    "\n",
    "Example of a recursive function"
   ]
  },
  {
   "cell_type": "code",
   "execution_count": 12,
   "id": "158b4d8f",
   "metadata": {},
   "outputs": [
    {
     "name": "stdout",
     "output_type": "stream",
     "text": [
      "The factorial of y is 3628800\n"
     ]
    }
   ],
   "source": [
    "def factorial(x):\n",
    "    \"\"\"This is a recursive function\n",
    "    to find the factorial of an integer\"\"\"\n",
    "\n",
    "    if x == 1:\n",
    "        return 1\n",
    "    else:\n",
    "        return (x * factorial(x-1))\n",
    "\n",
    "y = 10\n",
    "print(\"The factorial of y is\", factorial(y))"
   ]
  },
  {
   "cell_type": "code",
   "execution_count": 13,
   "id": "08986ad0",
   "metadata": {},
   "outputs": [
    {
     "name": "stdout",
     "output_type": "stream",
     "text": [
      "The factorial of 3 is 6\n"
     ]
    }
   ],
   "source": [
    "def factorial(x):\n",
    "    \"\"\"This is a recursive function\n",
    "    to find the factorial of an integer\"\"\"\n",
    "\n",
    "    if x == 1:\n",
    "        return 1\n",
    "    else:\n",
    "        return (x * factorial(x-1))\n",
    "\n",
    "\n",
    "pranav = 3\n",
    "print(\"The factorial of\", pranav, \"is\", factorial(pranav))"
   ]
  },
  {
   "cell_type": "markdown",
   "id": "cd9c8b5a",
   "metadata": {},
   "source": [
    "In the above example, factorial() is a recursive function as it calls itself."
   ]
  },
  {
   "cell_type": "markdown",
   "id": "f64e1003",
   "metadata": {},
   "source": [
    "When we call this function with a positive integer, it will recursively call itself by decreasing the number.\n",
    "\n",
    "Each function multiplies the number with the factorial of the number below it until it is equal to one. \n",
    "\n",
    "This recursive call can be explained in the following steps.\n",
    "\n",
    "factorial(3)          # 1st call with 3\n",
    "\n",
    "3 * factorial(2)      # 2nd call with 2\n",
    "\n",
    "3 * 2 * factorial(1)  # 3rd call with 1\n",
    "\n",
    "3 * 2 * 1             # return from 3rd call as number=1\n",
    "\n",
    "3 * 2                 # return from 2nd call\n",
    "\n",
    "6                     # return from 1st call"
   ]
  },
  {
   "cell_type": "markdown",
   "id": "b1405146",
   "metadata": {},
   "source": [
    "Our recursion ends when the number reduces to 1. This is called the base condition.\n",
    "\n",
    "Every recursive function must have a base condition that stops the recursion or else the function calls itself infinitely.\n",
    "\n",
    "The Python interpreter limits the depths of recursion to help avoid infinite recursions, resulting in stack overflows.\n",
    "\n",
    "By default, the maximum depth of recursion is 1000. \n",
    "\n",
    "If the limit is crossed, it results in RecursionError. Let's look at one such condition."
   ]
  },
  {
   "cell_type": "code",
   "execution_count": null,
   "id": "10af737f",
   "metadata": {},
   "outputs": [],
   "source": [
    "#def recursor():\n",
    "#    recursor()\n",
    "    \n",
    "#recursor()         #The * signifies, the code is still working and it will dead my kernel"
   ]
  },
  {
   "cell_type": "markdown",
   "id": "498ef9f7",
   "metadata": {},
   "source": [
    "# Advantages of Recursion\n",
    "\n",
    "1. Recursive functions make the code look clean and elegant.\n",
    "\n",
    "2. A complex task can be broken down into simpler sub-problems using recursion.\n",
    "\n",
    "3. Sequence generation is easier with recursion than using some nested iteration."
   ]
  },
  {
   "cell_type": "markdown",
   "id": "1a57d117",
   "metadata": {},
   "source": [
    "# Disadvantages of Recursion\n",
    "\n",
    "1. Sometimes the logic behind recursion is hard to follow through.\n",
    "\n",
    "2. Recursive calls are expensive (inefficient) as they take up a lot of memory and time.\n",
    "\n",
    "3. Recursive functions are hard to debug."
   ]
  },
  {
   "cell_type": "markdown",
   "id": "1f544b7e",
   "metadata": {},
   "source": [
    "# Python Lambda/Anonymous Function"
   ]
  },
  {
   "cell_type": "markdown",
   "id": "c52d90fc",
   "metadata": {},
   "source": [
    "In Python, a lambda function is a special type of function without the function name. For example,\n",
    "\n",
    "lambda : print('Hello World')\n",
    "\n",
    "Here, we have created a lambda function that prints 'Hello World'."
   ]
  },
  {
   "cell_type": "markdown",
   "id": "d1cdad59",
   "metadata": {},
   "source": [
    "Python lambda Function Declaration\n",
    "\n",
    "We use the lambda keyword instead of def to create a lambda function. \n",
    "\n",
    "Here's the syntax to declare the lambda function:\n",
    "\n",
    "lambda argument(s) : expression \n",
    "\n",
    "Here,\n",
    "\n",
    "argument(s) - any value passed to the lambda function\n",
    "\n",
    "expression - expression is executed and returned\n",
    "\n",
    "Let's see an example,"
   ]
  },
  {
   "cell_type": "code",
   "execution_count": null,
   "id": "6d70b1a5",
   "metadata": {},
   "outputs": [],
   "source": [
    "def greet():\n",
    "    print('Hello World!')"
   ]
  },
  {
   "cell_type": "code",
   "execution_count": null,
   "id": "101782ec",
   "metadata": {},
   "outputs": [],
   "source": [
    "# call the function\n",
    "greet()"
   ]
  },
  {
   "cell_type": "code",
   "execution_count": null,
   "id": "5942177d",
   "metadata": {},
   "outputs": [],
   "source": [
    "greet_1 = lambda : print('Hello World')"
   ]
  },
  {
   "cell_type": "markdown",
   "id": "bd86b3e9",
   "metadata": {},
   "source": [
    "Here, we have defined a lambda function and assigned it to the variable named greet.\n",
    "\n",
    "To execute this lambda function, we need to call it. Here's how we can call the lambda function"
   ]
  },
  {
   "cell_type": "code",
   "execution_count": null,
   "id": "131548b9",
   "metadata": {},
   "outputs": [],
   "source": [
    "# call the lambda\n",
    "greet_1()"
   ]
  },
  {
   "cell_type": "markdown",
   "id": "dbdab5c9",
   "metadata": {},
   "source": [
    "The lambda function above simply prints the text 'Hello World'.\n",
    "\n",
    "Note: This lambda function doesn't have any arguments."
   ]
  },
  {
   "cell_type": "markdown",
   "id": "845a12ca",
   "metadata": {},
   "source": [
    "# Example: Python lambda Function"
   ]
  },
  {
   "cell_type": "code",
   "execution_count": null,
   "id": "67690566",
   "metadata": {},
   "outputs": [],
   "source": [
    "# declare a lambda function\n",
    "greet = lambda : print('Hello World')\n",
    "\n",
    "# call lambda function\n",
    "greet()\n",
    "\n",
    "# Output: Hello World"
   ]
  },
  {
   "cell_type": "markdown",
   "id": "5cdee46c",
   "metadata": {},
   "source": [
    "In the above example, we have defined a lambda function and assigned it to the greet variable.\n",
    "\n",
    "When we call the lambda function, the print() statement inside the lambda function is executed."
   ]
  },
  {
   "cell_type": "markdown",
   "id": "07e7a52f",
   "metadata": {},
   "source": [
    "# Python lambda Function with an Argument\n",
    "\n",
    "Similar to normal functions, the lambda function can also accept arguments. For example,"
   ]
  },
  {
   "cell_type": "code",
   "execution_count": null,
   "id": "b2c17fb8",
   "metadata": {},
   "outputs": [],
   "source": [
    "# lambda that accepts one argument\n",
    "greet_user = lambda name : print('Hey there,', name)\n",
    "\n",
    "# lambda call\n",
    "greet_user('pranav')\n",
    "\n",
    "# Output: Hey there, Delilah"
   ]
  },
  {
   "cell_type": "markdown",
   "id": "107559e2",
   "metadata": {},
   "source": [
    "In the above example, we have assigned a lambda function to the greet_user variable.\n",
    "\n",
    "Here, name after the lambda keyword specifies that the lambda function accepts the argument named name.\n",
    "\n",
    "Notice the call of lambda function,\n",
    "\n",
    "greet_user('Delilah')\n",
    "\n",
    "Here, we have passed a string value 'Delilah' to our lambda function.\n",
    "\n",
    "And finally, the statement inside the lambda function is executed."
   ]
  },
  {
   "cell_type": "markdown",
   "id": "ce8758cf",
   "metadata": {},
   "source": [
    "# Frequently Asked Questions"
   ]
  },
  {
   "cell_type": "markdown",
   "id": "d805549d",
   "metadata": {},
   "source": [
    "1. How to use the lambda function with filter()?\n",
    "\n",
    "The filter() function in Python takes in a function and an iterable (lists, tuples, and strings) as arguments.\n",
    "\n",
    "The function is called with all the items in the list and a new list is returned which contains items \n",
    "\n",
    "for which the function evaluates to True.\n",
    "\n",
    "Let's see an example,"
   ]
  },
  {
   "cell_type": "code",
   "execution_count": 14,
   "id": "f0ae329d",
   "metadata": {},
   "outputs": [
    {
     "name": "stdout",
     "output_type": "stream",
     "text": [
      "[4, 6, 8, 12]\n"
     ]
    }
   ],
   "source": [
    "# Program to filter out only the even items from a list\n",
    "my_list = [1, 5, 4, 6, 8, 11, 3, 12]\n",
    "\n",
    "new_list = list(filter(lambda x: (x%2 == 0) , my_list))\n",
    "\n",
    "print(new_list)\n",
    "\n",
    "# Output: [4, 6, 8, 12]"
   ]
  },
  {
   "cell_type": "markdown",
   "id": "c24801af",
   "metadata": {},
   "source": [
    "Here, the filter() function returns only even numbers from a list."
   ]
  },
  {
   "cell_type": "markdown",
   "id": "0a3e6854",
   "metadata": {},
   "source": [
    "# 2. How to use the lambda function with map()?\n",
    "\n",
    "The map() function in Python takes in a function and an iterable (lists, tuples, and strings) as arguments.\n",
    "\n",
    "The function is called with all the items in the list and a new list is returned \n",
    "\n",
    "which contains items returned by that function for each item.\n",
    "\n",
    "Let's see an example,"
   ]
  },
  {
   "cell_type": "code",
   "execution_count": null,
   "id": "ef0d49b7",
   "metadata": {},
   "outputs": [],
   "source": [
    "# Program to double each item in a list using map()\n",
    "\n",
    "my_list = [1, 5, 4, 6, 8, 11, 3, 12]\n",
    "\n",
    "new_list = list(map(lambda x: x * 2 , my_list))\n",
    "\n",
    "print(new_list)\n",
    "\n",
    "# Output: [2, 10, 8, 12, 16, 22, 6, 24]"
   ]
  },
  {
   "cell_type": "markdown",
   "id": "8ee0bd56",
   "metadata": {},
   "source": [
    "Here, the map() function doubles all the items in a list."
   ]
  },
  {
   "cell_type": "markdown",
   "id": "418843b3",
   "metadata": {},
   "source": [
    "# Python Variable Scope"
   ]
  },
  {
   "cell_type": "markdown",
   "id": "4df6c420",
   "metadata": {},
   "source": [
    "In Python, we can declare variables in three different scopes: local scope, global, and nonlocal scope.\n",
    "\n",
    "A variable scope specifies the region where we can access a variable. For example,\n",
    "\n",
    "def add_numbers():\n",
    "    \n",
    "    sum = 5 + 4\n",
    "    \n",
    "Here, the sum variable is created inside the function, so it can only be accessed within it (local scope). \n",
    "\n",
    "This type of variable is called a local variable.\n",
    "\n",
    "Based on the scope, we can classify Python variables into three types:\n",
    "\n",
    "1. Local Variables\n",
    "\n",
    "2. Global Variables\n",
    "\n",
    "3. Nonlocal Variables"
   ]
  },
  {
   "cell_type": "markdown",
   "id": "e3a2dbfb",
   "metadata": {},
   "source": [
    "# Python Local Variables\n",
    "\n",
    "When we declare variables inside a function, these variables will have a local scope (within the function). \n",
    "\n",
    "We cannot access them outside the function.\n",
    "\n",
    "These types of variables are called local variables. \n",
    "\n",
    "For example,"
   ]
  },
  {
   "cell_type": "code",
   "execution_count": 15,
   "id": "6ed026ba",
   "metadata": {},
   "outputs": [
    {
     "name": "stdout",
     "output_type": "stream",
     "text": [
      "Hello\n"
     ]
    },
    {
     "ename": "NameError",
     "evalue": "name 'message' is not defined",
     "output_type": "error",
     "traceback": [
      "\u001b[1;31m---------------------------------------------------------------------------\u001b[0m",
      "\u001b[1;31mNameError\u001b[0m                                 Traceback (most recent call last)",
      "\u001b[1;32m~\\AppData\\Local\\Temp/ipykernel_23004/794113886.py\u001b[0m in \u001b[0;36m<module>\u001b[1;34m\u001b[0m\n\u001b[0;32m      8\u001b[0m \u001b[0mgreet\u001b[0m\u001b[1;33m(\u001b[0m\u001b[1;33m)\u001b[0m\u001b[1;33m\u001b[0m\u001b[1;33m\u001b[0m\u001b[0m\n\u001b[0;32m      9\u001b[0m \u001b[1;33m\u001b[0m\u001b[0m\n\u001b[1;32m---> 10\u001b[1;33m \u001b[0mprint\u001b[0m\u001b[1;33m(\u001b[0m\u001b[0mmessage\u001b[0m\u001b[1;33m)\u001b[0m\u001b[1;33m\u001b[0m\u001b[1;33m\u001b[0m\u001b[0m\n\u001b[0m",
      "\u001b[1;31mNameError\u001b[0m: name 'message' is not defined"
     ]
    }
   ],
   "source": [
    "def greet():\n",
    "\n",
    "    # local variable\n",
    "    message = 'Hello'\n",
    "    \n",
    "    print(message)\n",
    "\n",
    "greet()\n",
    "\n",
    "print(message)"
   ]
  },
  {
   "cell_type": "code",
   "execution_count": 18,
   "id": "a8c574a6",
   "metadata": {},
   "outputs": [
    {
     "name": "stdout",
     "output_type": "stream",
     "text": [
      "Hello\n"
     ]
    }
   ],
   "source": [
    "greet()"
   ]
  },
  {
   "cell_type": "code",
   "execution_count": 19,
   "id": "b0f4c47d",
   "metadata": {},
   "outputs": [
    {
     "ename": "NameError",
     "evalue": "name 'message' is not defined",
     "output_type": "error",
     "traceback": [
      "\u001b[1;31m---------------------------------------------------------------------------\u001b[0m",
      "\u001b[1;31mNameError\u001b[0m                                 Traceback (most recent call last)",
      "\u001b[1;32m~\\AppData\\Local\\Temp/ipykernel_23004/301306748.py\u001b[0m in \u001b[0;36m<module>\u001b[1;34m\u001b[0m\n\u001b[0;32m      2\u001b[0m \u001b[1;31m# outside greet() function\u001b[0m\u001b[1;33m\u001b[0m\u001b[1;33m\u001b[0m\u001b[0m\n\u001b[0;32m      3\u001b[0m \u001b[1;33m\u001b[0m\u001b[0m\n\u001b[1;32m----> 4\u001b[1;33m \u001b[0mprint\u001b[0m\u001b[1;33m(\u001b[0m\u001b[0mmessage\u001b[0m\u001b[1;33m)\u001b[0m\u001b[1;33m\u001b[0m\u001b[1;33m\u001b[0m\u001b[0m\n\u001b[0m\u001b[0;32m      5\u001b[0m \u001b[1;33m\u001b[0m\u001b[0m\n\u001b[0;32m      6\u001b[0m \u001b[1;31m# NameError: name 'message' is not defined\u001b[0m\u001b[1;33m\u001b[0m\u001b[1;33m\u001b[0m\u001b[0m\n",
      "\u001b[1;31mNameError\u001b[0m: name 'message' is not defined"
     ]
    }
   ],
   "source": [
    "# try to access message variable \n",
    "# outside greet() function\n",
    "\n",
    "print(message)\n",
    "\n",
    "# NameError: name 'message' is not defined"
   ]
  },
  {
   "cell_type": "markdown",
   "id": "4d8fc77f",
   "metadata": {},
   "source": [
    "Here, the message variable is local to the greet() function, so it can only be accessed within the function.\n",
    "\n",
    "That's why we get an error when we try to access it outside the greet() function.\n",
    "\n",
    "To fix this issue, we can make the variable named message global."
   ]
  },
  {
   "cell_type": "markdown",
   "id": "32daa430",
   "metadata": {},
   "source": [
    "# Python Global Variables\n",
    "\n",
    "In Python, a variable declared outside of the function or in global scope is known as a global variable. \n",
    "\n",
    "This means that a global variable can be accessed inside or outside of the function.\n",
    "\n",
    "Let's see an example of how a global variable is created in Python."
   ]
  },
  {
   "cell_type": "code",
   "execution_count": 20,
   "id": "a49f71de",
   "metadata": {},
   "outputs": [
    {
     "name": "stdout",
     "output_type": "stream",
     "text": [
      "local Hello\n",
      "global Hello\n"
     ]
    }
   ],
   "source": [
    "# declare global variable\n",
    "message = 'Hello'\n",
    "\n",
    "def greet():\n",
    "    # declare local variable\n",
    "    print('local',message)\n",
    "\n",
    "greet()\n",
    "print('global',message)"
   ]
  },
  {
   "cell_type": "markdown",
   "id": "396c40fc",
   "metadata": {},
   "source": [
    "This time we can access the message variable from outside of the greet() function. \n",
    "\n",
    "This is because we have created the message variable as the global variable.\n",
    "\n",
    "declare global variable\n",
    "\n",
    "message = 'Hello'\n",
    "\n",
    "Now, message will be accessible from any scope (region) of the program."
   ]
  },
  {
   "cell_type": "markdown",
   "id": "bd190bb8",
   "metadata": {},
   "source": [
    "# Python Nonlocal Variables\n",
    "\n",
    "In Python, nonlocal variables are used in nested functions whose local scope is not defined. \n",
    "\n",
    "This means that the variable can be neither in the local nor the global scope.\n",
    "\n",
    "We use the nonlocal keyword to create nonlocal variables.\n",
    "\n",
    "For example,"
   ]
  },
  {
   "cell_type": "code",
   "execution_count": 21,
   "id": "1cef45d3",
   "metadata": {},
   "outputs": [
    {
     "name": "stdout",
     "output_type": "stream",
     "text": [
      "inner: pranav\n",
      "outer: local\n"
     ]
    }
   ],
   "source": [
    "# outside function \n",
    "def outer():\n",
    "    message = 'local'\n",
    "\n",
    "    # nested function  \n",
    "    def inner():\n",
    "\n",
    "        # declare nonlocal variable\n",
    "        #nonlocal message\n",
    "        \n",
    "        message = 'pranav'\n",
    "        #message = 'nonlocal- B' #Try changing value here to 'nonlocal-A'\n",
    "        print(\"inner:\", message)\n",
    "\n",
    "    inner()\n",
    "    print(\"outer:\", message)\n",
    "\n",
    "outer()"
   ]
  },
  {
   "cell_type": "markdown",
   "id": "25a63683",
   "metadata": {},
   "source": [
    "In the above example, there is a nested inner() function. \n",
    "\n",
    "We have used the nonlocal keywords to create a nonlocal variable.\n",
    "\n",
    "The inner() function is defined in the scope of another function outer().\n",
    "\n",
    "Note : If we change the value of a nonlocal variable, the changes appear in the local variable."
   ]
  },
  {
   "cell_type": "markdown",
   "id": "64d11f92",
   "metadata": {},
   "source": [
    "# Python Global Keyword"
   ]
  },
  {
   "cell_type": "markdown",
   "id": "85eecd59",
   "metadata": {},
   "source": [
    "In Python, the global keyword allows us to modify the variable outside of the current scope.\n",
    "\n",
    "It is used to create a global variable and make changes to the variable in a local context."
   ]
  },
  {
   "cell_type": "markdown",
   "id": "3678202e",
   "metadata": {},
   "source": [
    "# Access and Modify Python Global Variable\n",
    "\n",
    "First let's try to access a global variable from the inside of a function,"
   ]
  },
  {
   "cell_type": "code",
   "execution_count": 22,
   "id": "d3e8562e",
   "metadata": {},
   "outputs": [
    {
     "name": "stdout",
     "output_type": "stream",
     "text": [
      "1\n"
     ]
    }
   ],
   "source": [
    "c = 1 # global variable\n",
    "\n",
    "def add():\n",
    "    print(c)\n",
    "\n",
    "add()\n",
    "\n",
    "# Output: 1"
   ]
  },
  {
   "cell_type": "markdown",
   "id": "5dd10667",
   "metadata": {},
   "source": [
    "Here, we can see that we have accessed a global variable from the inside of a function.\n",
    "\n",
    "However, if we try to modify the global variable from inside a function as:"
   ]
  },
  {
   "cell_type": "code",
   "execution_count": 23,
   "id": "2da707e4",
   "metadata": {},
   "outputs": [
    {
     "ename": "UnboundLocalError",
     "evalue": "local variable 'c' referenced before assignment",
     "output_type": "error",
     "traceback": [
      "\u001b[1;31m---------------------------------------------------------------------------\u001b[0m",
      "\u001b[1;31mUnboundLocalError\u001b[0m                         Traceback (most recent call last)",
      "\u001b[1;32m~\\AppData\\Local\\Temp/ipykernel_23004/470052988.py\u001b[0m in \u001b[0;36m<module>\u001b[1;34m\u001b[0m\n\u001b[0;32m      9\u001b[0m     \u001b[0mprint\u001b[0m\u001b[1;33m(\u001b[0m\u001b[0mc\u001b[0m\u001b[1;33m)\u001b[0m\u001b[1;33m\u001b[0m\u001b[1;33m\u001b[0m\u001b[0m\n\u001b[0;32m     10\u001b[0m \u001b[1;33m\u001b[0m\u001b[0m\n\u001b[1;32m---> 11\u001b[1;33m \u001b[0madd\u001b[0m\u001b[1;33m(\u001b[0m\u001b[1;33m)\u001b[0m\u001b[1;33m\u001b[0m\u001b[1;33m\u001b[0m\u001b[0m\n\u001b[0m",
      "\u001b[1;32m~\\AppData\\Local\\Temp/ipykernel_23004/470052988.py\u001b[0m in \u001b[0;36madd\u001b[1;34m()\u001b[0m\n\u001b[0;32m      5\u001b[0m \u001b[1;33m\u001b[0m\u001b[0m\n\u001b[0;32m      6\u001b[0m     \u001b[1;31m# increment c by 2\u001b[0m\u001b[1;33m\u001b[0m\u001b[1;33m\u001b[0m\u001b[0m\n\u001b[1;32m----> 7\u001b[1;33m     \u001b[0mc\u001b[0m \u001b[1;33m=\u001b[0m \u001b[0mc\u001b[0m \u001b[1;33m+\u001b[0m \u001b[1;36m2\u001b[0m\u001b[1;33m\u001b[0m\u001b[1;33m\u001b[0m\u001b[0m\n\u001b[0m\u001b[0;32m      8\u001b[0m \u001b[1;33m\u001b[0m\u001b[0m\n\u001b[0;32m      9\u001b[0m     \u001b[0mprint\u001b[0m\u001b[1;33m(\u001b[0m\u001b[0mc\u001b[0m\u001b[1;33m)\u001b[0m\u001b[1;33m\u001b[0m\u001b[1;33m\u001b[0m\u001b[0m\n",
      "\u001b[1;31mUnboundLocalError\u001b[0m: local variable 'c' referenced before assignment"
     ]
    }
   ],
   "source": [
    "# global variable\n",
    "c = 1 \n",
    "\n",
    "def add():\n",
    "    \n",
    "    # increment c by 2\n",
    "    c = c + 2\n",
    "\n",
    "    print(c)\n",
    "\n",
    "add()"
   ]
  },
  {
   "cell_type": "markdown",
   "id": "b8bef7aa",
   "metadata": {},
   "source": [
    "This is because we can only access the global variable but cannot modify it from inside the function.\n",
    "\n",
    "The solution for this is to use the global keyword."
   ]
  },
  {
   "cell_type": "markdown",
   "id": "75535944",
   "metadata": {},
   "source": [
    "# Example: Changing Global Variable From Inside a Function using global"
   ]
  },
  {
   "cell_type": "code",
   "execution_count": 24,
   "id": "1facf24a",
   "metadata": {},
   "outputs": [
    {
     "name": "stdout",
     "output_type": "stream",
     "text": [
      "3\n"
     ]
    }
   ],
   "source": [
    "# global variable\n",
    "c = 1 \n",
    "\n",
    "def add():\n",
    "\n",
    "    # use of global keyword\n",
    "    global c\n",
    "\n",
    "    # increment c by 2\n",
    "    c = c + 2 \n",
    "\n",
    "    print(c)\n",
    "\n",
    "add()\n",
    "\n",
    "# Output: 3 "
   ]
  },
  {
   "cell_type": "markdown",
   "id": "6efc4a42",
   "metadata": {},
   "source": [
    "In the above example, we have defined c as the global keyword inside add().\n",
    "\n",
    "Then, we have incremented the variable c by 2, i.e c = c + 2.\n",
    "\n",
    "As we can see while calling add(), the value of global variable c is modified from 1 to 3."
   ]
  },
  {
   "cell_type": "markdown",
   "id": "bad4b393",
   "metadata": {},
   "source": [
    "# Global in Nested Functions\n",
    "\n",
    "In Python, we can also use the global keyword in a nested function. For example,"
   ]
  },
  {
   "cell_type": "code",
   "execution_count": 25,
   "id": "68a86e2a",
   "metadata": {},
   "outputs": [
    {
     "name": "stdout",
     "output_type": "stream",
     "text": [
      "Before calling inner_function():  22\n",
      "After calling inner_function():  25\n",
      "pranav's value function:  25\n"
     ]
    }
   ],
   "source": [
    "num = 20  #1\n",
    "def outer_function():  #3\n",
    "    \n",
    "    global num   #4\n",
    "    num = 22   #5\n",
    "    \n",
    "    def inner_function():  #8\n",
    "        global num  #9\n",
    "        num = 25  #10\n",
    "    \n",
    "    print(\"Before calling inner_function(): \", num)   #6\n",
    "    inner_function()  #7\n",
    "    print(\"After calling inner_function(): \", num)  #11\n",
    "\n",
    "outer_function()  #2\n",
    "\n",
    "print(\"pranav's value function: \", num) #12"
   ]
  },
  {
   "cell_type": "markdown",
   "id": "b8c1c7e3",
   "metadata": {},
   "source": [
    "In the above example, we declared a global variable inside the nested function inner_function().\n",
    "\n",
    "Inside outer_function(), num has no effect of the global keyword.\n",
    "\n",
    "Before and after calling inner_function(), num takes the value of the local variable i.e num = 20.\n",
    "\n",
    "Outside of the outer_function() function, num will take the value defined in the inner_function() function i.e x = 25.\n",
    "\n",
    "This is because we have used the global keyword in num to create a global variable inside \n",
    "the inner_function() function (local scope).\n",
    "\n",
    "So, if we make any changes inside the inner_function() function, \n",
    "the changes appear outside the local scope, i.e. outer_function()."
   ]
  },
  {
   "cell_type": "markdown",
   "id": "3a6d47e9",
   "metadata": {},
   "source": [
    "# Rules of global Keyword\n",
    "\n",
    "The basic rules for global keyword in Python are:\n",
    "\n",
    "1. When we create a variable inside a function, it is local by default.\n",
    "\n",
    "2. When we define a variable outside of a function, it is global by default. You don't have to use the global keyword.\n",
    "\n",
    "3. We use the global keyword to read and write a global variable inside a function.\n",
    "\n",
    "4. Use of the global keyword outside a function has no effect."
   ]
  },
  {
   "cell_type": "markdown",
   "id": "4ed0a82a",
   "metadata": {},
   "source": [
    "# Python Modules"
   ]
  },
  {
   "cell_type": "markdown",
   "id": "5677d48b",
   "metadata": {},
   "source": [
    "The Python standard library contains well over 200 modules. We can import a module according to our needs.\n",
    "\n",
    "Suppose we want to get the value of pi, first we import the math module and use math.pi. For example,"
   ]
  },
  {
   "cell_type": "code",
   "execution_count": 26,
   "id": "390baf6a",
   "metadata": {},
   "outputs": [
    {
     "name": "stdout",
     "output_type": "stream",
     "text": [
      "The value of pi is 3.141592653589793\n"
     ]
    }
   ],
   "source": [
    "# import standard math module \n",
    "import math\n",
    "\n",
    "# use math.pi to get value of pi\n",
    "print(\"The value of pi is\", math.pi)"
   ]
  },
  {
   "cell_type": "markdown",
   "id": "3768c0d9",
   "metadata": {},
   "source": [
    "# Python import with Renaming\n",
    "\n",
    "In Python, we can also import a module by renaming it. For example,"
   ]
  },
  {
   "cell_type": "code",
   "execution_count": 27,
   "id": "afc76de9",
   "metadata": {},
   "outputs": [
    {
     "name": "stdout",
     "output_type": "stream",
     "text": [
      "3.141592653589793\n"
     ]
    }
   ],
   "source": [
    "# import module by renaming it\n",
    "import math as m\n",
    "\n",
    "print(m.pi)\n",
    "\n",
    "# Output: 3.141592653589793"
   ]
  },
  {
   "cell_type": "markdown",
   "id": "298316bd",
   "metadata": {},
   "source": [
    "Here, We have renamed the math module as m. This can save us typing time in some cases.\n",
    "\n",
    "Note that the name math is not recognized in our scope. Hence, math.pi is invalid, and m.pi is the correct implementation."
   ]
  },
  {
   "cell_type": "markdown",
   "id": "406345c3",
   "metadata": {},
   "source": [
    "# Python from...import statement\n",
    "\n",
    "We can import specific names from a module without importing the module as a whole. For example,"
   ]
  },
  {
   "cell_type": "code",
   "execution_count": 28,
   "id": "af162ae8",
   "metadata": {},
   "outputs": [
    {
     "name": "stdout",
     "output_type": "stream",
     "text": [
      "3.141592653589793\n"
     ]
    }
   ],
   "source": [
    "# import only pi from math module\n",
    "from math import pi\n",
    "\n",
    "print(pi)\n",
    "\n",
    "# Output: 3.141592653589793"
   ]
  },
  {
   "cell_type": "markdown",
   "id": "1aea3a33",
   "metadata": {},
   "source": [
    "Here, we imported only the pi attribute from the math module."
   ]
  },
  {
   "cell_type": "markdown",
   "id": "ffe279c9",
   "metadata": {},
   "source": [
    "# Import all names\n",
    "In Python, we can import all names(definitions) from a module using the following construct:"
   ]
  },
  {
   "cell_type": "code",
   "execution_count": 29,
   "id": "a47554ab",
   "metadata": {},
   "outputs": [
    {
     "name": "stdout",
     "output_type": "stream",
     "text": [
      "The value of pi is 3.141592653589793\n"
     ]
    }
   ],
   "source": [
    "# import all names from the standard module math\n",
    "from math import *\n",
    "\n",
    "print(\"The value of pi is\", pi)"
   ]
  },
  {
   "cell_type": "markdown",
   "id": "74ea34ba",
   "metadata": {},
   "source": [
    "Here, we have imported all the definitions from the math module. \n",
    "This includes all names visible in our scope except those beginning with an underscore(private definitions).\n",
    "\n",
    "Importing everything with the asterisk (*) symbol is not a good programming practice. \n",
    "This can lead to duplicate definitions for an identifier. It also hampers the readability of our code."
   ]
  },
  {
   "cell_type": "markdown",
   "id": "0f358adc",
   "metadata": {},
   "source": [
    "# The dir() built-in function\n",
    "\n",
    "In Python, we can use the dir() function to list all the function names in a module.\n",
    "\n",
    "We can use dir in math module in the following way:"
   ]
  },
  {
   "cell_type": "code",
   "execution_count": 30,
   "id": "4757de23",
   "metadata": {},
   "outputs": [
    {
     "data": {
      "text/plain": [
       "['__doc__',\n",
       " '__loader__',\n",
       " '__name__',\n",
       " '__package__',\n",
       " '__spec__',\n",
       " 'acos',\n",
       " 'acosh',\n",
       " 'asin',\n",
       " 'asinh',\n",
       " 'atan',\n",
       " 'atan2',\n",
       " 'atanh',\n",
       " 'ceil',\n",
       " 'comb',\n",
       " 'copysign',\n",
       " 'cos',\n",
       " 'cosh',\n",
       " 'degrees',\n",
       " 'dist',\n",
       " 'e',\n",
       " 'erf',\n",
       " 'erfc',\n",
       " 'exp',\n",
       " 'expm1',\n",
       " 'fabs',\n",
       " 'factorial',\n",
       " 'floor',\n",
       " 'fmod',\n",
       " 'frexp',\n",
       " 'fsum',\n",
       " 'gamma',\n",
       " 'gcd',\n",
       " 'hypot',\n",
       " 'inf',\n",
       " 'isclose',\n",
       " 'isfinite',\n",
       " 'isinf',\n",
       " 'isnan',\n",
       " 'isqrt',\n",
       " 'lcm',\n",
       " 'ldexp',\n",
       " 'lgamma',\n",
       " 'log',\n",
       " 'log10',\n",
       " 'log1p',\n",
       " 'log2',\n",
       " 'modf',\n",
       " 'nan',\n",
       " 'nextafter',\n",
       " 'perm',\n",
       " 'pi',\n",
       " 'pow',\n",
       " 'prod',\n",
       " 'radians',\n",
       " 'remainder',\n",
       " 'sin',\n",
       " 'sinh',\n",
       " 'sqrt',\n",
       " 'tan',\n",
       " 'tanh',\n",
       " 'tau',\n",
       " 'trunc',\n",
       " 'ulp']"
      ]
     },
     "execution_count": 30,
     "metadata": {},
     "output_type": "execute_result"
    }
   ],
   "source": [
    "import math\n",
    "import pandas as pd\n",
    "dir(math)\n",
    "\n",
    "#['__builtins__', '__doc__', '__name__', 'a', 'b', 'math', 'pyscripter']"
   ]
  },
  {
   "cell_type": "markdown",
   "id": "efe83618",
   "metadata": {},
   "source": [
    "# Python Packages"
   ]
  },
  {
   "cell_type": "markdown",
   "id": "14e4557d",
   "metadata": {},
   "source": [
    "A package is a container that contains various functions to perform specific tasks. \n",
    "For example, the math package includes the sqrt() function to perform the square root of a number.\n",
    "\n",
    "While working on big projects, we have to deal with a large amount of code, \n",
    "and writing everything together in the same file will make our code look messy. \n",
    "Instead, we can separate our code into multiple files by keeping the related code together in packages.\n",
    "\n",
    "Now, we can use the package whenever we need it in our projects. This way we can also reuse our code."
   ]
  },
  {
   "cell_type": "raw",
   "id": "0d5f1e55",
   "metadata": {},
   "source": [
    "Note: A directory must contain a file named __init__.py in order for Python to consider it as a package. \n",
    "    This file can be left empty but we generally place the initialization code for that package in this file."
   ]
  },
  {
   "attachments": {
    "packages-in-python.png": {
     "image/png": "[encoded data removed]"
    }
   },
   "cell_type": "markdown",
   "id": "06f0d3bb",
   "metadata": {},
   "source": [
    "![packages-in-python.png](attachment:packages-in-python.png)"
   ]
  },
  {
   "cell_type": "raw",
   "id": "d7b801d3",
   "metadata": {},
   "source": [
    "# Importing module from a package\n",
    "\n",
    "In Python, we can import modules from packages using the dot (.) operator.\n",
    "\n",
    "For example, if we want to import the start module in the above example, it can be done as follows:\n",
    "\n",
    "import Game.Level.start\n",
    "\n",
    "Now, if this module contains a function named select_difficulty(), we must use the full name to reference it.\n",
    "\n",
    "Game.Level.start.select_difficulty(2)\n",
    "\n",
    "Import Without Package Prefix\n",
    "\n",
    "If this construct seems lengthy, we can import the module without the package prefix as follows:\n",
    "\n",
    "from Game.Level import start\n",
    "\n",
    "We can now call the function simply as follows:\n",
    "\n",
    "start.select_difficulty(2)\n",
    "\n",
    "Import Required Functionality Only\n",
    "\n",
    "Another way of importing just the required function (or class or variable) from a module within a package would be as follows:\n",
    "\n",
    "from Game.Level.start import select_difficulty\n",
    "\n",
    "Now we can directly call this function.\n",
    "\n",
    "select_difficulty(2)\n",
    "\n",
    "Although easier, this method is not recommended. Using the full namespace avoids confusion and \n",
    "prevents two same identifier names from colliding.\n",
    "\n",
    "While importing packages, Python looks in the list of directories defined in sys.path, similar as for module search path."
   ]
  },
  {
   "cell_type": "code",
   "execution_count": null,
   "id": "8abe77c1",
   "metadata": {},
   "outputs": [],
   "source": []
  }
 ],
 "metadata": {
  "kernelspec": {
   "display_name": "Python 3 (ipykernel)",
   "language": "python",
   "name": "python3"
  },
  "language_info": {
   "codemirror_mode": {
    "name": "ipython",
    "version": 3
   },
   "file_extension": ".py",
   "mimetype": "text/x-python",
   "name": "python",
   "nbconvert_exporter": "python",
   "pygments_lexer": "ipython3",
   "version": "3.9.7"
  }
 },
 "nbformat": 4,
 "nbformat_minor": 5
}
