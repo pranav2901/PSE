{
 "cells": [
  {
   "cell_type": "markdown",
   "id": "d8f83e5e",
   "metadata": {},
   "source": [
    "# Python Object Oriented Programming"
   ]
  },
  {
   "cell_type": "markdown",
   "id": "c972b09e",
   "metadata": {},
   "source": [
    "In this segment, we’ll learn about Object-Oriented Programming (OOP) in Python with the help of examples."
   ]
  },
  {
   "cell_type": "markdown",
   "id": "9c298925",
   "metadata": {},
   "source": [
    "Python is a versatile programming language that supports various programming styles, including object-oriented programming (OOP) through the use of objects and classes.\n",
    "\n",
    "An object is any entity that has attributes and behaviors. For example, a parrot is an object. It has\n",
    "\n",
    "attributes - name, age, color, etc.\n",
    "behavior - dancing, singing, etc.\n",
    "Similarly, a class is a blueprint for that object."
   ]
  },
  {
   "cell_type": "markdown",
   "id": "7d53c089",
   "metadata": {},
   "source": [
    "# Python Class and Object"
   ]
  },
  {
   "cell_type": "code",
   "execution_count": 1,
   "id": "487e65cb",
   "metadata": {},
   "outputs": [],
   "source": [
    "class Parrot:\n",
    "\n",
    "    # class attribute\n",
    "    name = \"\"\n",
    "    age = 0"
   ]
  },
  {
   "cell_type": "code",
   "execution_count": 2,
   "id": "8fc6c050",
   "metadata": {},
   "outputs": [],
   "source": [
    "parrot1 = Parrot()"
   ]
  },
  {
   "cell_type": "code",
   "execution_count": 3,
   "id": "54efe23d",
   "metadata": {},
   "outputs": [],
   "source": [
    "parrot1.name = \"Blu\"\n",
    "parrot1.age = 10"
   ]
  },
  {
   "cell_type": "code",
   "execution_count": 4,
   "id": "d6d7a92d",
   "metadata": {},
   "outputs": [
    {
     "name": "stdout",
     "output_type": "stream",
     "text": [
      "Blu is 10 years old\n",
      "Woo is 15 years old\n"
     ]
    }
   ],
   "source": [
    "class Parrot:\n",
    "\n",
    "    # class attribute\n",
    "    name = \"\"\n",
    "    age = 0\n",
    "\n",
    "# create parrot1 object\n",
    "parrot1 = Parrot()\n",
    "parrot1.name = \"Blu\"\n",
    "parrot1.age = 10\n",
    "\n",
    "\n",
    "# create another object parrot2\n",
    "parrot2 = Parrot()\n",
    "parrot2.name = \"Woo\"\n",
    "parrot2.age = 15\n",
    "\n",
    "# access attributes\n",
    "print(f\"{parrot1.name} is {parrot1.age} years old\")\n",
    "print(f\"{parrot2.name} is {parrot2.age} years old\")"
   ]
  },
  {
   "cell_type": "markdown",
   "id": "6b09e19d",
   "metadata": {},
   "source": [
    "In the above example, we created a class with the name Parrot with two attributes: name and age.\n",
    "\n",
    "Then, we create instances of the Parrot class. Here, parrot1 and parrot2 are references (value) to our new objects.\n",
    "\n",
    "We then accessed and assigned different values to the instance attributes using the objects name and the \".\" notation."
   ]
  },
  {
   "cell_type": "markdown",
   "id": "6c80414d",
   "metadata": {},
   "source": [
    "# Python Classes\n",
    "A class is considered as a blueprint of objects. We can think of the class as a sketch (prototype) of a house. It contains all the details about the floors, doors, windows, etc. Based on these descriptions we build the house. House is the object.\n",
    "\n",
    "Since many houses can be made from the same description, we can create many objects from a class.\n",
    "\n",
    "An object is simply a collection of data (variables) and methods (functions). Similarly, a class is a blueprint for that object.\n",
    "\n",
    "Before we learn about objects, let's first know about classes in Python."
   ]
  },
  {
   "cell_type": "markdown",
   "id": "5685fbf1",
   "metadata": {},
   "source": [
    "# Define Python Class\n",
    "\n",
    "We use the class keyword to create a class in Python. For example,"
   ]
  },
  {
   "cell_type": "code",
   "execution_count": 23,
   "id": "e4bf8345",
   "metadata": {},
   "outputs": [],
   "source": [
    "#Syntax\n",
    "#class ClassName:\n",
    "    # class definition\n",
    "    \n",
    "#Here, we have created a class named ClassName.\n",
    "\n",
    "#Let's see an example,"
   ]
  },
  {
   "cell_type": "code",
   "execution_count": 5,
   "id": "69b8318f",
   "metadata": {},
   "outputs": [],
   "source": [
    "class Bike:\n",
    "    name = \"\"\n",
    "    gear = 0"
   ]
  },
  {
   "cell_type": "markdown",
   "id": "7b4506cd",
   "metadata": {},
   "source": [
    "Here,\n",
    "\n",
    "Bike - the name of the class\n",
    "\n",
    "name/gear - variables inside the class with default values \"\" and 0 respectively.\n",
    "\n",
    "Note: The variables inside a class are called attributes."
   ]
  },
  {
   "cell_type": "markdown",
   "id": "fcc9c10c",
   "metadata": {},
   "source": [
    "# Python Objects\n",
    "An object is called an instance of a class. For example, suppose Bike is a class then we can create objects like bike1, bike2, etc from the class.\n",
    "\n",
    "Here's the syntax to create an object.\n",
    "\n",
    "objectName = ClassName()\n",
    "\n",
    "Let's see an example,"
   ]
  },
  {
   "cell_type": "code",
   "execution_count": 6,
   "id": "2a087dfe",
   "metadata": {},
   "outputs": [],
   "source": [
    "# create class\n",
    "class Bike:\n",
    "    name = \"\"\n",
    "    gear = 0\n",
    "\n",
    "# create objects of class\n",
    "bike1 = Bike()"
   ]
  },
  {
   "cell_type": "markdown",
   "id": "ecc29930",
   "metadata": {},
   "source": [
    "Here, bike1 is the object of the class. Now, we can use this object to access the class attributes."
   ]
  },
  {
   "cell_type": "markdown",
   "id": "5c0a8ed2",
   "metadata": {},
   "source": [
    "# Access Class Attributes Using Objects\n",
    "We use the . notation to access the attributes of a class. For example,"
   ]
  },
  {
   "cell_type": "code",
   "execution_count": 7,
   "id": "fd6f3233",
   "metadata": {},
   "outputs": [
    {
     "name": "stdout",
     "output_type": "stream",
     "text": [
      "Mountain Bike\n",
      "4\n"
     ]
    }
   ],
   "source": [
    "# modify the name attribute\n",
    "bike1.name = \"Mountain Bike\"\n",
    "bike1.gear = 4\n",
    "# access the gear attribute\n",
    "print(bike1.name)\n",
    "print(bike1.gear)"
   ]
  },
  {
   "cell_type": "markdown",
   "id": "46c95001",
   "metadata": {},
   "source": [
    "# Example 1: Python Class and Objects"
   ]
  },
  {
   "cell_type": "code",
   "execution_count": 9,
   "id": "374955a9",
   "metadata": {},
   "outputs": [
    {
     "name": "stdout",
     "output_type": "stream",
     "text": [
      "Name: Mountain Bike, Gears: 11, seat : 4\n"
     ]
    }
   ],
   "source": [
    "# define a class\n",
    "class Bike:\n",
    "    name = \"\"\n",
    "    gear = 0\n",
    "    seat = 0\n",
    "# create object of class\n",
    "bike1 = Bike()\n",
    "\n",
    "# access attributes and assign new values\n",
    "bike1.gear = 11\n",
    "bike1.name = \"Mountain Bike\"\n",
    "bike1.seat = 4\n",
    "\n",
    "print(f\"Name: {bike1.name}, Gears: {bike1.gear}, seat : {bike1.seat}\")"
   ]
  },
  {
   "cell_type": "markdown",
   "id": "94ba6812",
   "metadata": {},
   "source": [
    "In the above example, we have defined the class named Bike with two attributes: name and gear.\n",
    "\n",
    "We have also created an object bike1 of the class Bike.\n",
    "\n",
    "Finally, we have accessed and modified the attributes of an object using the . notation."
   ]
  },
  {
   "cell_type": "markdown",
   "id": "eb59c737",
   "metadata": {},
   "source": [
    "# Create Multiple Objects of Python Class\n",
    "We can also create multiple objects from a single class. For example,"
   ]
  },
  {
   "cell_type": "code",
   "execution_count": 10,
   "id": "93edab12",
   "metadata": {},
   "outputs": [
    {
     "name": "stdout",
     "output_type": "stream",
     "text": [
      "Employee ID: 1001\n",
      "Employee ID: 1002\n"
     ]
    }
   ],
   "source": [
    "# define a class\n",
    "class Employee:\n",
    "    # define an attribute\n",
    "    employee_id = 0\n",
    "\n",
    "# create two objects of the Employee class\n",
    "employee1 = Employee()\n",
    "employee2 = Employee()\n",
    "\n",
    "# access attributes using employee1\n",
    "employee1.employeeID = 1001\n",
    "print(f\"Employee ID: {employee1.employeeID}\")\n",
    "\n",
    "# access attributes using employee2\n",
    "employee2.employeeID = 1002\n",
    "print(f\"Employee ID: {employee2.employeeID}\")"
   ]
  },
  {
   "cell_type": "markdown",
   "id": "e8a532f3",
   "metadata": {},
   "source": [
    "In the above example, we have created two objects employee1 and employee2 of the Employee class."
   ]
  },
  {
   "cell_type": "markdown",
   "id": "cc04c58f",
   "metadata": {},
   "source": [
    "# Python Methods\n",
    "\n",
    "We can also define a function inside a Python class. A Python Function defined inside a class is called a method.\n",
    "\n",
    "Let's see an example,"
   ]
  },
  {
   "cell_type": "code",
   "execution_count": 11,
   "id": "56482767",
   "metadata": {},
   "outputs": [
    {
     "name": "stdout",
     "output_type": "stream",
     "text": [
      "Area of Room = 1309.0\n",
      "Area of Room = 400\n"
     ]
    }
   ],
   "source": [
    "# create a class\n",
    "class Room:\n",
    "    length = 0.0\n",
    "    breadth = 0.0\n",
    "    \n",
    "    # method to calculate area\n",
    "    def calculate_area(self):\n",
    "        print(\"Area of Room =\", self.length * self.breadth)\n",
    "\n",
    "# create object of Room class\n",
    "study_room = Room()\n",
    "kitchen_room = Room()\n",
    "\n",
    "# assign values to all the attributes \n",
    "study_room.length = 42.5\n",
    "study_room.breadth = 30.8\n",
    "\n",
    "kitchen_room.length = 20\n",
    "kitchen_room.breadth = 20\n",
    "\n",
    "# access method inside class\n",
    "study_room.calculate_area()\n",
    "kitchen_room.calculate_area()"
   ]
  },
  {
   "cell_type": "markdown",
   "id": "70140270",
   "metadata": {},
   "source": [
    "In the above example, we have created a class named Room with:\n",
    "\n",
    "Attributes: length and breadth\n",
    "Method: calculate_area()\n",
    "Here, we have created an object named study_room from the Room class. We then used the object to assign values to attributes: length and breadth.\n",
    "\n",
    "Notice that we have also used the object to call the method inside the class,\n",
    "\n",
    "study_room.calculate_area()\n",
    "Here, we have used the . notation to call the method. Finally, the statement inside the method is executed."
   ]
  },
  {
   "cell_type": "markdown",
   "id": "c5550e84",
   "metadata": {},
   "source": [
    "# Python Constructors\n",
    "Earlier we assigned a default value to a class attribute,"
   ]
  },
  {
   "cell_type": "code",
   "execution_count": 12,
   "id": "aa17feb6",
   "metadata": {},
   "outputs": [],
   "source": [
    "class Bike:\n",
    "    name = \"\"\n",
    "...\n",
    "# create object\n",
    "bike1 = Bike()"
   ]
  },
  {
   "cell_type": "markdown",
   "id": "ec9adcae",
   "metadata": {},
   "source": [
    "However, we can also initialize values using the constructors. For example,"
   ]
  },
  {
   "cell_type": "code",
   "execution_count": 13,
   "id": "bc8ddc05",
   "metadata": {},
   "outputs": [],
   "source": [
    "class Bike:\n",
    "    \n",
    "    # constructor function    \n",
    "    def __init__(self, name = \"\"):\n",
    "        self.name = name\n",
    "\n",
    "bike1 = Bike()"
   ]
  },
  {
   "cell_type": "raw",
   "id": "c4b9bd19",
   "metadata": {},
   "source": [
    "Here, __init__() is the constructor function that is called whenever a new object of that class is instantiated.\n",
    "\n",
    "The constructor above initializes the value of the name attribute. We have used the self.name to refer to the name attribute of the bike1 object.\n",
    "\n",
    "If we use a constructor to initialize values inside a class, we need to pass the corresponding value during the object creation of the class.\n",
    "\n",
    "For example:"
   ]
  },
  {
   "cell_type": "code",
   "execution_count": 14,
   "id": "43abff6d",
   "metadata": {},
   "outputs": [
    {
     "name": "stdout",
     "output_type": "stream",
     "text": [
      "Mountain Bike\n",
      "Splendor\n",
      "Unicorn\n"
     ]
    }
   ],
   "source": [
    "bike1 = Bike(\"Mountain Bike\")\n",
    "bike2 = Bike(\"Splendor\")\n",
    "bike3 = Bike(\"Unicorn\")\n",
    "print(bike1.name)\n",
    "print(bike2.name)\n",
    "print(bike3.name)"
   ]
  },
  {
   "cell_type": "raw",
   "id": "ec6c2ae9",
   "metadata": {},
   "source": [
    "Here, \"Mountain Bike\" is passed to the name parameter of __init__()."
   ]
  },
  {
   "cell_type": "markdown",
   "id": "21718c6c",
   "metadata": {},
   "source": [
    "# Python Inheritance\n",
    "Inheritance is a way of creating a new class for using details of an existing class without modifying it.\n",
    "\n",
    "The newly formed class is a derived class (or child class). Similarly, the existing class is a base class (or parent class).\n",
    "\n",
    "Example 2: Use of Inheritance in Python"
   ]
  },
  {
   "cell_type": "code",
   "execution_count": 15,
   "id": "f31dfb3e",
   "metadata": {},
   "outputs": [
    {
     "name": "stdout",
     "output_type": "stream",
     "text": [
      "I can eat!\n",
      "I can sleep!\n",
      "I can bark! Woof woof!!\n"
     ]
    }
   ],
   "source": [
    "# base class\n",
    "class Animal:\n",
    "    \n",
    "    def eat(self):\n",
    "        print( \"I can eat!\")\n",
    "    \n",
    "    def sleep(self):\n",
    "        print(\"I can sleep!\")\n",
    "\n",
    "# derived class\n",
    "class Dog(Animal):\n",
    "    \n",
    "    def bark(self):\n",
    "        print(\"I can bark! Woof woof!!\")\n",
    "\n",
    "# Create object of the Dog class\n",
    "dog1 = Dog()\n",
    "\n",
    "# Calling members of the base class\n",
    "dog1.eat()\n",
    "dog1.sleep()\n",
    "\n",
    "# Calling member of the derived class\n",
    "dog1.bark()"
   ]
  },
  {
   "cell_type": "markdown",
   "id": "647dec47",
   "metadata": {},
   "source": [
    "Here, dog1 (the object of derived class Dog) can access members of the base class Animal. \n",
    "It's because Dog is inherited from Animal."
   ]
  },
  {
   "cell_type": "markdown",
   "id": "8cf4d139",
   "metadata": {},
   "source": [
    "Like any other OOP languages, Python also supports the concept of class inheritance.\n",
    "\n",
    "Inheritance allows us to create a new class from an existing class.\n",
    "\n",
    "The new class that is created is known as subclass (child or derived class) and the existing class from which the child class is derived is known as superclass (parent or base class)."
   ]
  },
  {
   "cell_type": "markdown",
   "id": "a1bd2c5d",
   "metadata": {},
   "source": [
    "# Python Inheritance Syntax\n",
    "\n",
    "Here's the syntax of the inheritance in Python,\n",
    "\n",
    "define a superclass\n",
    "\n",
    "class super_class:\n",
    "\n",
    "    # attributes and method definition\n",
    "\n",
    "inheritance\n",
    "\n",
    "class sub_class(super_class):\n",
    "\n",
    "    # attributes and method of super_class\n",
    "    \n",
    "    # attributes and method of sub_class\n",
    "    \n",
    "    \n",
    "Here, we are inheriting the sub_class class from the super_class class."
   ]
  },
  {
   "cell_type": "markdown",
   "id": "b0bca4e3",
   "metadata": {},
   "source": [
    "# Example 1: Python Inheritance"
   ]
  },
  {
   "cell_type": "code",
   "execution_count": 16,
   "id": "25647219",
   "metadata": {},
   "outputs": [
    {
     "name": "stdout",
     "output_type": "stream",
     "text": [
      "I can eat\n",
      "My name is  Rohu\n"
     ]
    }
   ],
   "source": [
    "class Animal:\n",
    "\n",
    "    # attribute and method of the parent class\n",
    "    name = \"\"\n",
    "    \n",
    "    def eat(self):\n",
    "        print(\"I can eat\")\n",
    "\n",
    "# inherit from Animal\n",
    "class Dog(Animal):\n",
    "\n",
    "    # new method in subclass\n",
    "    def display(self):\n",
    "        # access name attribute of superclass using self\n",
    "        print(\"My name is \", self.name)\n",
    "\n",
    "# create an object of the subclass\n",
    "labrador = Dog()\n",
    "\n",
    "# access superclass attribute and method \n",
    "labrador.name = \"Rohu\"\n",
    "labrador.eat()\n",
    "\n",
    "# call subclass method \n",
    "labrador.display()"
   ]
  },
  {
   "cell_type": "markdown",
   "id": "9b768072",
   "metadata": {},
   "source": [
    "In the above example, we have derived a subclass Dog from a superclass Animal. Notice the statements,\n",
    "\n",
    "labrador.name = \"Rohu\"\n",
    "\n",
    "labrador.eat()\n",
    "\n",
    "Here, we are using labrador (object of Dog) to access name and eat() of the Animal class. \n",
    "\n",
    "This is possible because the subclass inherits all attributes and methods of the superclass.\n",
    "\n",
    "Also, we have accessed the name attribute inside the method of the Dog class using self."
   ]
  },
  {
   "cell_type": "markdown",
   "id": "6feff540",
   "metadata": {},
   "source": [
    "# is-a relationship\n",
    "\n",
    "In Python, inheritance is an is-a relationship. \n",
    "That is, we use inheritance only if there exists an is-a relationship between two classes. For example,\n",
    "\n",
    "Car is a Vehicle\n",
    "\n",
    "Apple is a Fruit\n",
    "\n",
    "Cat is an Animal\n",
    "\n",
    "Here, \n",
    "\n",
    "Car can inherit from Vehicle, \n",
    "\n",
    "Apple can inherit from Fruit, and so on."
   ]
  },
  {
   "cell_type": "markdown",
   "id": "d08e54b0",
   "metadata": {},
   "source": [
    "# Example 2: Inheritance in Python\n",
    "\n",
    "Let's take a look at another example of inheritance in Python,\n",
    "\n",
    "A polygon is a closed figure with 3 or more sides. Say, we have a class called Polygon defined as follows,"
   ]
  },
  {
   "cell_type": "code",
   "execution_count": 17,
   "id": "472c28dd",
   "metadata": {},
   "outputs": [],
   "source": [
    "class Polygon:\n",
    "    def __init__(self, no_of_sides):\n",
    "        self.n = no_of_sides\n",
    "        self.sides = [0 for i in range(no_of_sides)]\n",
    "\n",
    "    def inputSides(self):\n",
    "        self.sides = [float(input(\"Enter side \" + str(i+1) + \" : \")) for i in range(self.n)]\n",
    "\n",
    "    def dispSides(self):\n",
    "        for i in range(self.n):\n",
    "            print(\"Side\",i+1,\"is\",self.sides[i])"
   ]
  },
  {
   "cell_type": "markdown",
   "id": "867a8a80",
   "metadata": {},
   "source": [
    "This class has data attributes to store the number of sides n and magnitude of each side as a list called sides.\n",
    "\n",
    "The inputSides() method takes in the magnitude of each side\n",
    "\n",
    "The dispSides() method displays these side lengths\n",
    "\n",
    "A triangle is a polygon with 3 sides. So, we can create a class called Triangle which inherits from Polygon. \n",
    "This makes all the attributes of Polygon class available to the Triangle class.\n",
    "\n",
    "We don't need to define them again (code reusability). Triangle can be defined as follows."
   ]
  },
  {
   "cell_type": "code",
   "execution_count": 18,
   "id": "e9613294",
   "metadata": {},
   "outputs": [],
   "source": [
    "class Triangle(Polygon):\n",
    "    def __init__(self):\n",
    "        Polygon.__init__(self,3)\n",
    "\n",
    "    def findArea(self):\n",
    "        a, b, c = self.sides\n",
    "        # calculate the semi-perimeter\n",
    "        s = (a + b + c) / 2\n",
    "        area = (s*(s-a)*(s-b)*(s-c)) ** 0.5\n",
    "        print('The area of the triangle is %0.2f' %area)"
   ]
  },
  {
   "cell_type": "markdown",
   "id": "ca25e189",
   "metadata": {},
   "source": [
    "However, the Triangle class has a new method findArea() to find and print the area of the triangle.\n",
    "\n",
    "Now let's see the complete working code of the example above including creating an object,"
   ]
  },
  {
   "cell_type": "code",
   "execution_count": 25,
   "id": "f1aa7b6b",
   "metadata": {},
   "outputs": [],
   "source": [
    "class Polygon:\n",
    "    # Initializing the number of sides\n",
    "    def __init__(self, no_of_sides):\n",
    "        self.n = no_of_sides\n",
    "        self.sides = [0 for i in range(no_of_sides)]\n",
    "\n",
    "    def inputSides(self):\n",
    "        self.sides = [float(input(\"Enter Length \"+ str (i+1) + \" : \")) for i in range(self.n)] # i+1 we using cz index start with 0\n",
    "\n",
    "    # method to display the length of each side of the polygon\n",
    "    def dispSides(self):\n",
    "        for i in range(self.n):\n",
    "            print(\"Side\", i+1 , \"is\" , self.sides[i])\n",
    "\n",
    "class Triangle(Polygon):\n",
    "    # Initializing the number of sides of the triangle to 3 by \n",
    "    # calling the __init__ method of the Polygon class\n",
    "    def __init__(self):\n",
    "        Polygon.__init__(self , 3)\n",
    "\n",
    "    def findArea(self):\n",
    "        a, b, c = self.sides\n",
    "\n",
    "        # calculate the semi-perimeter\n",
    "        s = (a + b + c) / 2\n",
    "\n",
    "        # Using Heron's formula to calculate the area of the triangle\n",
    "        area = (s*(s-a)*(s-b)*(s-c)) ** 0.5\n",
    "        print('The area of the triangle is %0.2f' %area)\n"
   ]
  },
  {
   "cell_type": "code",
   "execution_count": 26,
   "id": "48b0875c",
   "metadata": {},
   "outputs": [],
   "source": [
    "# Creating an instance of the Triangle class\n",
    "t = Triangle()"
   ]
  },
  {
   "cell_type": "code",
   "execution_count": 27,
   "id": "a4a600be",
   "metadata": {},
   "outputs": [
    {
     "name": "stdout",
     "output_type": "stream",
     "text": [
      "Enter Length 1 : 15\n",
      "Enter Length 2 : 17\n",
      "Enter Length 3 : 16\n"
     ]
    }
   ],
   "source": [
    "# Prompting the user to enter the sides of the triangle\n",
    "t.inputSides()"
   ]
  },
  {
   "cell_type": "code",
   "execution_count": 28,
   "id": "d2a8f6ae",
   "metadata": {},
   "outputs": [
    {
     "name": "stdout",
     "output_type": "stream",
     "text": [
      "Side 1 is 15.0\n",
      "Side 2 is 17.0\n",
      "Side 3 is 16.0\n"
     ]
    }
   ],
   "source": [
    "# Displaying the sides of the triangle\n",
    "t.dispSides()"
   ]
  },
  {
   "cell_type": "code",
   "execution_count": 29,
   "id": "9e292560",
   "metadata": {},
   "outputs": [
    {
     "name": "stdout",
     "output_type": "stream",
     "text": [
      "The area of the triangle is 109.98\n"
     ]
    }
   ],
   "source": [
    "# Calculating and printing the area of the triangle\n",
    "t.findArea()"
   ]
  },
  {
   "cell_type": "markdown",
   "id": "09181bf6",
   "metadata": {},
   "source": [
    "Here, we can see that even though we did not define methods like inputSides() or dispSides() for class Triangle separately, \n",
    "we were able to use them.\n",
    "\n",
    "If an attribute is not found in the class itself, the search continues to the base class. \n",
    "This repeats recursively, if the base class is itself derived from other classes."
   ]
  },
  {
   "cell_type": "markdown",
   "id": "f9d9dfed",
   "metadata": {},
   "source": [
    "# Method Overriding in Python Inheritance\n",
    "\n",
    "In the previous example, we see the object of the subclass can access the method of the superclass.\n",
    "\n",
    "However, what if the same method is present in both the superclass and subclass?\n",
    "\n",
    "In this case, the method in the subclass overrides the method in the superclass. \n",
    "\n",
    "This concept is known as method overriding in Python.\n",
    "\n",
    "# Example: Method Overriding"
   ]
  },
  {
   "cell_type": "code",
   "execution_count": 30,
   "id": "7ed55cd2",
   "metadata": {},
   "outputs": [
    {
     "name": "stdout",
     "output_type": "stream",
     "text": [
      "I like to eat bones\n"
     ]
    }
   ],
   "source": [
    "class Animal:\n",
    "\n",
    "    # attributes and method of the parent class\n",
    "    name = \"\"\n",
    "   \n",
    "    def eat(self):\n",
    "        print(\"I can eat\")\n",
    "\n",
    "# inherit from Animal\n",
    "class Dog(Animal):\n",
    "\n",
    "    # override eat() method\n",
    "    def eat(self):\n",
    "        print(\"I like to eat bones\")\n",
    "    \n",
    "# create an object of the subclass\n",
    "labrador = Dog()\n",
    "\n",
    "# call the eat() method on the labrador object\n",
    "labrador.eat()"
   ]
  },
  {
   "cell_type": "markdown",
   "id": "2d708f80",
   "metadata": {},
   "source": [
    "In the above example, the same method eat() is present in both the Dog class and the Animal class.\n",
    "\n",
    "Now, when we call the eat() method using the object of the Dog subclass, the method of the Dog class is called.\n",
    "\n",
    "This is because the eat() method of the Dog subclass overrides the same method of the Animal superclass."
   ]
  },
  {
   "cell_type": "markdown",
   "id": "106e9c5b",
   "metadata": {},
   "source": [
    "# The super() Method in Python Inheritance\n",
    "\n",
    "Previously we saw that the same method in the subclass overrides the method in the superclass.\n",
    "\n",
    "However, if we need to access the superclass method from the subclass, we use the super() method. For example,"
   ]
  },
  {
   "cell_type": "code",
   "execution_count": 31,
   "id": "96e77f73",
   "metadata": {},
   "outputs": [
    {
     "name": "stdout",
     "output_type": "stream",
     "text": [
      "I can eat\n",
      "I like to eat bones\n"
     ]
    }
   ],
   "source": [
    "class Animal:\n",
    "\n",
    "    name = \"\"\n",
    "    \n",
    "    def eat(self):\n",
    "        print(\"I can eat\")\n",
    "\n",
    "# inherit from Animal\n",
    "class Dog(Animal):\n",
    "    \n",
    "    # override eat() method\n",
    "    def eat(self):\n",
    "        \n",
    "        # call the eat() method of the superclass using super()\n",
    "        \n",
    "        super().eat()\n",
    "        \n",
    "        print(\"I like to eat bones\")\n",
    "        \n",
    "        \n",
    "        \n",
    "# create an object of the subclass\n",
    "labrador = Dog()\n",
    "\n",
    "labrador.eat()"
   ]
  },
  {
   "cell_type": "markdown",
   "id": "91d6bbf3",
   "metadata": {},
   "source": [
    "In the above example, the eat() method of the Dog subclass overrides the same method of the Animal superclass.\n",
    "\n",
    "Inside the Dog class, we have used\n",
    "\n",
    "call method of superclass\n",
    "\n",
    "super().eat()\n",
    "\n",
    "to call the eat() method of the Animal superclass from the Dog subclass.\n",
    "\n",
    "So, when we call the eat() method using the labrador object\n",
    "\n",
    "call the eat() method\n",
    "\n",
    "labrador.eat()\n",
    "\n",
    "Both the overridden and the superclass version of the eat() method is executed."
   ]
  },
  {
   "cell_type": "markdown",
   "id": "43898a1b",
   "metadata": {},
   "source": [
    "# Uses of Inheritance\n",
    "1. Since a child class can inherit all the functionalities of the parent's class, this allows code reusability.\n",
    "\n",
    "2. Once a functionality is developed, you can simply inherit it. No need to reinvent the wheel. \n",
    "This allows for cleaner code and easier to maintain.\n",
    "\n",
    "3. Since you can also add your own functionalities in the child class, \n",
    "you can inherit only the useful functionalities and define other required features."
   ]
  },
  {
   "cell_type": "markdown",
   "id": "8ebe18ea",
   "metadata": {},
   "source": [
    "# Python Encapsulation\n",
    "\n",
    "Encapsulation is one of the key features of object-oriented programming. \n",
    "\n",
    "Encapsulation refers to the bundling of attributes and methods inside a single class.\n",
    "\n",
    "It prevents outer classes from accessing and changing attributes and methods of a class. \n",
    "\n",
    "This also helps to achieve data hiding."
   ]
  },
  {
   "cell_type": "markdown",
   "id": "a8b1fc96",
   "metadata": {},
   "source": [
    "In Python, \n",
    "\n",
    "we denote private attributes using underscore as the prefix i.e single _ or double __. For example,"
   ]
  },
  {
   "cell_type": "code",
   "execution_count": 32,
   "id": "95277bf1",
   "metadata": {},
   "outputs": [],
   "source": [
    "class Computer:\n",
    "\n",
    "    def __init__(self):\n",
    "        self.__maxprice = 900\n",
    "\n",
    "    def sell(self):\n",
    "        print(\"Selling Price: {}\".format(self.__maxprice))\n",
    "\n",
    "    def setMaxPrice(self, price):\n",
    "        self.__maxprice = price"
   ]
  },
  {
   "cell_type": "code",
   "execution_count": 33,
   "id": "1d7f1459",
   "metadata": {},
   "outputs": [
    {
     "name": "stdout",
     "output_type": "stream",
     "text": [
      "Selling Price: 900\n"
     ]
    }
   ],
   "source": [
    "c = Computer()\n",
    "c.sell()"
   ]
  },
  {
   "cell_type": "code",
   "execution_count": 35,
   "id": "afc48975",
   "metadata": {},
   "outputs": [
    {
     "name": "stdout",
     "output_type": "stream",
     "text": [
      "Selling Price: 900\n"
     ]
    }
   ],
   "source": [
    "# change the price\n",
    "c.__maxprice = 1000\n",
    "c.sell()"
   ]
  },
  {
   "cell_type": "code",
   "execution_count": 36,
   "id": "6491ae97",
   "metadata": {},
   "outputs": [
    {
     "name": "stdout",
     "output_type": "stream",
     "text": [
      "Selling Price: 1000\n"
     ]
    }
   ],
   "source": [
    "# using setter function\n",
    "c.setMaxPrice(1000)\n",
    "c.sell()"
   ]
  },
  {
   "cell_type": "code",
   "execution_count": 37,
   "id": "9b4429bc",
   "metadata": {},
   "outputs": [
    {
     "name": "stdout",
     "output_type": "stream",
     "text": [
      "Selling Price: 900\n"
     ]
    }
   ],
   "source": [
    "b = Computer()\n",
    "b.sell()"
   ]
  },
  {
   "cell_type": "code",
   "execution_count": 38,
   "id": "c316ec51",
   "metadata": {},
   "outputs": [
    {
     "name": "stdout",
     "output_type": "stream",
     "text": [
      "Selling Price: 2000\n"
     ]
    }
   ],
   "source": [
    "b.setMaxPrice(2000)\n",
    "b.sell()"
   ]
  },
  {
   "cell_type": "code",
   "execution_count": 40,
   "id": "d196db07",
   "metadata": {},
   "outputs": [
    {
     "name": "stdout",
     "output_type": "stream",
     "text": [
      "Selling Price: 900\n"
     ]
    }
   ],
   "source": [
    "a = Computer()\n",
    "a.sell()"
   ]
  },
  {
   "cell_type": "raw",
   "id": "693ab232",
   "metadata": {},
   "source": [
    "In the above program, we defined a Computer class.\n",
    "\n",
    "We used __init__() method to store the maximum selling price of Computer. Here, notice the code\n",
    "\n",
    "c.__maxprice = 1000\n",
    "\n",
    "Here, we have tried to modify the value of __maxprice outside of the class. \n",
    "\n",
    "However, since __maxprice is a private variable, this modification is not seen on the output.\n",
    "\n",
    "As shown, to change the value, we have to use a setter function i.e setMaxPrice() which takes price as a parameter."
   ]
  },
  {
   "cell_type": "markdown",
   "id": "600fbc48",
   "metadata": {},
   "source": [
    "# Polymorphism\n",
    "\n",
    "Polymorphism is another important concept of object-oriented programming. It simply means more than one form.\n",
    "\n",
    "That is, the same entity (method or operator or object) can perform different operations in different scenarios.\n",
    "\n",
    "Let's see an example,"
   ]
  },
  {
   "cell_type": "code",
   "execution_count": 41,
   "id": "f733fb21",
   "metadata": {},
   "outputs": [
    {
     "name": "stdout",
     "output_type": "stream",
     "text": [
      "Rendering Square...\n",
      "Rendering Circle...\n"
     ]
    }
   ],
   "source": [
    "class Polygon:\n",
    "    # method to render a shape\n",
    "    def render(self):\n",
    "        print(\"Rendering Polygon...\")\n",
    "\n",
    "class Square(Polygon):\n",
    "    # renders Square\n",
    "    def render(self):\n",
    "        print(\"Rendering Square...\")\n",
    "\n",
    "class Circle(Polygon):\n",
    "    # renders circle\n",
    "    def render(self):\n",
    "        print(\"Rendering Circle...\")\n",
    "    \n",
    "# create an object of Square\n",
    "s1 = Square()\n",
    "s1.render()\n",
    "\n",
    "# create an object of Circle\n",
    "c1 = Circle()\n",
    "c1.render()"
   ]
  },
  {
   "cell_type": "markdown",
   "id": "01f878dd",
   "metadata": {},
   "source": [
    "In the above example, we have created a superclass: Polygon and two subclasses: Square and Circle. \n",
    "        \n",
    "Notice the use of the render() method.\n",
    "\n",
    "The main purpose of the render() method is to render the shape. \n",
    "\n",
    "However, the process of rendering a square is different from the process of rendering a circle.\n",
    "\n",
    "Hence, the render() method behaves differently in different classes. Or, we can say render() is polymorphic."
   ]
  },
  {
   "cell_type": "markdown",
   "id": "36a7f6b4",
   "metadata": {},
   "source": [
    "# Key Points to Remember:\n",
    "\n",
    "1. Object-Oriented Programming makes the program easy to understand as well as efficient.\n",
    "\n",
    "2. Since the class is sharable, the code can be reused.\n",
    "\n",
    "3. Data is safe and secure with data abstraction.\n",
    "\n",
    "4. Polymorphism allows the same interface for different objects, so programmers can write efficient code.\n",
    "\n",
    "# Practice and Recap or Re-Reading will make it easy to understand"
   ]
  },
  {
   "cell_type": "markdown",
   "id": "9005b8c8",
   "metadata": {},
   "source": [
    "# Python Multiple Inheritance"
   ]
  },
  {
   "cell_type": "markdown",
   "id": "d18f60ce",
   "metadata": {},
   "source": [
    "In this segment, we'll learn about multiple inheritance in Python with the help of examples.\n",
    "\n",
    "A class can be derived from more than one superclass in Python. This is called multiple inheritance.\n",
    "\n",
    "For example, A class Bat is derived from superclasses Mammal and WingedAnimal. \n",
    "It makes sense because bat is a mammal as well as a winged animal."
   ]
  },
  {
   "cell_type": "markdown",
   "id": "fb04f0a9",
   "metadata": {},
   "source": [
    "Python Multiple Inheritance Syntax\n",
    "\n",
    "class SuperClass1:\n",
    "    \n",
    "    # features of SuperClass1\n",
    "\n",
    "class SuperClass2:\n",
    "    \n",
    "    # features of SuperClass2\n",
    "\n",
    "class MultiDerived(SuperClass1, SuperClass2):\n",
    "    \n",
    "    # features of SuperClass1 + SuperClass2 + MultiDerived class\n",
    "    \n",
    "Here, the MultiDerived class is derived from SuperClass1 and SuperClass2 classes."
   ]
  },
  {
   "cell_type": "markdown",
   "id": "0114511c",
   "metadata": {},
   "source": [
    "# Example: Python Multiple Inheritance"
   ]
  },
  {
   "cell_type": "code",
   "execution_count": 42,
   "id": "ecc0a996",
   "metadata": {},
   "outputs": [
    {
     "name": "stdout",
     "output_type": "stream",
     "text": [
      "Mammals can give direct birth.\n",
      "Winged animals can flap.\n"
     ]
    }
   ],
   "source": [
    "class Mammal:\n",
    "    def mammal_info(self):\n",
    "        print(\"Mammals can give direct birth.\")\n",
    "\n",
    "class WingedAnimal:\n",
    "    def winged_animal_info(self):\n",
    "        print(\"Winged animals can flap.\")\n",
    "\n",
    "class Bat(Mammal, WingedAnimal):\n",
    "    pass\n",
    "\n",
    "# create an object of Bat class\n",
    "b1 = Bat()\n",
    "\n",
    "b1.mammal_info()\n",
    "b1.winged_animal_info()"
   ]
  },
  {
   "cell_type": "markdown",
   "id": "6b9d8eb1",
   "metadata": {},
   "source": [
    "In the above example, the Bat class is derived from two super classes: Mammal and WingedAnimal. Notice the statements,\n",
    "\n",
    "b1 = Bat()\n",
    "\n",
    "b1.mammal_info()\n",
    "\n",
    "b1.winged_animal_info()\n",
    "\n",
    "Here, \n",
    "\n",
    "we are using b1 (object of Bat) to access mammal_info() and winged_animal_info() methods of the Mammal \n",
    "and the WingedAnimal class respectively.\n",
    "\n",
    "# Python Multilevel Inheritance\n",
    "\n",
    "In Python, not only can we derive a class from the superclass but \n",
    "you can also derive a class from the derived class. \n",
    "This form of inheritance is known as multilevel inheritance.\n",
    "\n",
    "Here's the syntax of the multilevel inheritance,\n",
    "\n",
    "class SuperClass:\n",
    "    \n",
    "    # Super class code here\n",
    "\n",
    "class DerivedClass1(SuperClass):\n",
    "    \n",
    "    # Derived class 1 code here\n",
    "\n",
    "class DerivedClass2(DerivedClass1):\n",
    "    \n",
    "    # Derived class 2 code here"
   ]
  },
  {
   "cell_type": "markdown",
   "id": "f794cee7",
   "metadata": {},
   "source": [
    "Here, the DerivedClass1 class is derived from the SuperClass class, \n",
    "and the DerivedClass2 class is derived from the DerivedClass1 class."
   ]
  },
  {
   "cell_type": "markdown",
   "id": "f6bed601",
   "metadata": {},
   "source": [
    "# Example: Python Multilevel Inheritance"
   ]
  },
  {
   "cell_type": "code",
   "execution_count": 43,
   "id": "96749c0f",
   "metadata": {},
   "outputs": [
    {
     "name": "stdout",
     "output_type": "stream",
     "text": [
      "Super Class method called\n",
      "Derived class 1 method called\n",
      "Derived class 2 method called\n"
     ]
    }
   ],
   "source": [
    "class SuperClass:\n",
    "\n",
    "    def super_method(self):\n",
    "        print(\"Super Class method called\")\n",
    "\n",
    "# define class that derive from SuperClass\n",
    "class DerivedClass1(SuperClass):\n",
    "    def derived1_method(self):\n",
    "        print(\"Derived class 1 method called\")\n",
    "\n",
    "# define class that derive from DerivedClass1\n",
    "class DerivedClass2(DerivedClass1):\n",
    "\n",
    "    def derived2_method(self):\n",
    "        print(\"Derived class 2 method called\")\n",
    "\n",
    "# create an object of DerivedClass2\n",
    "d2 = DerivedClass2()\n",
    "\n",
    "d2.super_method()  # Output: \"Super Class method called\"\n",
    "\n",
    "d2.derived1_method()  # Output: \"Derived class 1 method called\"\n",
    "\n",
    "d2.derived2_method()  # Output: \"Derived class 2 method called\""
   ]
  },
  {
   "cell_type": "markdown",
   "id": "e6e8f5b4",
   "metadata": {},
   "source": [
    "In the above example, DerivedClass2 is derived from DerivedClass1, which is derived from SuperClass.\n",
    "\n",
    "It means that DerivedClass2 inherits all the attributes and methods of both DerivedClass1 and SuperClass.\n",
    "\n",
    "Hence, we are using d2 (object of DerivedClass2) to call methods from SuperClass, DerivedClass1, and DerivedClass2."
   ]
  },
  {
   "cell_type": "markdown",
   "id": "ee6daa26",
   "metadata": {},
   "source": [
    "# Method Resolution Order (MRO) in Python\n",
    "\n",
    "If two superclasses have the same method name and the derived class calls that method,\n",
    "Python uses the MRO to search for the right method to call. \n",
    "\n",
    "For example,"
   ]
  },
  {
   "cell_type": "code",
   "execution_count": 46,
   "id": "3d2d4c05",
   "metadata": {},
   "outputs": [
    {
     "name": "stdout",
     "output_type": "stream",
     "text": [
      "Super Class 2 method called\n"
     ]
    }
   ],
   "source": [
    "class SuperClass1:\n",
    "    def info(self):\n",
    "        print(\"Super Class 1 method called\")\n",
    "\n",
    "class SuperClass2:\n",
    "    def info(self):\n",
    "        print(\"Super Class 2 method called\")\n",
    "\n",
    "class Derived(SuperClass2, SuperClass1):        #Leftmost is Superclass1 in this example\n",
    "    pass\n",
    "\n",
    "d1 = Derived()\n",
    "d1.info()  \n",
    "\n",
    "# Output: \"Super Class 1 method called\""
   ]
  },
  {
   "cell_type": "markdown",
   "id": "531b2e42",
   "metadata": {},
   "source": [
    "Here, SuperClass1 and SuperClass2 both of these classes define a method info().\n",
    "\n",
    "So when info() is called using the d1 object of the Derived class, Python uses the MRO to determine which method to call.\n",
    "\n",
    "In this case, the MRO specifies that methods should be inherited from the leftmost (in the Derived class definition) superclass first, \n",
    "so info() of SuperClass1 is called rather than that of SuperClass2."
   ]
  },
  {
   "cell_type": "markdown",
   "id": "24a7b08b",
   "metadata": {},
   "source": [
    "# Python Operator Overloading"
   ]
  },
  {
   "cell_type": "markdown",
   "id": "136f4c16",
   "metadata": {},
   "source": [
    "In this Segment, we will learn about operator overloading in Python with the help of examples.\n",
    "\n",
    "In Python, we can change the way operators work for user-defined types.\n",
    "\n",
    "For example, the + operator will perform arithmetic addition on two numbers, merge two lists, or concatenate two strings.\n",
    "\n",
    "This feature in Python that allows the same operator to have different meaning according to the context \n",
    "is called operator overloading."
   ]
  },
  {
   "cell_type": "raw",
   "id": "28d889c2",
   "metadata": {},
   "source": [
    "# Python Special Functions\n",
    "\n",
    "Class functions that begin with double underscore __ are called special functions in Python.\n",
    "\n",
    "The special functions are defined by the Python interpreter and used to implement certain features or behaviors.\n",
    "\n",
    "They are called \"double underscore\" functions because they have a double underscore prefix and suffix, \n",
    "such as __init__() or __add__().\n",
    "\n",
    "Here are some of the special functions available in Python,"
   ]
  },
  {
   "cell_type": "raw",
   "id": "32eb111e",
   "metadata": {},
   "source": [
    "Function\tDescription\n",
    "__init__()\tinitialize the attributes of the object\n",
    "__str__()\treturns a string representation of the object\n",
    "__len__()\treturns the length of the object\n",
    "__add__()\tadds two objects\n",
    "__call__()\tcall objects of the class like a normal function"
   ]
  },
  {
   "cell_type": "raw",
   "id": "d9fbaee8",
   "metadata": {},
   "source": [
    "# Example: + Operator Overloading in Python\n",
    "\n",
    "To overload the + operator, we will need to implement __add__() function in the class."
   ]
  },
  {
   "cell_type": "markdown",
   "id": "ba317248",
   "metadata": {},
   "source": [
    "With great power comes great responsibility. We can do whatever we like inside this function. \n",
    "\n",
    "But it is more sensible to return the Point object of the coordinate sum.\n",
    "\n",
    "Let's see an example,"
   ]
  },
  {
   "cell_type": "code",
   "execution_count": 47,
   "id": "a47c6786",
   "metadata": {},
   "outputs": [
    {
     "name": "stdout",
     "output_type": "stream",
     "text": [
      "(2,3)\n"
     ]
    }
   ],
   "source": [
    "class Point:\n",
    "    def __init__(self, x=0, y=0):\n",
    "        self.x = x\n",
    "        self.y = y\n",
    "\n",
    "    def __str__(self):\n",
    "        return \"({0},{1})\".format(self.x, self.y) #{0} value at index 0 passed in self.x\n",
    "\n",
    "    def __add__(self, other):\n",
    "        x = self.y + other.x\n",
    "        y = self.x + other.y\n",
    "        return Point(x, y)\n",
    "\n",
    "\n",
    "p1 = Point(1, 0) # this becomes self.x & self.y (respectively)\n",
    "\n",
    "\n",
    "\n",
    "p2 = Point(3, 1) # this becomes other.x & other.y (respectively) & then the operation given in add has been performed, \n",
    "                 # try with different operations like -, /, * etc in __add__\n",
    "                 # also try changing  index values mentioned in {0} and {1} to see the effects on result for better\n",
    "                 # understanding\n",
    "\n",
    "print(p2 + p1)\n",
    "\n",
    "# Output: (3,5)"
   ]
  },
  {
   "cell_type": "markdown",
   "id": "c426385d",
   "metadata": {},
   "source": [
    "In the above example, what actually happens is that, when we use p1 + p2,\n",
    "\n",
    "Python calls p1.__add__(p2) which in turn is Point.__add__(p1,p2). \n",
    "\n",
    "After this, the addition operation is carried out the way we specified.\n",
    "\n",
    "\n",
    "\n",
    "Similarly, we can overload other operators as well. \n",
    "\n",
    "The special function that we need to implement is tabulated below."
   ]
  },
  {
   "cell_type": "raw",
   "id": "61e705fb",
   "metadata": {},
   "source": [
    "Addition\t         p1 + p2\tp1.__add__(p2)\n",
    "Subtraction\t         p1 - p2\tp1.__sub__(p2)\n",
    "Multiplication\t     p1 * p2\tp1.__mul__(p2)\n",
    "Power\t            p1 ** p2\tp1.__pow__(p2)\n",
    "Division\t         p1 / p2\tp1.__truediv__(p2)\n",
    "Floor Division\t     p1 // p2\tp1.__floordiv__(p2)\n",
    "Remainder (modulo)\t p1 % p2\tp1.__mod__(p2)\n",
    "Bitwise Left Shift\t p1 << p2\tp1.__lshift__(p2)\n",
    "Bitwise Right Shift\t p1 >> p2\tp1.__rshift__(p2)\n",
    "Bitwise AND\t         p1 & p2\tp1.__and__(p2)\n",
    "Bitwise OR\t         p1 | p2\tp1.__or__(p2)\n",
    "Bitwise XOR\t         p1 ^ p2\tp1.__xor__(p2)\n",
    "Bitwise NOT\t             ~p1\tp1.__invert__()"
   ]
  },
  {
   "cell_type": "markdown",
   "id": "25bb38c5",
   "metadata": {},
   "source": [
    "# Overloading Comparison Operators\n",
    "\n",
    "Python does not limit operator overloading to arithmetic operators only. We can overload comparison operators as well.\n",
    "\n",
    "Here's an example of how we can overload the < operator to compare two objects the Person class based on their age:"
   ]
  },
  {
   "cell_type": "code",
   "execution_count": 48,
   "id": "c8df76df",
   "metadata": {},
   "outputs": [
    {
     "name": "stdout",
     "output_type": "stream",
     "text": [
      "True\n",
      "False\n"
     ]
    }
   ],
   "source": [
    "class Person:\n",
    "    def __init__(self, name, age):\n",
    "        self.name = name\n",
    "        self.age = age\n",
    "\n",
    "    # overload < operator\n",
    "    def __lt__(self, other):\n",
    "        return self.age < other.age\n",
    "\n",
    "p1 = Person(\"Alice\", 20)\n",
    "p2 = Person(\"Bob\", 30)\n",
    "\n",
    "print(p1 < p2)  # prints True\n",
    "print(p2 < p1)  # prints False"
   ]
  },
  {
   "cell_type": "raw",
   "id": "fe56fd6e",
   "metadata": {},
   "source": [
    "Here, __lt__() overloads the < operator to compare the age attribute of two objects.\n",
    "\n",
    "The __lt__() method returns,\n",
    "\n",
    "True - if the first object's age is less than the second object's age\n",
    "\n",
    "False - if the first object's age is greater than the second object's age\n",
    "\n",
    "Similarly, the special functions that we need to implement, to overload other comparison operators are tabulated below."
   ]
  },
  {
   "cell_type": "raw",
   "id": "0e328b97",
   "metadata": {},
   "source": [
    "Operator\t              Expression\tInternally\n",
    "Less than\t                p1 < p2\t    p1.__lt__(p2)\n",
    "Less than or equal to\t    p1 <= p2\tp1.__le__(p2)\n",
    "Equal to\t                p1 == p2\tp1.__eq__(p2)\n",
    "Not equal to\t            p1 != p2\tp1.__ne__(p2)\n",
    "Greater than\t            p1 > p2\t    p1.__gt__(p2)\n",
    "Greater than or equal to\tp1 >= p2\tp1.__ge__(p2)"
   ]
  },
  {
   "cell_type": "markdown",
   "id": "a28b12ad",
   "metadata": {},
   "source": [
    "# Advantages of Operator Overloading\n",
    "\n",
    "Here are some advantages of operator overloading,\n",
    "\n",
    "1. Improves code readability by allowing the use of familiar operators.\n",
    "\n",
    "2. Ensures that objects of a class behave consistently with built-in types and other user-defined types.\n",
    "\n",
    "3. Makes it simpler to write code, especially for complex data types.\n",
    "\n",
    "4. Allows for code reuse by implementing one operator method and using it for other operators."
   ]
  },
  {
   "cell_type": "code",
   "execution_count": null,
   "id": "c9aa921b",
   "metadata": {},
   "outputs": [],
   "source": []
  }
 ],
 "metadata": {
  "kernelspec": {
   "display_name": "Python 3 (ipykernel)",
   "language": "python",
   "name": "python3"
  },
  "language_info": {
   "codemirror_mode": {
    "name": "ipython",
    "version": 3
   },
   "file_extension": ".py",
   "mimetype": "text/x-python",
   "name": "python",
   "nbconvert_exporter": "python",
   "pygments_lexer": "ipython3",
   "version": "3.9.7"
  }
 },
 "nbformat": 4,
 "nbformat_minor": 5
}
