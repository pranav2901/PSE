{
 "cells": [
  {
   "cell_type": "raw",
   "id": "8ea718c1",
   "metadata": {},
   "source": [
    "BeautifulSoup is one of the most common libraries in Python which is used for navigating, searching, and pulling out data from HTML or XML webpages. The most common methods used for finding anything on the webpage are find() and find_all(). However, there is a slight difference between these two, let’s discuss them in detail."
   ]
  },
  {
   "cell_type": "raw",
   "id": "6194254d",
   "metadata": {},
   "source": [
    "find() method\n",
    "\n",
    "The find method is used for finding out the first tag with the specified name or id and returning an object of type bs4.\n",
    "\n",
    "Syntax: \n",
    "\n",
    "find_syntax=soup.find(“#Widget Name”, {“id”:”#Id name of widget in which you want to edit”}).get_text()"
   ]
  },
  {
   "cell_type": "raw",
   "id": "72300217",
   "metadata": {},
   "source": [
    "find_all() method\n",
    "\n",
    "The find_all method is used for finding out all tags with the specified tag name or id and returning them as a list of type bs4.\n",
    "\n",
    "Syntax:\n",
    "    \n",
    "for word in soup.find_all(‘id’):\n",
    "\n",
    "     find_all_syntax=word.get_text()\n",
    "     print(find_all_syntax)"
   ]
  },
  {
   "cell_type": "raw",
   "id": "394ab19e",
   "metadata": {},
   "source": [
    "Table of Difference between find and find_all\n",
    "\n",
    "1\n",
    "\n",
    "find is used for returning the result when the searched element is found on the page. \n",
    "\n",
    "find_all is used for returning all the matches after scanning the entire document.\n",
    "\n",
    "2\n",
    "\n",
    "It is used for getting merely the first tag of the incoming HTML object for which condition is satisfied.  \n",
    "\n",
    "It is used for getting all the incoming HTML objects for which condition is satisfied.  \n",
    "\n",
    "3\n",
    "\n",
    "The return type of find is <class ‘bs4.element.Tag’>.\n",
    "\n",
    "The return type of find_all is <class ‘bs4.element.ResultSet’>\n",
    "\n",
    "4\n",
    "\n",
    "We can print only the first search as an output.\n",
    "\n",
    "We can print any search, I.e., second, third, last, etc. or all the searches as an output.\n",
    "\n",
    "5\n",
    "\n",
    "Prototype: find(tag, attributes, recursive, text, keywords)\n",
    "\n",
    "Prototype: findAll(tag, attributes, recursive, text, limit, keywords)"
   ]
  },
  {
   "cell_type": "markdown",
   "id": "b2d79131",
   "metadata": {},
   "source": [
    "# Example:"
   ]
  },
  {
   "cell_type": "raw",
   "id": "069fb8d5",
   "metadata": {},
   "source": [
    "For instance, consider this simple HTML webpage having different paragraph tags. We are saving it as example1.html"
   ]
  },
  {
   "cell_type": "raw",
   "id": "466723cb",
   "metadata": {},
   "source": [
    "<!DOCTYPE html>\n",
    "<html>\n",
    "\t\n",
    "<head>\n",
    "Geeks For Geeks\n",
    "</head>\n",
    "\t\n",
    "<body>\n",
    "<div>\n",
    "\t<p id=\"vinayak\">King</p>\n",
    "\n",
    "\t<p id=\"vinayak1\">Prince</p>\n",
    "\n",
    "\t<p id=\"vinayak2\">Queen</p>\n",
    "\n",
    "</div>\n",
    "<p id=\"vinayak3\">Princess</p>\n",
    "\n",
    "</body>\n",
    "\n",
    "</html>\n"
   ]
  },
  {
   "cell_type": "markdown",
   "id": "daebbf17",
   "metadata": {},
   "source": [
    "# Find Example"
   ]
  },
  {
   "cell_type": "code",
   "execution_count": 1,
   "id": "9acb221d",
   "metadata": {},
   "outputs": [
    {
     "name": "stdout",
     "output_type": "stream",
     "text": [
      "Prince\n"
     ]
    }
   ],
   "source": [
    "# Find example\n",
    "\n",
    "# Import the libraries BeautifulSoup\n",
    "# and os\n",
    "from bs4 import BeautifulSoup as bs\n",
    "import os\n",
    "\n",
    "# Remove the last segment of the path\n",
    "base=os.path.dirname(os.path.abspath('run.py'))\n",
    "\n",
    "# Open the HTML in which you want to\n",
    "# make changes\n",
    "html=open(os.path.join(base, 'example1.html'))\n",
    "\n",
    "# Parse HTML file in Beautiful Soup\n",
    "soup= bs(html, 'html.parser')\n",
    "\n",
    "# Obtain the text from the widget after\n",
    "# finding it\n",
    "find_example = soup.find(\"p\", {\"id\":\"vinayak1\"}).get_text()\n",
    "\n",
    "# Printing the text obtained received\n",
    "# in previous step\n",
    "print(find_example)"
   ]
  },
  {
   "cell_type": "markdown",
   "id": "47ed948b",
   "metadata": {},
   "source": [
    "# Findall example"
   ]
  },
  {
   "cell_type": "code",
   "execution_count": 6,
   "id": "c2c0c16a",
   "metadata": {},
   "outputs": [
    {
     "name": "stdout",
     "output_type": "stream",
     "text": [
      "King\n",
      "Prince\n",
      "Queen\n",
      "Princess\n"
     ]
    }
   ],
   "source": [
    "# find_all example\n",
    "\n",
    "# Import the libraries BeautifulSoup\n",
    "# and os\n",
    "from bs4 import BeautifulSoup as bs\n",
    "import os\n",
    "\n",
    "# Remove the last segment of the path\n",
    "base=os.path.dirname(os.path.abspath('run.py'))\n",
    "\n",
    "# Open the HTML in which you want to\n",
    "# make changes\n",
    "html=open(os.path.join(base, 'example1.html'))\n",
    "\n",
    "# Parse HTML file in Beautiful Soup\n",
    "soup=bs(html, 'html.parser')\n",
    "\n",
    "# Construct a loop to find all the\n",
    "# p tags\n",
    "for word in soup.find_all('p'):\n",
    "\n",
    "    # Obtain the text from the received\n",
    "    # tags\n",
    "    find_all_example=word.get_text()\n",
    "\n",
    "    # Print the text obtained received\n",
    "    # in previous step\n",
    "    print(find_all_example)"
   ]
  },
  {
   "cell_type": "code",
   "execution_count": null,
   "id": "f16039d0",
   "metadata": {},
   "outputs": [],
   "source": []
  }
 ],
 "metadata": {
  "kernelspec": {
   "display_name": "Python 3 (ipykernel)",
   "language": "python",
   "name": "python3"
  },
  "language_info": {
   "codemirror_mode": {
    "name": "ipython",
    "version": 3
   },
   "file_extension": ".py",
   "mimetype": "text/x-python",
   "name": "python",
   "nbconvert_exporter": "python",
   "pygments_lexer": "ipython3",
   "version": "3.9.7"
  }
 },
 "nbformat": 4,
 "nbformat_minor": 5
}
