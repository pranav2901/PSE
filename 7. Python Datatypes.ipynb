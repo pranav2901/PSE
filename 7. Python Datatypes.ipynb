{
 "cells": [
  {
   "cell_type": "markdown",
   "id": "d4744ccf",
   "metadata": {},
   "source": [
    "# Python Numbers, Type Conversion and Mathematics\n",
    "\n",
    "In this segment, you will learn about Python Number, Type Conversion, and Mathematics with the help of examples.\n",
    "\n",
    "The number data types are used to store the numeric values.\n",
    "\n",
    "Python supports integers, floating-point numbers and complex numbers. \n",
    "They are defined as int, float, and complex classes in Python.\n",
    "\n",
    "int - holds signed integers of non-limited length.\n",
    "\n",
    "float - holds floating decimal points and it's accurate up to 15 decimal places.\n",
    "\n",
    "complex - holds complex numbers.\n",
    "\n",
    "Python Numeric Data Type\n",
    "\n",
    "Integers and floating points are separated by the presence or absence of a decimal point. \n",
    "\n",
    "For instance,\n",
    "\n",
    "5 is an integer\n",
    "5.42 is a floating-point number.\n",
    "\n",
    "Complex numbers are written in the form, x + yj, where x is the real part and y is the imaginary part.\n",
    "\n",
    "We can use the type() function to know which class a variable or a value belongs to."
   ]
  },
  {
   "cell_type": "code",
   "execution_count": null,
   "id": "19c432ac",
   "metadata": {},
   "outputs": [],
   "source": [
    "num1 = 5\n",
    "print(num1, 'is of type', type(num1))\n",
    "\n",
    "num2 = 5.42\n",
    "print(num2, 'is of type', type(num2))\n",
    "\n",
    "num3 = 8+2j\n",
    "print(num3, 'is of type', type(num3))"
   ]
  },
  {
   "cell_type": "markdown",
   "id": "470b4b9b",
   "metadata": {},
   "source": [
    "In the above example, we have created three variables named num1, num2 and num3 with values 5, 5.42, and 8+2j respectively.\n",
    "\n",
    "We have also used the type() function to know which class a certain variable belongs to. Since,\n",
    "\n",
    "5 is an integer value, type() returns int as the class of num1 i.e <class 'int'>\n",
    "5.42 is a floating value, type() returns float as the class of num2 i.e <class 'float'>\n",
    "1 + 2j is a complex number, type() returns complex as the class of num3 i.e <class 'complex'>"
   ]
  },
  {
   "cell_type": "markdown",
   "id": "56e747fc",
   "metadata": {},
   "source": [
    "# Number Systems\n",
    "\n",
    "The numbers we deal with every day are of the decimal (base 10) number system.\n",
    "\n",
    "But computer programmers need to work with binary (base 2), hexadecimal (base 16) and octal (base 8) number systems.\n",
    "\n",
    "In Python, we can represent these numbers by appropriately placing a prefix before that number. The following table lists these prefixes.\n",
    "\n",
    "Number System\tPrefix\n",
    "\n",
    "Binary\t0b or 0B\n",
    "\n",
    "Octal\t0o or 0O\n",
    "\n",
    "Hexadecimal\t0x or 0X"
   ]
  },
  {
   "cell_type": "markdown",
   "id": "68b2308b",
   "metadata": {},
   "source": [
    "Here are some examples"
   ]
  },
  {
   "cell_type": "code",
   "execution_count": null,
   "id": "111a1cc7",
   "metadata": {},
   "outputs": [],
   "source": [
    "print(0b1101010)  # prints 106 (Binary)\n",
    "\n",
    "print(0xFB + 0b10)  # prints 253 (Hexadecimal + Binary)\n",
    "\n",
    "print(0o15)  # prints 13 (Octal)"
   ]
  },
  {
   "cell_type": "markdown",
   "id": "0bf45a3c",
   "metadata": {},
   "source": [
    "# Type Conversion in Python\n",
    "\n",
    "In programming, type conversion is the process of converting one type of number into another.\n",
    "\n",
    "Operations like addition, subtraction convert integers to float implicitly (automatically), \n",
    "if one of the operands is float. \n",
    "\n",
    "For example,"
   ]
  },
  {
   "cell_type": "code",
   "execution_count": null,
   "id": "ff98a5c8",
   "metadata": {},
   "outputs": [],
   "source": [
    "print(1 + 2.0) # prints 3.0"
   ]
  },
  {
   "cell_type": "markdown",
   "id": "70694a53",
   "metadata": {},
   "source": [
    "Here, we can see above that 1 (integer) is converted into 1.0 (float) for addition and \n",
    "the result is also a floating point number.\n",
    "\n",
    "\n",
    "# Explicit Type Conversion\n",
    "\n",
    "We can also use built-in functions like int(), float() and complex() to convert between types explicitly. \n",
    "These functions can even convert from strings."
   ]
  },
  {
   "cell_type": "code",
   "execution_count": null,
   "id": "c9df25ff",
   "metadata": {},
   "outputs": [],
   "source": [
    "num1 = int(2.3)\n",
    "print(num1)  # prints 2\n",
    "\n",
    "num2 = int(-2.8)\n",
    "print(num2)  # prints -2\n",
    "\n",
    "num3 = float(5)\n",
    "print(num3) # prints 5.0\n",
    "\n",
    "num4 = complex('3+5j')\n",
    "print(num4)  # prints (3 + 5j)"
   ]
  },
  {
   "cell_type": "markdown",
   "id": "23f0bdca",
   "metadata": {},
   "source": [
    "Here, when converting from float to integer, the number gets truncated (decimal parts are removed).\n",
    "\n",
    "Similarly when converting from integer to float, .0 is postfixed to the number."
   ]
  },
  {
   "cell_type": "markdown",
   "id": "d153fe30",
   "metadata": {},
   "source": [
    "# Python Random Module\n",
    "\n",
    "Python offers the random module to generate random numbers or to pick a random item from an iterator.\n",
    "\n",
    "First we need to import the random module. \n",
    "\n",
    "For example,"
   ]
  },
  {
   "cell_type": "code",
   "execution_count": null,
   "id": "12c9ffb5",
   "metadata": {},
   "outputs": [],
   "source": [
    "import random\n",
    "\n",
    "print(random.randrange(10, 20))\n",
    "\n",
    "list1 = ['a', 'b', 'c', 'd', 'e']\n",
    "\n",
    "# get random item from list1\n",
    "print(random.choice(list1))\n",
    "\n",
    "# Shuffle list1\n",
    "random.shuffle(list1)\n",
    "\n",
    "# Print the shuffled list1\n",
    "print(list1)\n",
    "\n",
    "# Print random element\n",
    "print(random.random())"
   ]
  },
  {
   "cell_type": "markdown",
   "id": "e938b1a4",
   "metadata": {},
   "source": [
    "Execute above code multiple times to see the changes"
   ]
  },
  {
   "cell_type": "markdown",
   "id": "d85333bd",
   "metadata": {},
   "source": [
    "You can generate random numbers in Python by using random module.\n",
    "\n",
    "Python offers random module that can generate random numbers.\n",
    "\n",
    "These are pseudo-random number as the sequence of number generated depends on the seed.\n",
    "\n",
    "If the seeding value is same, the sequence will be the same. \n",
    "\n",
    "For example, if you use 2 as the seeding value, you will always see the following sequence."
   ]
  },
  {
   "cell_type": "code",
   "execution_count": null,
   "id": "029e08bf",
   "metadata": {},
   "outputs": [],
   "source": [
    "import random\n",
    "random.seed(6)\n",
    "\n",
    "print(random.random())\n",
    "print(random.random())\n",
    "print(random.random())\n",
    "print(random.random())"
   ]
  },
  {
   "cell_type": "markdown",
   "id": "93261882",
   "metadata": {},
   "source": [
    "Now, execute above code many times, you will see no change in the sequence\n",
    "\n",
    "seeding can be any integer number"
   ]
  },
  {
   "cell_type": "markdown",
   "id": "2ec2ef86",
   "metadata": {},
   "source": [
    "# Python Mathematics"
   ]
  },
  {
   "cell_type": "markdown",
   "id": "f056bf78",
   "metadata": {},
   "source": [
    "Python offers the math module to carry out different mathematics like \n",
    "trigonometry, logarithms, probability and statistics, etc. \n",
    "\n",
    "For example,"
   ]
  },
  {
   "cell_type": "code",
   "execution_count": null,
   "id": "2a413c45",
   "metadata": {},
   "outputs": [],
   "source": [
    "import math\n",
    "\n",
    "print(math.pi)\n",
    "\n",
    "print(math.cos(math.pi))\n",
    "\n",
    "print(math.exp(10))\n",
    "\n",
    "print(math.log10(1000))\n",
    "\n",
    "print(math.sinh(1))\n",
    "\n",
    "print(math.factorial(6))"
   ]
  },
  {
   "cell_type": "markdown",
   "id": "3d2f57fc",
   "metadata": {},
   "source": [
    "One can check for more details about full list of functions and attributes available in the Python math module."
   ]
  },
  {
   "cell_type": "markdown",
   "id": "4b60c06a",
   "metadata": {},
   "source": [
    "# Python List"
   ]
  },
  {
   "cell_type": "markdown",
   "id": "3343cc5b",
   "metadata": {},
   "source": [
    "Create a Python List\n",
    "\n",
    "A list is created in Python by placing items inside [], separated by commas . For example,"
   ]
  },
  {
   "cell_type": "code",
   "execution_count": null,
   "id": "2552bb77",
   "metadata": {},
   "outputs": [],
   "source": [
    "# A list with 3 integers\n",
    "numbers = [1, 2, 5]\n",
    "\n",
    "print(numbers)\n",
    "\n",
    "# Output: [1, 2, 5]"
   ]
  },
  {
   "cell_type": "markdown",
   "id": "400ba326",
   "metadata": {},
   "source": [
    "Here, we have created a list named numbers with 3 integer items.\n",
    "\n",
    "A list can have any number of items and they may be of different types (integer, float, string, etc.). For example,\n",
    "\n",
    "empty list\n",
    "\n",
    "my_list = []\n",
    "\n",
    "list with mixed data types\n",
    "\n",
    "my_list = [1, \"Hello\", 3.4]"
   ]
  },
  {
   "cell_type": "markdown",
   "id": "a72979d1",
   "metadata": {},
   "source": [
    "# Access Python List Elements\n",
    "\n",
    "In Python, each item in a list is associated with a number. The number is known as a list index.\n",
    "\n",
    "We can access elements of an array using the index number (0, 1, 2 …). For example,"
   ]
  },
  {
   "cell_type": "code",
   "execution_count": null,
   "id": "211ab2b9",
   "metadata": {},
   "outputs": [],
   "source": [
    "languages = [\"Python\", \"Swift\", \"C++\"]\n",
    "\n",
    "# access item at index 0\n",
    "print(languages[0])   # Python\n",
    "\n",
    "# access item at index 2\n",
    "print(languages[2])   # C++"
   ]
  },
  {
   "cell_type": "markdown",
   "id": "19ca09f8",
   "metadata": {},
   "source": [
    "Here, we can see each list item is associated with the index number. And, we have used the index number to access the items.\n",
    "\n",
    "Note: The list index always starts with 0. Hence, the first element of a list is present at index 0, not 1."
   ]
  },
  {
   "cell_type": "markdown",
   "id": "51bbc41b",
   "metadata": {},
   "source": [
    "Negative Indexing in Python\n",
    "Python allows negative indexing for its sequences. The index of -1 refers to the last item, -2 to \n",
    "the second last item and so on.\n",
    "\n",
    "Let's see an example,"
   ]
  },
  {
   "cell_type": "code",
   "execution_count": null,
   "id": "888f7558",
   "metadata": {},
   "outputs": [],
   "source": [
    "languages = [\"Python\", \"Swift\", \"C++\"]\n",
    "\n",
    "# access item at index -1 or 2\n",
    "print(languages[-1 or 2]) # C++\n",
    "\n",
    "print(languages[2:])\n",
    "\n",
    "print(languages[-1])\n",
    "\n",
    "print(languages[2])\n",
    "\n",
    "# access item at index 2\n",
    "print(languages[-3])   # Python"
   ]
  },
  {
   "cell_type": "markdown",
   "id": "d6b72321",
   "metadata": {},
   "source": [
    "# Slicing of a Python List\n",
    "\n",
    "In Python it is possible to access a section of items from the list using the slicing operator :, \n",
    "not just a single item. For example,"
   ]
  },
  {
   "cell_type": "code",
   "execution_count": null,
   "id": "a35acec9",
   "metadata": {},
   "outputs": [],
   "source": [
    "# List slicing in Python\n",
    "\n",
    "my_list = ['p','r','o','g','r','a','m','i','z']\n",
    "\n",
    "# items from index 2 to index 4\n",
    "print(my_list[2:5])\n",
    "\n",
    "# items from index 5 to end\n",
    "print(my_list[5:])\n",
    "\n",
    "# items beginning to end\n",
    "print(my_list[:])"
   ]
  },
  {
   "cell_type": "markdown",
   "id": "deee74a9",
   "metadata": {},
   "source": [
    "Here,\n",
    "\n",
    "my_list[2:5] returns a list with items from index 2 to index 4.\n",
    "\n",
    "my_list[5:] returns a list with items from index 1 to the end.\n",
    "\n",
    "my_list[:] returns all list items\n",
    "\n",
    "Note: When we slice lists, the start index is inclusive but the end index is exclusive."
   ]
  },
  {
   "cell_type": "markdown",
   "id": "be7f7a2f",
   "metadata": {},
   "source": [
    "# Add Elements to a Python List\n",
    "\n",
    "Python List provides different methods to add items to a list.\n",
    "\n",
    "1. Using append()\n",
    "\n",
    "The append() method adds an item at the end of the list. For example,"
   ]
  },
  {
   "cell_type": "code",
   "execution_count": null,
   "id": "3bc8f5c1",
   "metadata": {},
   "outputs": [],
   "source": [
    "numbers = [21, 34, 54, 12]\n",
    "\n",
    "print(\"Before Append:\", numbers)\n",
    "\n",
    "# using append method\n",
    "numbers.append(32)\n",
    "\n",
    "print(\"After Append:\", numbers)"
   ]
  },
  {
   "cell_type": "markdown",
   "id": "2715823a",
   "metadata": {},
   "source": [
    "In the above example, we have created a list named numbers. Notice the line,\n",
    "\n",
    "numbers.append(32)\n",
    "\n",
    "Here, append() adds 32 at the end of the array."
   ]
  },
  {
   "cell_type": "markdown",
   "id": "89673c72",
   "metadata": {},
   "source": [
    "2. Using extend()\n",
    "\n",
    "We use the extend() method to add all items of one list to another. For example,"
   ]
  },
  {
   "cell_type": "code",
   "execution_count": null,
   "id": "1319f464",
   "metadata": {},
   "outputs": [],
   "source": [
    "prime_numbers = [2, 3, 5]\n",
    "print(\"List1:\", prime_numbers)\n",
    "\n",
    "even_numbers = [4, 6, 8]\n",
    "print(\"List2:\", even_numbers)\n",
    "\n",
    "# join two lists\n",
    "#prime_numbers.extend(even_numbers)\n",
    "even_numbers.extend(prime_numbers)\n",
    "\n",
    "#print(\"List after extend:\", prime_numbers)\n",
    "print(\"List after extend:\", even_numbers) "
   ]
  },
  {
   "cell_type": "markdown",
   "id": "d16354ba",
   "metadata": {},
   "source": [
    "In the above example, we have two lists named prime_numbers and even_numbers. Notice the statement,\n",
    "\n",
    "prime_numbers.extend(even_numbers)\n",
    "\n",
    "Here, we are adding all elements of even_numbers to prime_numbers."
   ]
  },
  {
   "cell_type": "markdown",
   "id": "016833b9",
   "metadata": {},
   "source": [
    "# Change List Items\n",
    "Python lists are mutable. Meaning lists are changeable. \n",
    "And, we can change items of a list by assigning new values using = operator. For example,"
   ]
  },
  {
   "cell_type": "code",
   "execution_count": null,
   "id": "ece15f75",
   "metadata": {},
   "outputs": [],
   "source": [
    "languages = ['Python', 'Swift', 'C++']\n",
    "\n",
    "# changing the third item to 'C'\n",
    "languages[2] = 'C'\n",
    "\n",
    "print(languages)  # ['Python', 'Swift', 'C']"
   ]
  },
  {
   "cell_type": "markdown",
   "id": "fba24995",
   "metadata": {},
   "source": [
    "Here, initially the value at index 2 is 'C++'. We then changed the value to 'C' using\n",
    "\n",
    "languages[2] = 'C'"
   ]
  },
  {
   "cell_type": "markdown",
   "id": "55dac40c",
   "metadata": {},
   "source": [
    "# Remove an Item From a List\n",
    "1. Using del()\n",
    "\n",
    "In Python we can use the del statement to remove one or more items from a list. For example,"
   ]
  },
  {
   "cell_type": "code",
   "execution_count": null,
   "id": "e10357b5",
   "metadata": {},
   "outputs": [],
   "source": [
    "languages = ['Python', 'Swift', 'C++', 'C', 'Java', 'Rust', 'R']\n",
    "\n",
    "# deleting the second item\n",
    "del languages[1]\n",
    "print(languages) # ['Python', 'C++', 'C', 'Java', 'Rust', 'R']\n",
    "\n",
    "# deleting the last item\n",
    "del languages[-1]\n",
    "print(languages) # ['Python', 'C++', 'C', 'Java', 'Rust']\n",
    "\n",
    "# delete first two items\n",
    "del languages[0 : 2]  # ['C', 'Java', 'Rust']\n",
    "print(languages)"
   ]
  },
  {
   "cell_type": "markdown",
   "id": "de048ba3",
   "metadata": {},
   "source": [
    "2. Using remove()\n",
    "\n",
    "We can also use the remove() method to delete a list item. For example,"
   ]
  },
  {
   "cell_type": "code",
   "execution_count": null,
   "id": "d5b4b5cf",
   "metadata": {},
   "outputs": [],
   "source": [
    "languages = ['Python', 'Swift', 'C++', 'C', 'Java', 'Rust', 'R']\n",
    "\n",
    "# remove 'Python' from the list\n",
    "languages.remove('Python')\n",
    "\n",
    "print(languages) # ['Swift', 'C++', 'C', 'Java', 'Rust', 'R']\n",
    "#dir(list)"
   ]
  },
  {
   "cell_type": "markdown",
   "id": "00f6b5b8",
   "metadata": {},
   "source": [
    "# Python List Methods\n",
    "\n",
    "Python has many useful list methods that makes it really easy to work with lists.\n",
    "\n",
    "Method\tDescription\n",
    "\n",
    "append()\tadd an item to the end of the list\n",
    "\n",
    "extend()\tadd items of lists and other iterables to the end of the list\n",
    "\n",
    "insert()\tinserts an item at the specified index\n",
    "\n",
    "remove()\tremoves item present at the given index\n",
    "\n",
    "pop()\treturns and removes item present at the given index\n",
    "\n",
    "clear()\tremoves all items from the list\n",
    "\n",
    "index()\treturns the index of the first matched item\n",
    "\n",
    "count()\treturns the count of the specified item in the list\n",
    "\n",
    "sort()\tsort the list in ascending/descending order\n",
    "\n",
    "reverse()\treverses the item of the list\n",
    "\n",
    "copy()\treturns the shallow copy of the list"
   ]
  },
  {
   "cell_type": "markdown",
   "id": "afc7da2e",
   "metadata": {},
   "source": [
    "# Iterating through a List\n",
    "\n",
    "We can use the for loop to iterate over the elements of a list. For example,"
   ]
  },
  {
   "cell_type": "code",
   "execution_count": null,
   "id": "1080b7e1",
   "metadata": {},
   "outputs": [],
   "source": [
    "languages = ['Python', 'Swift', 'C++', 'pranav']\n",
    "\n",
    "# iterating through the list\n",
    "for kk in languages:\n",
    "    print(kk)"
   ]
  },
  {
   "cell_type": "markdown",
   "id": "5e4f4a26",
   "metadata": {},
   "source": [
    "# Check if an Item Exists in the Python List\n",
    "\n",
    "We use the in keyword to check if an item exists in the list or not. For example,"
   ]
  },
  {
   "cell_type": "code",
   "execution_count": null,
   "id": "a835492f",
   "metadata": {},
   "outputs": [],
   "source": [
    "languages = ['Python', 'Swift', 'C++']\n",
    "\n",
    "print('C' in languages)    # False\n",
    "print('Python' in languages)    # True"
   ]
  },
  {
   "cell_type": "markdown",
   "id": "2786bc9b",
   "metadata": {},
   "source": [
    "Here,\n",
    "\n",
    "'C' is not present in languages, 'C' in languages evaluates to False.\n",
    "\n",
    "'Python' is present in languages, 'Python' in languages evaluates to True."
   ]
  },
  {
   "cell_type": "markdown",
   "id": "ca5da928",
   "metadata": {},
   "source": [
    "# Python List Length\n",
    "\n",
    "In Python, we use the len() function to find the number of elements present in a list. For example,"
   ]
  },
  {
   "cell_type": "code",
   "execution_count": null,
   "id": "523fd3b5",
   "metadata": {},
   "outputs": [],
   "source": [
    "languages = ['Python', 'Swift', 'C++', 'C' ]\n",
    "\n",
    "print(\"List: \", languages)\n",
    "\n",
    "print(\"Total Elements: \", len(languages))    # 3"
   ]
  },
  {
   "cell_type": "markdown",
   "id": "f56d0d3f",
   "metadata": {},
   "source": [
    "# Python List Comprehension\n",
    "\n",
    "List comprehension is a concise and elegant way to create lists.\n",
    "\n",
    "A list comprehension consists of an expression followed by the for statement inside square brackets.\n",
    "\n",
    "Here is an example to make a list with each item being increasing by power of 2."
   ]
  },
  {
   "cell_type": "code",
   "execution_count": null,
   "id": "7efded3f",
   "metadata": {},
   "outputs": [],
   "source": [
    "numbers = [number*number for number in range(1, 6)]\n",
    "\n",
    "print(numbers)  \n",
    "\n",
    "print(type(numbers))\n",
    "\n",
    "# Output: [1, 4, 9, 16, 25]"
   ]
  },
  {
   "cell_type": "markdown",
   "id": "af9cf691",
   "metadata": {},
   "source": [
    "In the above example, we have used the list comprehension to make a list with each item being increased by power of 2. \n",
    "\n",
    "Notice the code,\n",
    "\n",
    "[number*x for x in range(1, 6)] \n",
    "\n",
    "The code above means to create a list of number*number where number takes values from 1 to 5\n",
    "\n",
    "The code above,\n",
    "\n",
    "numbers = [x*x for x in range(1, 6)]\n",
    "\n",
    "is equivalent to"
   ]
  },
  {
   "cell_type": "code",
   "execution_count": null,
   "id": "7bb7dc86",
   "metadata": {},
   "outputs": [],
   "source": [
    "numbers1 = []\n",
    "\n",
    "for x in range(1, 6):\n",
    "    numbers1.append(x * x)"
   ]
  },
  {
   "cell_type": "code",
   "execution_count": null,
   "id": "730ffb0c",
   "metadata": {},
   "outputs": [],
   "source": [
    "numbers1"
   ]
  },
  {
   "cell_type": "markdown",
   "id": "d89c6aa4",
   "metadata": {},
   "source": [
    "# Python Tuple\n",
    "\n",
    "A tuple in Python is similar to a list. The difference between the two is that we cannot change the elements of a tuple once it is assigned whereas we can change the elements of a list."
   ]
  },
  {
   "cell_type": "markdown",
   "id": "9a3e3ac0",
   "metadata": {},
   "source": [
    "# Creating a Tuple\n",
    "\n",
    "A tuple is created by placing all the items (elements) inside parentheses (), separated by commas. \n",
    "The parentheses are optional, however, it is a good practice to use them.\n",
    "\n",
    "A tuple can have any number of items and they may be of different types (integer, float, list, string, etc.)."
   ]
  },
  {
   "cell_type": "code",
   "execution_count": null,
   "id": "e3794af4",
   "metadata": {},
   "outputs": [],
   "source": [
    "# Different types of tuples\n",
    "\n",
    "# Empty tuple\n",
    "my_tuple = ()\n",
    "print(my_tuple)\n",
    "\n",
    "# Tuple having integers\n",
    "my_tuple = (1, 2, 3)\n",
    "print(my_tuple)\n",
    "\n",
    "# tuple with mixed datatypes\n",
    "my_tuple = (1, \"Hello\", 3.4)\n",
    "print(my_tuple)\n",
    "\n",
    "# nested tuple\n",
    "my_tuple = (\"mouse\", [8, 4, 6], (1, 2, 3))\n",
    "print(my_tuple)\n",
    "len(my_tuple)"
   ]
  },
  {
   "cell_type": "markdown",
   "id": "64e77454",
   "metadata": {},
   "source": [
    "In the above example, we have created different types of tuples and stored different data items inside them.\n",
    "\n",
    "As mentioned earlier, we can also create tuples without using parentheses:\n",
    "\n",
    "my_tuple = 1, 2, 3\n",
    "\n",
    "my_tuple = 1, \"Hello\", 3.4"
   ]
  },
  {
   "cell_type": "markdown",
   "id": "d55a73b7",
   "metadata": {},
   "source": [
    "# Create a Python Tuple With one Element\n",
    "\n",
    "In Python, creating a tuple with one element is a bit tricky. Having one element within parentheses is not enough.\n",
    "\n",
    "We will need a trailing comma to indicate that it is a tuple,"
   ]
  },
  {
   "cell_type": "code",
   "execution_count": null,
   "id": "85960148",
   "metadata": {},
   "outputs": [],
   "source": [
    "var1 = (\"Hello\") # string\n",
    "var2 = (\"Hello\",) # tuple"
   ]
  },
  {
   "cell_type": "markdown",
   "id": "6334a8c7",
   "metadata": {},
   "source": [
    "We can use the type() function to know which class a variable or a value belongs to."
   ]
  },
  {
   "cell_type": "code",
   "execution_count": null,
   "id": "e175334d",
   "metadata": {},
   "outputs": [],
   "source": [
    "var1 = (\"hello\")\n",
    "print(type(var1))  # <class 'str'>\n",
    "\n",
    "# Creating a tuple having one element\n",
    "var2 = (\"hello\",)\n",
    "print(type(var2))  # <class 'tuple'>\n",
    "\n",
    "# Parentheses is optional\n",
    "var3 = \"hello\",\n",
    "print(type(var3))  # <class 'tuple'>\n",
    "type(var3)"
   ]
  },
  {
   "cell_type": "markdown",
   "id": "c82d2f3a",
   "metadata": {},
   "source": [
    "Here,\n",
    "\n",
    "(\"hello\") is a string so type() returns str as class of var1 i.e. <class 'str'>\n",
    "\n",
    "(\"hello\",) and \"hello\", both are tuples so type() returns tuple as class of var2 n var3 i.e. <class 'tuple'>"
   ]
  },
  {
   "cell_type": "markdown",
   "id": "98912513",
   "metadata": {},
   "source": [
    "# Access Python Tuple Elements\n",
    "\n",
    "Like a list, each element of a tuple is represented by index numbers (0, 1, ...) where the first element is at index 0.\n",
    "\n",
    "We use the index number to access tuple elements. For example,\n",
    "\n",
    "1. Indexing\n",
    "\n",
    "We can use the index operator [] to access an item in a tuple, where the index starts from 0.\n",
    "\n",
    "So, a tuple having 6 elements will have indices from 0 to 5. \n",
    "Trying to access an index outside of the tuple index range( 6,7,... in this example) will raise an IndexError.\n",
    "\n",
    "The index must be an integer, so we cannot use float or other types. This will result in TypeError.\n",
    "\n",
    "Likewise, nested tuples are accessed using nested indexing, as shown in the example below."
   ]
  },
  {
   "cell_type": "code",
   "execution_count": null,
   "id": "007a8674",
   "metadata": {},
   "outputs": [],
   "source": [
    "# accessing tuple elements using indexing\n",
    "letters = (\"p\", \"r\", \"o\", \"g\", \"r\", \"a\", \"m\", \"i\", \"z\")\n",
    "\n",
    "print(letters[0])   # prints \"p\" \n",
    "print(letters[5])   # prints \"a\""
   ]
  },
  {
   "cell_type": "markdown",
   "id": "771ddafb",
   "metadata": {},
   "source": [
    "In the above example,\n",
    "\n",
    "letters[0] - accesses the first element\n",
    "letters[5] - accesses the sixth element"
   ]
  },
  {
   "cell_type": "markdown",
   "id": "1bf7f554",
   "metadata": {},
   "source": [
    "# 2. Negative Indexing\n",
    "\n",
    "Python allows negative indexing for its sequences.\n",
    "\n",
    "The index of -1 refers to the last item, -2 to the second last item and so on. For example,"
   ]
  },
  {
   "cell_type": "code",
   "execution_count": null,
   "id": "ec8bc48b",
   "metadata": {},
   "outputs": [],
   "source": [
    "# accessing tuple elements using negative indexing\n",
    "letters = ('p', 'r', 'o', 'g', 'r', 'a', 'm', 'i', 'z')\n",
    "\n",
    "print(letters[-1])   # prints 'z' \n",
    "print(letters[-3])   # prints 'm'"
   ]
  },
  {
   "cell_type": "markdown",
   "id": "1b0df242",
   "metadata": {},
   "source": [
    "In the above example,\n",
    "\n",
    "letters[-1] - accesses last element\n",
    "letters[-3] - accesses third last element"
   ]
  },
  {
   "cell_type": "markdown",
   "id": "898bb81e",
   "metadata": {},
   "source": [
    "# 3. Slicing\n",
    "\n",
    "We can access a range of items in a tuple by using the slicing operator colon :"
   ]
  },
  {
   "cell_type": "code",
   "execution_count": null,
   "id": "9ddee0a3",
   "metadata": {},
   "outputs": [],
   "source": [
    "# accessing tuple elements using slicing\n",
    "my_tuple = ('p', 'r', 'o', 'g', 'r', 'a', 'm', 'i', 'z')\n",
    "\n",
    "# elements 2nd to 4th index\n",
    "print(my_tuple[1:4])  #  prints ('r', 'o', 'g')\n",
    "\n",
    "# elements beginning to 2nd\n",
    "print(my_tuple[:-7]) # prints ('p', 'r')\n",
    "\n",
    "# elements 8th to end\n",
    "print(my_tuple[7:]) # prints ('i', 'z')\n",
    "\n",
    "# elements beginning to end\n",
    "print(my_tuple[:]) # Prints ('p', 'r', 'o', 'g', 'r', 'a', 'm', 'i', 'z')"
   ]
  },
  {
   "cell_type": "markdown",
   "id": "28642649",
   "metadata": {},
   "source": [
    "Here,\n",
    "\n",
    "my_tuple[1:4] returns a tuple with elements from index 1 to index 3.\n",
    "\n",
    "my_tuple[:-7] returns a tuple with elements from beginning to index 2.\n",
    "\n",
    "my_tuple[7:] returns a tuple with elements from index 7 to the end.\n",
    "\n",
    "my_tuple[:] returns all tuple items.\n",
    "\n",
    "Note: When we slice lists, the start index is inclusive but the end index is exclusive."
   ]
  },
  {
   "cell_type": "markdown",
   "id": "200ec18e",
   "metadata": {},
   "source": [
    "# Python Tuple Methods\n",
    "\n",
    "In Python ,methods that add items or remove items are not available with tuple. Only the following two methods are available.\n",
    "\n",
    "Some examples of Python tuple methods:"
   ]
  },
  {
   "cell_type": "code",
   "execution_count": null,
   "id": "d04a0889",
   "metadata": {},
   "outputs": [],
   "source": [
    "my_tuple = ('a', 'p', 'p', 'l', 'e',)\n",
    "\n",
    "print(my_tuple.count('p'))  # prints 2\n",
    "print(my_tuple.index('l'))  # prints 3"
   ]
  },
  {
   "cell_type": "markdown",
   "id": "5ba091fd",
   "metadata": {},
   "source": [
    "Here,\n",
    "\n",
    "my_tuple.count('p') - counts total number of 'p' in my_tuple\n",
    "\n",
    "my_tuple.index('l') - returns the first occurrence of 'l' in my_tuple"
   ]
  },
  {
   "cell_type": "markdown",
   "id": "bd95d875",
   "metadata": {},
   "source": [
    "# Iterating through a Tuple in Python\n",
    "\n",
    "We can use the for loop to iterate over the elements of a tuple. For example,"
   ]
  },
  {
   "cell_type": "code",
   "execution_count": null,
   "id": "ea36cf85",
   "metadata": {},
   "outputs": [],
   "source": [
    "languages = ('Python', 'Swift', 'C++')\n",
    "\n",
    "# iterating through the tuple\n",
    "for language in languages:\n",
    "    print(language)"
   ]
  },
  {
   "cell_type": "markdown",
   "id": "5f4c8fb9",
   "metadata": {},
   "source": [
    "# Check if an Item Exists in the Python Tuple\n",
    "\n",
    "We use the in keyword to check if an item exists in the tuple or not. For example,"
   ]
  },
  {
   "cell_type": "code",
   "execution_count": null,
   "id": "c19bd248",
   "metadata": {},
   "outputs": [],
   "source": [
    "languages = ('Python', 'Swift', 'C++')\n",
    "\n",
    "print('C' in languages)    # False\n",
    "print('Python' in languages)    # True"
   ]
  },
  {
   "cell_type": "markdown",
   "id": "8aaa79a0",
   "metadata": {},
   "source": [
    "Here,\n",
    "\n",
    "'C' is not present in languages, 'C' in languages evaluates to False.\n",
    "\n",
    "'Python' is present in languages, 'Python' in languages evaluates to True."
   ]
  },
  {
   "cell_type": "markdown",
   "id": "04dce18a",
   "metadata": {},
   "source": [
    "# Advantages of Tuple over List in Python\n",
    "\n",
    "Since tuples are quite similar to lists, both of them are used in similar situations.\n",
    "\n",
    "However, there are certain advantages of implementing a tuple over a list:\n",
    "\n",
    "Since tuples are immutable, iterating through a tuple is faster than with a list. So there is a slight performance boost.\n",
    "\n",
    "Tuples that contain immutable elements can be used as a key for a dictionary. With lists, this is not possible.\n",
    "\n",
    "If you have data that doesn't change, implementing it as tuple will guarantee that it remains write-protected."
   ]
  },
  {
   "cell_type": "markdown",
   "id": "a0d401d0",
   "metadata": {},
   "source": [
    "# Python Strings"
   ]
  },
  {
   "cell_type": "markdown",
   "id": "181f2418",
   "metadata": {},
   "source": [
    "In computer programming, a string is a sequence of characters. For example, \n",
    "\"hello\" is a string containing a sequence of characters 'h', 'e', 'l', 'l', and 'o'.\n",
    "\n",
    "We use single quotes or double quotes to represent a string in Python. For example,"
   ]
  },
  {
   "cell_type": "code",
   "execution_count": null,
   "id": "db1a2ff6",
   "metadata": {},
   "outputs": [],
   "source": [
    "# create a string using double quotes\n",
    "string1 = \"Python programming\"\n",
    "print(string1)\n",
    "\n",
    "# create a string using single quotes\n",
    "string1 = 'Python programming'\n",
    "print(string1)"
   ]
  },
  {
   "cell_type": "markdown",
   "id": "1b020c32",
   "metadata": {},
   "source": [
    "Here, we have created a string variable named string1. The variable is initialized with the string Python Programming."
   ]
  },
  {
   "cell_type": "markdown",
   "id": "0d5dd26c",
   "metadata": {},
   "source": [
    "# Example: Python String"
   ]
  },
  {
   "cell_type": "code",
   "execution_count": null,
   "id": "9e5b7f16",
   "metadata": {},
   "outputs": [],
   "source": [
    "# create string type variables\n",
    "\n",
    "name = \"Python\"\n",
    "print(name)\n",
    "\n",
    "message = \"I love Python.\"\n",
    "print(message)"
   ]
  },
  {
   "cell_type": "markdown",
   "id": "8790a683",
   "metadata": {},
   "source": [
    "In the above example, we have created string-type variables: name and \n",
    "message with values \"Python\" and \"I love Python\" respectively.\n",
    "\n",
    "Here, we have used double quotes to represent strings but we can use single quotes too."
   ]
  },
  {
   "cell_type": "markdown",
   "id": "61fecc77",
   "metadata": {},
   "source": [
    "# Access String Characters in Python\n",
    "\n",
    "We can access the characters in a string in three ways.\n",
    "\n",
    "Indexing: One way is to treat strings as a list and use index values. For example,"
   ]
  },
  {
   "cell_type": "code",
   "execution_count": null,
   "id": "974ac526",
   "metadata": {},
   "outputs": [],
   "source": [
    "greet = 'hello'\n",
    "\n",
    "# access 1st index element\n",
    "print(greet[1]) # \"e\""
   ]
  },
  {
   "cell_type": "markdown",
   "id": "53f3f23b",
   "metadata": {},
   "source": [
    "# Negative Indexing: Similar to a list, Python allows negative indexing for its strings. \n",
    "\n",
    "For example,\n"
   ]
  },
  {
   "cell_type": "code",
   "execution_count": null,
   "id": "2f1efa45",
   "metadata": {
    "scrolled": true
   },
   "outputs": [],
   "source": [
    "greet = 'hello'\n",
    "\n",
    "# access 4th last element\n",
    "print(greet[-4]) # \"e\""
   ]
  },
  {
   "cell_type": "markdown",
   "id": "aa9336a7",
   "metadata": {},
   "source": [
    "Slicing: Access a range of characters in a string by using the slicing operator colon :. For example,"
   ]
  },
  {
   "cell_type": "code",
   "execution_count": null,
   "id": "60cfced7",
   "metadata": {},
   "outputs": [],
   "source": [
    "greet = 'Hello'\n",
    "\n",
    "# access character from 1st index to 3rd index\n",
    "print(greet[1:4])  # \"ell\""
   ]
  },
  {
   "cell_type": "markdown",
   "id": "4d0687ff",
   "metadata": {},
   "source": [
    "Note: If we try to access an index out of the range or use numbers other than an integer, we will get errors.\n",
    "\n",
    "# Python Strings are immutable\n",
    "\n",
    "In Python, strings are immutable. That means the characters of a string cannot be changed. For example,"
   ]
  },
  {
   "cell_type": "code",
   "execution_count": null,
   "id": "2e26e2af",
   "metadata": {},
   "outputs": [],
   "source": [
    "message = 'Wola Amigos'\n",
    "#message = \"pranav\"\n",
    "message[0] = 'H'\n",
    "print(message)"
   ]
  },
  {
   "cell_type": "markdown",
   "id": "b26edda5",
   "metadata": {},
   "source": [
    "TypeError: 'str' object does not support item assignment\n",
    "    \n",
    "However, we can assign a new string the variable name. \n",
    "\n",
    "For example,"
   ]
  },
  {
   "cell_type": "code",
   "execution_count": null,
   "id": "ba5e2c07",
   "metadata": {},
   "outputs": [],
   "source": [
    "message = 'Hola Amigos'\n",
    "\n",
    "# assign new string to message variable\n",
    "message = 'Hello Friends'\n",
    "\n",
    "print(message); # prints \"Hello Friends\""
   ]
  },
  {
   "cell_type": "markdown",
   "id": "11f54ce0",
   "metadata": {},
   "source": [
    "# \n",
    "Python Multiline String\n",
    "We can also create a multiline string in Python. For this, \n",
    "we use triple double quotes \"\"\" or triple single quotes '''. For example,"
   ]
  },
  {
   "cell_type": "code",
   "execution_count": null,
   "id": "f2b06388",
   "metadata": {},
   "outputs": [],
   "source": [
    "# multiline string \n",
    "message = \"\"\"\n",
    "Never gonna give you up\n",
    "Never gonna let you down\n",
    "\"\"\"\n",
    "\n",
    "print(message)"
   ]
  },
  {
   "cell_type": "markdown",
   "id": "542da8f5",
   "metadata": {},
   "source": [
    "In the above example, anything inside the enclosing triple-quotes is one multiline string.\n",
    "\n"
   ]
  },
  {
   "cell_type": "markdown",
   "id": "a7106cec",
   "metadata": {},
   "source": [
    "# Python String Operations\n",
    "There are many operations that can be performed with strings which makes it one of the most used data types in Python.\n",
    "\n",
    "1. Compare Two Strings\n",
    "\n",
    "We use the == operator to compare two strings. If two strings are equal, \n",
    "the operator returns True. Otherwise, it returns False. For example,"
   ]
  },
  {
   "cell_type": "code",
   "execution_count": null,
   "id": "1589b115",
   "metadata": {},
   "outputs": [],
   "source": [
    "str1 = \"Hello, world!\"\n",
    "str2 = \"I love Python.\"\n",
    "str3 = \"Hello, world!\"\n",
    "\n",
    "# compare str1 and str2\n",
    "print(str1 == str2)\n",
    "\n",
    "# compare str1 and str3\n",
    "print(str1 == str3)"
   ]
  },
  {
   "cell_type": "markdown",
   "id": "e329c2c4",
   "metadata": {},
   "source": [
    "In the above example,\n",
    "\n",
    "str1 and str2 are not equal. Hence, the result is False.\n",
    "\n",
    "str1 and str3 are equal. Hence, the result is True."
   ]
  },
  {
   "cell_type": "markdown",
   "id": "a2511c2f",
   "metadata": {},
   "source": [
    "2. Join Two or More Strings\n",
    "\n",
    "In Python, we can join (concatenate) two or more strings using the + operator."
   ]
  },
  {
   "cell_type": "code",
   "execution_count": null,
   "id": "5fdf9cf5",
   "metadata": {},
   "outputs": [],
   "source": [
    "greet = \"Hello,\"\n",
    "name = \" Jack\"\n",
    "\n",
    "# using + operator\n",
    "result = greet + name\n",
    "print(result)\n",
    "\n",
    "# Output: Hello, Jack"
   ]
  },
  {
   "cell_type": "markdown",
   "id": "9c112774",
   "metadata": {},
   "source": [
    "In the above example, we have used the + operator to join two strings: greet and name."
   ]
  },
  {
   "cell_type": "markdown",
   "id": "0c0e5d4b",
   "metadata": {},
   "source": [
    "# Iterate Through a Python String\n",
    "\n",
    "We can iterate through a string using a for loop. For example,"
   ]
  },
  {
   "cell_type": "code",
   "execution_count": null,
   "id": "019e7deb",
   "metadata": {},
   "outputs": [],
   "source": [
    "greet = 'world'\n",
    "\n",
    "# iterating through greet string\n",
    "for letter in greet:\n",
    "    print(letter)"
   ]
  },
  {
   "cell_type": "markdown",
   "id": "484f5917",
   "metadata": {},
   "source": [
    "# Python String Length\n",
    "\n",
    "In Python, we use the len() method to find the length of a string. For example,"
   ]
  },
  {
   "cell_type": "code",
   "execution_count": null,
   "id": "6eb3f9e7",
   "metadata": {},
   "outputs": [],
   "source": [
    "greet = 'Hello'\n",
    "\n",
    "# count length of greet string\n",
    "print(len(greet))\n",
    "\n",
    "# Output: 5"
   ]
  },
  {
   "cell_type": "markdown",
   "id": "6a35ebe6",
   "metadata": {},
   "source": [
    "# String Membership Test\n",
    "\n",
    "We can test if a substring exists within a string or not, using the keyword in."
   ]
  },
  {
   "cell_type": "code",
   "execution_count": null,
   "id": "9fe1f4ab",
   "metadata": {},
   "outputs": [],
   "source": [
    "print('a' in 'program') # True\n",
    "print('at' not in 'battle') #False"
   ]
  },
  {
   "cell_type": "markdown",
   "id": "2fd76d37",
   "metadata": {},
   "source": [
    "# Methods of Python String\n",
    "\n",
    "Besides those mentioned above, there are various string methods present in Python. Here are some of those methods:\n",
    "\n",
    "Methods\tDescription\n",
    "\n",
    "upper()\tconverts the string to uppercase\n",
    "\n",
    "lower()\tconverts the string to lowercase\n",
    "\n",
    "partition()\treturns a tuple\n",
    "\n",
    "replace()\treplaces substring inside\n",
    "\n",
    "find()\treturns the index of first occurrence of substring\n",
    "\n",
    "rstrip()\tremoves trailing characters\n",
    "\n",
    "split()\tsplits string from left\n",
    "\n",
    "startswith()\tchecks if string starts with the specified string\n",
    "\n",
    "isnumeric()\tchecks numeric characters\n",
    "\n",
    "index()\treturns index of substring"
   ]
  },
  {
   "cell_type": "markdown",
   "id": "bd2b63f5",
   "metadata": {},
   "source": [
    "# Python String Formatting (f-Strings)\n",
    "\n",
    "Python f-Strings make it really easy to print values and variables. For example,"
   ]
  },
  {
   "cell_type": "code",
   "execution_count": null,
   "id": "0c1ce6da",
   "metadata": {},
   "outputs": [],
   "source": [
    "name = 'Cathy'\n",
    "country = 'UK'\n",
    "age = 35\n",
    "\n",
    "#print(name,country,age)\n",
    "\n",
    "print(f'{name} is from {country} and his age is {age}')"
   ]
  },
  {
   "cell_type": "markdown",
   "id": "7b43d885",
   "metadata": {},
   "source": [
    "Here, f'{name} is from {country}' is an f-string.\n",
    "\n",
    "This new formatting syntax is powerful and easy to use. From now on, we will use f-Strings to print strings and variables."
   ]
  },
  {
   "cell_type": "markdown",
   "id": "21639252",
   "metadata": {},
   "source": [
    "# Python Sets"
   ]
  },
  {
   "cell_type": "markdown",
   "id": "98e6a4bc",
   "metadata": {},
   "source": [
    "A set is a collection of unique data. That is, elements of a set cannot be duplicate. For example,\n",
    "\n",
    "Suppose we want to store information about student IDs. Since student IDs cannot be duplicate, we can use a set."
   ]
  },
  {
   "cell_type": "markdown",
   "id": "bc033691",
   "metadata": {},
   "source": [
    "# Create a Set in Python\n",
    "In Python, we create sets by placing all the elements inside curly braces {}, separated by comma.\n",
    "\n",
    "A set can have any number of items and they may be of different types (integer, float, tuple, string etc.).\n",
    "But a set cannot have mutable elements like lists, sets or dictionaries as its elements.\n",
    "\n",
    "Let's see an example,"
   ]
  },
  {
   "cell_type": "code",
   "execution_count": null,
   "id": "60faf316",
   "metadata": {},
   "outputs": [],
   "source": [
    "# create a set of integer type\n",
    "student_id = {112, 114, 116, 118, 115}\n",
    "print('Student ID:', student_id)\n",
    "\n",
    "# create a set of string type\n",
    "vowel_letters = {'a', 'e', 'i', 'o', 'u'}\n",
    "print('Vowel Letters:', vowel_letters)\n",
    "\n",
    "# create a set of mixed data types\n",
    "mixed_set = {'Hello', 101, -2, 'Bye'}\n",
    "print('Set of mixed data types:', mixed_set)"
   ]
  },
  {
   "cell_type": "markdown",
   "id": "898f966a",
   "metadata": {},
   "source": [
    "In the above example, we have created different types of sets by placing all the elements inside the curly braces {}.\n",
    "\n",
    "Note: When you run this code, you might get output in a different order. This is because the set has no particular order."
   ]
  },
  {
   "cell_type": "markdown",
   "id": "9f6f313c",
   "metadata": {},
   "source": [
    "# Create an Empty Set in Python\n",
    "\n",
    "Creating an empty set is a bit tricky. Empty curly braces {} will make an empty dictionary in Python.\n",
    "\n",
    "To make a set without any elements, we use the set() function without any argument. For example,"
   ]
  },
  {
   "cell_type": "code",
   "execution_count": null,
   "id": "e6a9172f",
   "metadata": {},
   "outputs": [],
   "source": [
    "# create an empty set\n",
    "empty_set = set()\n",
    "\n",
    "# create an empty dictionary\n",
    "empty_dictionary = { }\n",
    "\n",
    "\n",
    "print(empty_set)\n",
    "\n",
    "print(\"\\n\")\n",
    "\n",
    "print(empty_dictionary)\n",
    "\n",
    "print(\"\\n\")\n",
    "# check data type of empty_set\n",
    "print('Data type of empty_set:', type(empty_set))\n",
    "\n",
    "# check data type of dictionary_set\n",
    "print('Data type of empty_dictionary', type(empty_dictionary))"
   ]
  },
  {
   "cell_type": "markdown",
   "id": "4809b2cf",
   "metadata": {},
   "source": [
    "Here,\n",
    "\n",
    "empty_set - an empty set created using set()\n",
    "empty_dictionary - an empty dictionary created using {}\n",
    "Finally we have used the type() function to know which class empty_set and empty_dictionary belong to.\n",
    "\n",
    "# Duplicate Items in a Set\n",
    "\n",
    "Let's see what will happen if we try to include duplicate items in a set."
   ]
  },
  {
   "cell_type": "code",
   "execution_count": null,
   "id": "7e64758d",
   "metadata": {},
   "outputs": [],
   "source": [
    "numbers = {22, 44, 6, 6, 22, 8,9,10,11,9}\n",
    "print(numbers)   # {8, 2, 4, 6}"
   ]
  },
  {
   "cell_type": "markdown",
   "id": "ba2c1e4d",
   "metadata": {},
   "source": [
    "Here, we can see there are no duplicate items in the set as a set cannot contain duplicates.\n",
    "\n",
    "# Add and Update Set Items in Python"
   ]
  },
  {
   "cell_type": "markdown",
   "id": "b99c4732",
   "metadata": {},
   "source": [
    "Sets are mutable. However, since they are unordered, indexing has no meaning.\n",
    "\n",
    "We cannot access or change an element of a set using indexing or slicing. Set data type does not support it.\n",
    "\n",
    "# Add Items to a Set in Python\n",
    "\n",
    "In Python, we use the add() method to add an item to a set. For example,"
   ]
  },
  {
   "cell_type": "code",
   "execution_count": null,
   "id": "2787496a",
   "metadata": {},
   "outputs": [],
   "source": [
    "numbers = {21, 34, 54, 12}\n",
    "\n",
    "print('Initial Set:',numbers)\n",
    "\n",
    "# using add() method\n",
    "numbers.add(32)\n",
    "numbers.add(35)\n",
    "\n",
    "\n",
    "print('Updated Set:', numbers) "
   ]
  },
  {
   "cell_type": "markdown",
   "id": "7619c8af",
   "metadata": {},
   "source": [
    "# Update Python Set\n",
    "\n",
    "The update() method is used to update the set with items other collection types (lists, tuples, sets, etc). For example,"
   ]
  },
  {
   "cell_type": "code",
   "execution_count": null,
   "id": "9243ae5a",
   "metadata": {},
   "outputs": [],
   "source": [
    "companies = {'Lacoste', 'Ralph Lauren'}\n",
    "tech_companies = ['apple', 'google', 'apple']\n",
    "\n",
    "companies.update(tech_companies)\n",
    "\n",
    "print(companies)\n",
    "\n",
    "# Output: {'google', 'apple', 'Lacoste', 'Ralph Lauren'}"
   ]
  },
  {
   "cell_type": "markdown",
   "id": "e10da6bc",
   "metadata": {},
   "source": [
    "Here, all the unique elements of tech_companies are added to the companies set."
   ]
  },
  {
   "cell_type": "markdown",
   "id": "16291ad1",
   "metadata": {},
   "source": [
    "# Remove an Element from a Set\n",
    "\n",
    "We use the discard() method to remove the specified element from a set. For example,"
   ]
  },
  {
   "cell_type": "code",
   "execution_count": null,
   "id": "c8666ec4",
   "metadata": {},
   "outputs": [],
   "source": [
    "languages = {'Swift', 'Java', 'Python'}\n",
    "\n",
    "print('Initial Set:',languages)\n",
    "\n",
    "# remove 'Java' from a set\n",
    "removedValue = languages.discard('Java')\n",
    "\n",
    "print('Set after remove():', languages)"
   ]
  },
  {
   "cell_type": "markdown",
   "id": "5d6e1937",
   "metadata": {},
   "source": [
    "Here, we have used the discard() method to remove 'Java' from the languages set."
   ]
  },
  {
   "cell_type": "markdown",
   "id": "d06e2997",
   "metadata": {},
   "source": [
    "# Built-in Functions with Set\n",
    "\n",
    "Built-in functions like all(), any(), enumerate(), len(), max(), min(), sorted(), sum() etc. \n",
    "are commonly used with sets to perform different tasks.\n",
    "\n",
    "Function\tDescription\n",
    "\n",
    "all()\tReturns True if all elements of the set are true (or if the set is empty).\n",
    "\n",
    "any()\tReturns True if any element of the set is true. If the set is empty, returns False.\n",
    "\n",
    "enumerate()\tReturns an enumerate object. It contains the index and value for all the items of the set as a pair.\n",
    "\n",
    "len()\tReturns the length (the number of items) in the set.\n",
    "\n",
    "max()\tReturns the largest item in the set.\n",
    "\n",
    "min()\tReturns the smallest item in the set.\n",
    "\n",
    "sorted()\tReturns a new sorted list from elements in the set(does not sort the set itself).\n",
    "\n",
    "sum()\tReturns the sum of all elements in the set."
   ]
  },
  {
   "cell_type": "markdown",
   "id": "bbb69222",
   "metadata": {},
   "source": [
    "# Iterate Over a Set in Python"
   ]
  },
  {
   "cell_type": "code",
   "execution_count": null,
   "id": "0cf4cb55",
   "metadata": {},
   "outputs": [],
   "source": [
    "fruits = {\"Apple\", \"Peach\", \"Mango\"}\n",
    "\n",
    "# for loop to access each fruits\n",
    "for fruit in fruits: \n",
    "    print(fruit)"
   ]
  },
  {
   "cell_type": "markdown",
   "id": "6410acc2",
   "metadata": {},
   "source": [
    "# Find Number of Set Elements\n",
    "\n",
    "We can use the len() method to find the number of elements present in a Set. For example,"
   ]
  },
  {
   "cell_type": "code",
   "execution_count": null,
   "id": "6a681ed0",
   "metadata": {},
   "outputs": [],
   "source": [
    "even_numbers = {2,4,6,8}\n",
    "print('Set:',even_numbers)\n",
    "\n",
    "# find number of elements\n",
    "print('Total Elements:', len(even_numbers))"
   ]
  },
  {
   "cell_type": "markdown",
   "id": "39d8bb67",
   "metadata": {},
   "source": [
    "Here, we have used the len() method to find the number of elements present in a Set."
   ]
  },
  {
   "cell_type": "markdown",
   "id": "92eeb086",
   "metadata": {},
   "source": [
    "# Python Set Operations\n",
    "\n",
    "Python Set provides different built-in methods to perform mathematical set operations like union, \n",
    "intersection, subtraction, and symmetric difference.\n",
    "\n",
    "Union of Two Sets\n",
    "The union of two sets A and B include all the elements of set A and B."
   ]
  },
  {
   "cell_type": "markdown",
   "id": "176d6ea1",
   "metadata": {},
   "source": [
    "We use the | operator or the union() method to perform the set union operation. For example,"
   ]
  },
  {
   "cell_type": "code",
   "execution_count": null,
   "id": "d013f607",
   "metadata": {},
   "outputs": [],
   "source": [
    "# first set\n",
    "A = {1, 3, 5}\n",
    "\n",
    "# second set\n",
    "B = {0, 2, 4}\n",
    "\n",
    "# perform union operation using |\n",
    "print('Union using |:', A | B)\n",
    "\n",
    "# perform union operation using union()\n",
    "print('Union using union():', A.union(B)) "
   ]
  },
  {
   "cell_type": "markdown",
   "id": "e4a7ecce",
   "metadata": {},
   "source": [
    "Note: A|B and union() is equivalent to A ⋃ B set operation."
   ]
  },
  {
   "cell_type": "markdown",
   "id": "58411119",
   "metadata": {},
   "source": [
    "# Set Intersection\n",
    "\n",
    "The intersection of two sets A and B include the common elements between set A and B."
   ]
  },
  {
   "cell_type": "markdown",
   "id": "cebc5e04",
   "metadata": {},
   "source": [
    "In Python, we use the & operator or the intersection() method to perform the set intersection operation. For example,"
   ]
  },
  {
   "cell_type": "code",
   "execution_count": null,
   "id": "4cacb2fc",
   "metadata": {},
   "outputs": [],
   "source": [
    "# first set\n",
    "A = {1, 3, 5}\n",
    "\n",
    "# second set\n",
    "B = {1, 2, 3}\n",
    "\n",
    "# perform intersection operation using &\n",
    "print('Intersection using &:', A & B)\n",
    "\n",
    "# perform intersection operation using intersection()\n",
    "print('Intersection using intersection():', A.intersection(B)) "
   ]
  },
  {
   "cell_type": "markdown",
   "id": "011a2988",
   "metadata": {},
   "source": [
    "Note: A&B and intersection() is equivalent to A ⋂ B set operation."
   ]
  },
  {
   "cell_type": "markdown",
   "id": "073f0081",
   "metadata": {},
   "source": [
    "# Difference between Two Sets\n",
    "\n",
    "The difference between two sets A and B include elements of set A that are not present on set B."
   ]
  },
  {
   "cell_type": "markdown",
   "id": "b16dfc36",
   "metadata": {},
   "source": [
    "We use the - operator or the difference() method to perform the difference between two sets. For example,"
   ]
  },
  {
   "cell_type": "code",
   "execution_count": null,
   "id": "4ce4449f",
   "metadata": {},
   "outputs": [],
   "source": [
    "# first set\n",
    "A = {2, 3, 5}\n",
    "\n",
    "# second set\n",
    "B = {1, 2, 6}\n",
    "\n",
    "# perform difference operation using -\n",
    "print('Difference using -:', B - A)\n",
    "\n",
    "# perform difference operation using difference()\n",
    "print('Difference using difference():', B.difference(A)) "
   ]
  },
  {
   "cell_type": "markdown",
   "id": "083ed1fe",
   "metadata": {},
   "source": [
    "Note: A - B and A.difference(B) is equivalent to A - B set operation."
   ]
  },
  {
   "cell_type": "markdown",
   "id": "a4b23f99",
   "metadata": {},
   "source": [
    "# Set Symmetric Difference\n",
    "\n",
    "The symmetric difference between two sets A and B includes all elements of A and B without the common elements.\n",
    "\n",
    "In Python, we use the ^ operator or the symmetric_difference() method to perform symmetric difference between two sets. \n",
    "\n",
    "For example,"
   ]
  },
  {
   "cell_type": "code",
   "execution_count": null,
   "id": "41a7a7e7",
   "metadata": {},
   "outputs": [],
   "source": [
    "# first set\n",
    "A = {2, 3, 5}\n",
    "\n",
    "# second set\n",
    "B = {1, 2, 6}\n",
    "\n",
    "# perform difference operation using ^\n",
    "print('using ^:', A ^ B)\n",
    "\n",
    "# using symmetric_difference()\n",
    "print('using symmetric_difference():', A.symmetric_difference(B)) "
   ]
  },
  {
   "cell_type": "markdown",
   "id": "722a8e02",
   "metadata": {},
   "source": [
    "# Check if two sets are equal\n",
    "\n",
    "We can use the == operator to check whether two sets are equal or not. For example,"
   ]
  },
  {
   "cell_type": "code",
   "execution_count": null,
   "id": "ac08f986",
   "metadata": {},
   "outputs": [],
   "source": [
    "# first set\n",
    "A = {1, 3, 5}\n",
    "\n",
    "# second set\n",
    "B = {3, 5, 1}\n",
    "\n",
    "# perform difference operation using ==\n",
    "if A == B:\n",
    "    print('Set A and Set B are equal')\n",
    "else:\n",
    "    print('Set A and Set B are not equal')"
   ]
  },
  {
   "cell_type": "markdown",
   "id": "610eac2e",
   "metadata": {},
   "source": [
    "In the above example, A and B have the same elements, so the condition\n",
    "\n",
    "if A == B\n",
    "\n",
    "evaluates to True. Hence, the statement print('Set A and Set B are equal') inside the if is executed."
   ]
  },
  {
   "cell_type": "markdown",
   "id": "84ae4411",
   "metadata": {},
   "source": [
    "# Other Python Set Methods\n",
    "\n",
    "There are many set methods, some of which we have already used above. \n",
    "Here is a list of all the methods that are available with the set objects:\n",
    "\n",
    "Method\tDescription\n",
    "\n",
    "add()\tAdds an element to the set\n",
    "\n",
    "clear()\tRemoves all elements from the set\n",
    "\n",
    "copy()\tReturns a copy of the set\n",
    "\n",
    "difference()\tReturns the difference of two or more sets as a new set\n",
    "\n",
    "difference_update()\tRemoves all elements of another set from this set\n",
    "\n",
    "discard()\tRemoves an element from the set if it is a member. (Do nothing if the element is not in set)\n",
    "\n",
    "intersection()\tReturns the intersection of two sets as a new set\n",
    "\n",
    "intersection_update()\tUpdates the set with the intersection of itself and another\n",
    "\n",
    "isdisjoint()\tReturns True if two sets have a null intersection\n",
    "\n",
    "issubset()\tReturns True if another set contains this set\n",
    "\n",
    "issuperset()\tReturns True if this set contains another set\n",
    "\n",
    "pop()\tRemoves and returns an arbitrary set element. Raises KeyError if the set is empty\n",
    "\n",
    "remove()\tRemoves an element from the set. If the element is not a member, raises a KeyError\n",
    "\n",
    "symmetric_difference()\tReturns the symmetric difference of two sets as a new set\n",
    "\n",
    "symmetric_difference_update()\tUpdates a set with the symmetric difference of itself and another\n",
    "\n",
    "union()\tReturns the union of sets in a new set\n",
    "\n",
    "update()\tUpdates the set with the union of itself and others"
   ]
  },
  {
   "cell_type": "markdown",
   "id": "8803dc79",
   "metadata": {},
   "source": [
    "# Python Dictionary"
   ]
  },
  {
   "cell_type": "markdown",
   "id": "9c9ef6cb",
   "metadata": {},
   "source": [
    "Python dictionary is an ordered collection (starting from Python 3.7) of items. \n",
    "It stores elements in key/value pairs. Here, keys are unique identifiers that are associated with each value.\n",
    "\n",
    "Let's see an example,\n",
    "\n",
    "If we want to store information about countries and their capitals, \n",
    "we can create a dictionary with country names as keys and capitals as values.\n",
    "\n",
    "Keys\tValues\n",
    "\n",
    "Nepal\tKathmandu\n",
    "\n",
    "Italy\tRome\n",
    "\n",
    "England\tLondon\n"
   ]
  },
  {
   "cell_type": "markdown",
   "id": "50d52a98",
   "metadata": {},
   "source": [
    "# Create a dictionary in Python\n",
    "\n",
    "Here's how we can create a dictionary in Python."
   ]
  },
  {
   "cell_type": "code",
   "execution_count": null,
   "id": "3ec29afd",
   "metadata": {},
   "outputs": [],
   "source": [
    "capital_city = {\"Nepal\": \"Kathmandu\", \"Italy\": \"Rome\", \"England\": \"London\"}\n",
    "print(capital_city)"
   ]
  },
  {
   "cell_type": "markdown",
   "id": "8e9a871f",
   "metadata": {},
   "source": [
    "In the above example, we have created a dictionary named capital_city. Here,\n",
    "\n",
    "Keys are \"Nepal\", \"Italy\", \"England\"\n",
    "\n",
    "Values are \"Kathmandu\", \"Rome\", \"London\"\n",
    "\n",
    "Note: Here, keys and values both are of string type. We can also have keys and values of different data types."
   ]
  },
  {
   "cell_type": "markdown",
   "id": "cf489a90",
   "metadata": {},
   "source": [
    "# Example 1: Python Dictionary"
   ]
  },
  {
   "cell_type": "code",
   "execution_count": null,
   "id": "8f4b3a7e",
   "metadata": {},
   "outputs": [],
   "source": [
    "# dictionary with keys and values of different data types\n",
    "numbers = {1: \"One\", 2: \"Two\", 3: \"Three\"}\n",
    "print(numbers)"
   ]
  },
  {
   "cell_type": "markdown",
   "id": "ef8dd447",
   "metadata": {},
   "source": [
    "In the above example, we have created a dictionary named numbers. Here, keys are of integer type and values are of string type."
   ]
  },
  {
   "cell_type": "markdown",
   "id": "a4d7ff98",
   "metadata": {},
   "source": [
    "# Add Elements to a Python Dictionary\n",
    "\n",
    "We can add elements to a dictionary using the name of the dictionary with []. For example,"
   ]
  },
  {
   "cell_type": "code",
   "execution_count": null,
   "id": "8a90fef1",
   "metadata": {},
   "outputs": [],
   "source": [
    "capital_city = {\"Nepal\": \"Kathmandu\", \"England\": \"London\"}\n",
    "print(\"Initial Dictionary: \",capital_city)\n",
    "\n",
    "capital_city[\"Japan\"] = \"Tokyo\"\n",
    "\n",
    "print(\"Updated Dictionary: \",capital_city)"
   ]
  },
  {
   "cell_type": "markdown",
   "id": "669440bb",
   "metadata": {},
   "source": [
    "In the above example, we have created a dictionary named capital_city. Notice the line,\n",
    "\n",
    "capital_city[\"Japan\"] = \"Tokyo\"\n",
    "\n",
    "Here, we have added a new element to capital_city with key: Japan and value: Tokyo."
   ]
  },
  {
   "cell_type": "markdown",
   "id": "f1398049",
   "metadata": {},
   "source": [
    "# Change Value of Dictionary"
   ]
  },
  {
   "cell_type": "code",
   "execution_count": null,
   "id": "74cbf683",
   "metadata": {},
   "outputs": [],
   "source": [
    "student_id = {111: \"Eric\", 112: \"Kyle\", 113: \"Butters\"}\n",
    "print(\"Initial Dictionary: \", student_id)\n",
    "\n",
    "student_id[112] = \"Stan\"\n",
    "\n",
    "print(\"Updated Dictionary: \", student_id)"
   ]
  },
  {
   "cell_type": "markdown",
   "id": "4663bb34",
   "metadata": {},
   "source": [
    "In the above example, we have created a dictionary named student_id. Initially, the value associated with the key 112 is \"Kyle\". \n",
    "Now, notice the line,\n",
    "\n",
    "student_id[112] = \"Stan\"\n",
    "\n",
    "Here, we have changed the value associated with the key 112 to \"Stan\"."
   ]
  },
  {
   "cell_type": "markdown",
   "id": "356b8bf9",
   "metadata": {},
   "source": [
    "# Accessing Elements from Dictionary\n",
    "\n",
    "In Python, we use the keys to access their corresponding values. For example,"
   ]
  },
  {
   "cell_type": "code",
   "execution_count": null,
   "id": "cfe73eda",
   "metadata": {},
   "outputs": [],
   "source": [
    "student_id = {111: \"Eric\", 112: \"Kyle\", 113: \"Butters\"}\n",
    "\n",
    "print(student_id[111])  # prints Eric\n",
    "print(student_id[113])  # prints Butters"
   ]
  },
  {
   "cell_type": "markdown",
   "id": "4ea86d35",
   "metadata": {},
   "source": [
    "Here, we have used the keys to access their corresponding values.\n",
    "\n",
    "If we try to access the value of a key that doesn't exist, we'll get an error. For example,"
   ]
  },
  {
   "cell_type": "code",
   "execution_count": null,
   "id": "3bde658b",
   "metadata": {},
   "outputs": [],
   "source": [
    "student_id = {111: \"Eric\", 112: \"Kyle\", 113: \"Butters\"}\n",
    "print(student_id[211])  \n",
    "\n",
    "# Output: KeyError: 211"
   ]
  },
  {
   "cell_type": "markdown",
   "id": "f354130a",
   "metadata": {},
   "source": [
    "# Removing elements from Dictionary\n",
    "\n",
    "We use the del statement to remove an element from the dictionary. For example,"
   ]
  },
  {
   "cell_type": "code",
   "execution_count": null,
   "id": "a00b601b",
   "metadata": {},
   "outputs": [],
   "source": [
    "student_id = {111: \"Eric\", 112: \"Kyle\", 113: \"Butters\"}\n",
    "\n",
    "print(\"Initial Dictionary: \", student_id)\n",
    "\n",
    "del student_id[111]\n",
    "\n",
    "print(\"Updated Dictionary \", student_id)"
   ]
  },
  {
   "cell_type": "markdown",
   "id": "63244b9f",
   "metadata": {},
   "source": [
    "Here, we have created a dictionary named student_id. Notice the code,\n",
    "\n",
    "del student_id[111]\n",
    "\n",
    "The del statement removes the element associated with the key 111.\n",
    "\n",
    "We can also delete the whole dictionary using the del statement,"
   ]
  },
  {
   "cell_type": "code",
   "execution_count": null,
   "id": "e7dca25d",
   "metadata": {},
   "outputs": [],
   "source": [
    "student_id = {111: \"Eric\", 112: \"Kyle\", 113: \"Butters\"}\n",
    "\n",
    "# delete student_id dictionary\n",
    "del student_id\n",
    "\n",
    "print(student_id)\n",
    "\n",
    "# Output: NameError: name 'student_id' is not defined"
   ]
  },
  {
   "cell_type": "markdown",
   "id": "539c3aca",
   "metadata": {},
   "source": [
    "We are getting an error message because we have deleted the student_id dictionary and student_id doesn't exist anymore."
   ]
  },
  {
   "cell_type": "markdown",
   "id": "f3f28f49",
   "metadata": {},
   "source": [
    "# Python Dictionary Methods\n",
    "\n",
    "Methods that are available with a dictionary are tabulated below. Some of them have already been used in the above examples.\n",
    "\n",
    "Function\tDescription\n",
    "\n",
    "all()\tReturn True if all keys of the dictionary are True (or if the dictionary is empty).\n",
    "\n",
    "any()\tReturn True if any key of the dictionary is true. If the dictionary is empty, return False.\n",
    "\n",
    "len()\tReturn the length (the number of items) in the dictionary.\n",
    "\n",
    "sorted()\tReturn a new sorted list of keys in the dictionary.\n",
    "\n",
    "clear()\tRemoves all items from the dictionary.\n",
    "\n",
    "keys()\tReturns a new object of the dictionary's keys.\n",
    "\n",
    "values()\tReturns a new object of the dictionary's values"
   ]
  },
  {
   "cell_type": "markdown",
   "id": "919f170f",
   "metadata": {},
   "source": [
    "# Dictionary Membership Test\n",
    "We can test if a key is in a dictionary or not using the keyword in. \n",
    "Notice that the membership test is only for the keys and not for the values."
   ]
  },
  {
   "cell_type": "code",
   "execution_count": null,
   "id": "0cc0aa6b",
   "metadata": {},
   "outputs": [],
   "source": [
    "# Membership Test for Dictionary Keys\n",
    "squares = {1: 1, 3: 9, 5: 25, 7: 49, 9: 81}\n",
    "\n",
    "# Output: True\n",
    "print(1 in squares) # prints True\n",
    "\n",
    "print(2 not in squares) # prints True\n",
    "\n",
    "# membership tests for key only not value\n",
    "print(49 in squares) # prints false"
   ]
  },
  {
   "cell_type": "markdown",
   "id": "bcf9e6a5",
   "metadata": {},
   "source": [
    "# Iterating Through a Dictionary\n",
    "\n",
    "We can iterate through each key in a dictionary using a for loop."
   ]
  },
  {
   "cell_type": "code",
   "execution_count": null,
   "id": "ec5e42f6",
   "metadata": {},
   "outputs": [],
   "source": [
    "# Iterating through a Dictionary\n",
    "squares = {1: 1, 3: 9, 5: 25, 7: 49, 9: 81}\n",
    "for i in squares:\n",
    "    print(squares[i])"
   ]
  },
  {
   "cell_type": "code",
   "execution_count": null,
   "id": "f9a9ab67",
   "metadata": {},
   "outputs": [],
   "source": [
    "#More examples\n",
    "\n",
    "#This type of problem\n",
    "num = 10\n",
    "\n",
    "while num > 5:\n",
    "    print(num,end= ' ')\n",
    "    \n",
    "    num = num - 1\n",
    "    if num == 8:\n",
    "        num = 2"
   ]
  },
  {
   "cell_type": "code",
   "execution_count": null,
   "id": "27198662",
   "metadata": {},
   "outputs": [],
   "source": [
    "for letter in 'cloudyml':\n",
    "    if (letter == 'c') or (letter == 'o'):\n",
    "        print('m', end= ' ')\n",
    "    else:\n",
    "        print(letter,end= 'x')"
   ]
  },
  {
   "cell_type": "code",
   "execution_count": null,
   "id": "e311ca21",
   "metadata": {},
   "outputs": [],
   "source": []
  }
 ],
 "metadata": {
  "kernelspec": {
   "display_name": "Python 3 (ipykernel)",
   "language": "python",
   "name": "python3"
  },
  "language_info": {
   "codemirror_mode": {
    "name": "ipython",
    "version": 3
   },
   "file_extension": ".py",
   "mimetype": "text/x-python",
   "name": "python",
   "nbconvert_exporter": "python",
   "pygments_lexer": "ipython3",
   "version": "3.9.7"
  }
 },
 "nbformat": 4,
 "nbformat_minor": 5
}
